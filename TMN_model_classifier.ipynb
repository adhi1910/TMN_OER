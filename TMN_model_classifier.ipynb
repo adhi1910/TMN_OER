{
 "cells": [
  {
   "cell_type": "code",
   "execution_count": 1,
   "metadata": {
    "colab": {
     "base_uri": "https://localhost:8080/"
    },
    "id": "WQOFibEeCesH",
    "outputId": "51f7f4e1-c3d6-4551-8b64-9e2fd3564def"
   },
   "outputs": [],
   "source": [
    "!pip install catboost shap -qqq "
   ]
  },
  {
   "cell_type": "code",
   "execution_count": 108,
   "metadata": {
    "id": "O0SD8G7BLvcp"
   },
   "outputs": [],
   "source": [
    "seed = 0\n",
    "\n",
    "import pandas as pd\n",
    "import numpy as np\n",
    "import seaborn as sns\n",
    "import matplotlib.pyplot as plt\n",
    "pd.set_option('display.max_columns', 55)"
   ]
  },
  {
   "cell_type": "markdown",
   "metadata": {
    "id": "dHkAVa_l57ug"
   },
   "source": [
    "## Data loading"
   ]
  },
  {
   "cell_type": "code",
   "execution_count": 109,
   "metadata": {
    "id": "pPDo24szL92e"
   },
   "outputs": [],
   "source": [
    "def load_data():\n",
    "    df = pd.read_csv(\"540_data.csv\")\n",
    "    convert_dict = {\n",
    "                    \"pH\": float,\n",
    "                    'Catalyst Loading (mg/cm2)': float,\n",
    "                    \"Presence of atoms (other than TMs)\" : float,\n",
    "                    \"Average d electrons\": float,\n",
    "                    'Overpotential (mV)': float\n",
    "                }\n",
    "\n",
    "    df = df.astype(convert_dict)\n",
    "    df = df.drop([\"Compound\"], axis=1)\n",
    "    return df"
   ]
  },
  {
   "cell_type": "markdown",
   "metadata": {
    "id": "eAC-ZRKuE3La"
   },
   "source": [
    "## Pre *processing*"
   ]
  },
  {
   "cell_type": "code",
   "execution_count": 110,
   "metadata": {
    "id": "isFKVTg8L3qo"
   },
   "outputs": [],
   "source": [
    "atomicMassMap = {\n",
    "    'cobalt': 64,\n",
    "    'nickel': 59,\n",
    "    'iron': 56,\n",
    "    \"molybdenum\": 96,\n",
    "    'manganese': 55,\n",
    "    \"copper\": 64,\n",
    "    \"zinc\": 65,\n",
    "    \"chromium\": 52,\n",
    "    \"vanadium\": 51,\n",
    "    \"tungsten\": 184,\n",
    "    \"titanium\": 48,\n",
    "    \"iridium\": 192\n",
    "}"
   ]
  },
  {
   "cell_type": "code",
   "execution_count": 111,
   "metadata": {
    "id": "Lr12m2yNL_yC"
   },
   "outputs": [],
   "source": [
    "def mulitply_number_of_atoms_to_its_mass_number():\n",
    "    for col in df.columns:\n",
    "        if col.lower().split(' ')[0] in atomicMassMap:\n",
    "            df[col] = df[col].values.astype(float) * atomicMassMap[col.lower().split(' ')[0]]"
   ]
  },
  {
   "cell_type": "code",
   "execution_count": 112,
   "metadata": {
    "id": "4NxKB8JqFEZb"
   },
   "outputs": [],
   "source": [
    "def find_and_handle_missing_values(model_name):\n",
    "    print(\"Missing values columns:\", list(df.columns[df.isnull().any()]))\n",
    "\n",
    "    if model_name != \"catboost\":\n",
    "        df['Catalyst Loading (mg/cm2)'].fillna(df['Catalyst Loading (mg/cm2)'].mean() , inplace = True)\n",
    "        df[\"Average d electrons\"].fillna(df['Average d electrons'].mean() , inplace = True)"
   ]
  },
  {
   "cell_type": "markdown",
   "metadata": {
    "id": "vxDI1pmRE_tX"
   },
   "source": [
    "## Data analysis"
   ]
  },
  {
   "cell_type": "code",
   "execution_count": 113,
   "metadata": {
    "id": "NxrZC6fyE4bN"
   },
   "outputs": [],
   "source": [
    "def get_number_of_features():\n",
    "\n",
    "    training_features = df.columns[0:-1]\n",
    "    continuous_features = []\n",
    "    categorical_features = []\n",
    "\n",
    "    for col in training_features:\n",
    "        if df[col].dtypes == float:\n",
    "            continuous_features.append(col)\n",
    "        else:\n",
    "            categorical_features.append(col)\n",
    "\n",
    "    total_number_of_features = len(training_features)\n",
    "    print(\"Total number of training features: \", total_number_of_features) \n",
    "\n",
    "    print(\"Number of continuous variables:\", len(continuous_features))\n",
    "    print(\"Continuous features:\", continuous_features)\n",
    "\n",
    "    print(\"Number of categorical variables: \", len(categorical_features))\n",
    "    print(\"Categorical features:\", categorical_features)\n",
    "\n",
    "    return training_features, continuous_features, categorical_features"
   ]
  },
  {
   "cell_type": "code",
   "execution_count": 114,
   "metadata": {
    "id": "Iqk-FX14FCp_"
   },
   "outputs": [],
   "source": [
    "def categorical_features_count_plot(categorical_features):\n",
    "    unique, counts = np.unique(df['overpotential_grades'].values, return_counts=True)\n",
    "    sns.countplot(x=\"overpotential_grades\", data=df)"
   ]
  },
  {
   "cell_type": "code",
   "execution_count": 115,
   "metadata": {
    "id": "J-tXhEq9Bdff"
   },
   "outputs": [],
   "source": [
    "def plot_correlation(data):\n",
    "    plt.subplots(figsize=(16,16))\n",
    "    dataplot = sns.heatmap(data.corr(), cmap=\"YlGnBu\", annot=True)\n",
    "    plt.show()"
   ]
  },
  {
   "cell_type": "markdown",
   "metadata": {
    "id": "cHFxoRoBFQVe"
   },
   "source": [
    "## Train test split"
   ]
  },
  {
   "cell_type": "code",
   "execution_count": 116,
   "metadata": {
    "id": "-ArMhgzqMFFn"
   },
   "outputs": [],
   "source": [
    "from sklearn.model_selection import train_test_split"
   ]
  },
  {
   "cell_type": "code",
   "execution_count": 117,
   "metadata": {
    "id": "UxGWkEBtFXth"
   },
   "outputs": [],
   "source": [
    "def split_data_into_train_test():\n",
    "    x = df.values[:, 0:-1]\n",
    "    y = df.values[:, -1]\n",
    "\n",
    "    x_train, x_test, y_train, y_test = train_test_split(\n",
    "        x, y, test_size=0.2, random_state = seed, stratify=y\n",
    "    )\n",
    "    return x_train, x_test, y_train, y_test"
   ]
  },
  {
   "cell_type": "code",
   "execution_count": 118,
   "metadata": {
    "id": "vozGgnFg4iKt"
   },
   "outputs": [],
   "source": [
    "def train_and_test_split():\n",
    "    x_train, x_test, y_train, y_test = split_data_into_train_test()\n",
    "\n",
    "    print(x_train[0])\n",
    "    print(y_train[0])\n",
    "    print(type(x_train), type(y_train))\n",
    "    print(\"number of train data: \", len(y_train))\n",
    "    print(\"number of test data: \", len(y_test))\n",
    "\n",
    "    return x_train, y_train, x_test, y_test"
   ]
  },
  {
   "cell_type": "markdown",
   "metadata": {
    "id": "qxbKCzve6IN5"
   },
   "source": [
    "## Error **analysis**"
   ]
  },
  {
   "cell_type": "code",
   "execution_count": 119,
   "metadata": {
    "id": "E8rzCBdwGFIf"
   },
   "outputs": [],
   "source": [
    "from sklearn.metrics import accuracy_score, classification_report, confusion_matrix\n",
    "\n",
    "\n",
    "def get_metrics(model, x_test, y_test):\n",
    "\n",
    "    y_pred = model.predict(x_test)\n",
    "    y_prob_pred = model.predict_proba(x_test)\n",
    "    cf_matrix = confusion_matrix(y_test, y_pred, labels = grades)\n",
    "    accuracy = accuracy_score(y_test, y_pred )\n",
    "    class_report = classification_report(y_test, y_pred)\n",
    "    \n",
    "    return accuracy, cf_matrix, class_report"
   ]
  },
  {
   "cell_type": "code",
   "execution_count": 120,
   "metadata": {
    "id": "loVc0V8wUreX"
   },
   "outputs": [],
   "source": [
    "def get_feature_importance_from_trained_model(model):\n",
    "\n",
    "    feature_importance = model.feature_importances_\n",
    "    sorted_idx = np.argsort(feature_importance)\n",
    "\n",
    "    return feature_importance, sorted_idx"
   ]
  },
  {
   "cell_type": "code",
   "execution_count": 121,
   "metadata": {
    "id": "J70CeGW85aaP"
   },
   "outputs": [],
   "source": [
    "def plot_feature_importance(feature_importance, sorted_idx):\n",
    "    fig = plt.figure(figsize=(20, 10))\n",
    "    plt.barh(range(len(sorted_idx)), feature_importance[sorted_idx], align='center')\n",
    "    plt.yticks(range(len(sorted_idx)), training_features[sorted_idx])\n",
    "    plt.title('Feature Importance')"
   ]
  },
  {
   "cell_type": "markdown",
   "metadata": {
    "id": "mEBcRKiF7b_C"
   },
   "source": [
    "## Encoding cat_features"
   ]
  },
  {
   "cell_type": "code",
   "execution_count": 122,
   "metadata": {
    "id": "SVJinVhX34t6"
   },
   "outputs": [],
   "source": [
    "from sklearn.preprocessing import LabelEncoder\n",
    "\n",
    "def encode_categorical_features(df):\n",
    "    types_of_compounds = list(df['Compound Class'].value_counts().keys())\n",
    "    types_of_substrates = list(df['Substrates'].value_counts().keys())\n",
    "    \n",
    "    labelencoder = LabelEncoder()\n",
    "    df['Compound Class']= labelencoder.fit_transform(df['Compound Class'])\n",
    "    df['Substrates']= labelencoder.fit_transform(df['Substrates'])\n",
    "\n",
    "    compound_encoding_labels = {}\n",
    "    a1 = list(df['Compound Class'].value_counts().keys())\n",
    "    for i in range(len(a1)):\n",
    "        compound_encoding_labels[types_of_compounds[i]] = a1[i]\n",
    "\n",
    "    substrate_encoding_labels = {}\n",
    "    a2 = list(df['Substrates'].value_counts().keys())\n",
    "    for i in range(len(a2)):\n",
    "        substrate_encoding_labels[types_of_substrates[i]] = a2[i]\n",
    "\n",
    "    return compound_encoding_labels, substrate_encoding_labels"
   ]
  },
  {
   "cell_type": "code",
   "execution_count": 123,
   "metadata": {
    "id": "C5JdAr7ZUDyy"
   },
   "outputs": [],
   "source": [
    "def get_overpotential_grades(overpotential):\n",
    "\n",
    "    overpotential_grades = []\n",
    "    grades = [\"A\", \"F\"]\n",
    "\n",
    "    for potential in overpotential:\n",
    "        if potential < 351:\n",
    "            overpotential_grades.append('A')\n",
    "\n",
    "        else:\n",
    "            overpotential_grades.append('F')\n",
    "\n",
    "    return overpotential_grades, grades"
   ]
  },
  {
   "cell_type": "markdown",
   "metadata": {
    "id": "VL34Im9U7EV0"
   },
   "source": [
    "## Random forest"
   ]
  },
  {
   "cell_type": "code",
   "execution_count": 124,
   "metadata": {
    "colab": {
     "base_uri": "https://localhost:8080/",
     "height": 626
    },
    "id": "dJQFjo-c7GnB",
    "outputId": "51591bc1-b8f4-489d-abb0-0aaa1a4a3f8b"
   },
   "outputs": [
    {
     "name": "stdout",
     "output_type": "stream",
     "text": [
      "Shape of data: (540, 28)\n",
      "(array(['A', 'F'], dtype=object), array([358, 182], dtype=int64))\n",
      "{'Co': 0, 'Ni': 2, 'Fe': 1, 'Other TMs': 3} {'GC': 0, 'NF': 1, 'carbon_based': 3, 'TM_based': 2}\n",
      "Total number of training features:  27\n",
      "Number of continuous variables: 16\n",
      "Continuous features: ['Presence of atoms (other than TMs)', 'Cobalt atoms', 'Nickel atoms', 'Iron atoms', 'Molybdenum atoms', 'Manganese atoms', 'Copper atoms', 'Zinc atoms', 'Chromium Atoms', 'Vanadium Atoms', 'Tungsten atoms', 'Titanium atoms', 'Average d electrons', 'pH', 'Concentration Electrolyte', 'Catalyst Loading (mg/cm2)']\n",
      "Number of categorical variables:  11\n",
      "Categorical features: ['Compound Class', 'Composite (Y or N)', 'Oxided or nitrided', 'Presence of Carbon', 'Carbon Structures', 'N-doped Carbon Structure (0 or 1)', 'Doping (other than TMs)', 'Morphology Category', 'Grown on', 'Porous - 1, Non-Porous - 0', 'Substrates']\n",
      "Missing values columns: ['Average d electrons', 'Catalyst Loading (mg/cm2)']\n"
     ]
    },
    {
     "data": {
      "image/png": "[encoded data removed]",
      "text/plain": [
       "<Figure size 432x288 with 1 Axes>"
      ]
     },
     "metadata": {
      "needs_background": "light"
     },
     "output_type": "display_data"
    }
   ],
   "source": [
    "df = load_data()\n",
    "\n",
    "print(\"Shape of data:\", df.shape)\n",
    "\n",
    "mulitply_number_of_atoms_to_its_mass_number()\n",
    "overpotential_grades, grades = get_overpotential_grades(df[\"Overpotential (mV)\"])\n",
    "df['overpotential_grades'] = overpotential_grades\n",
    "df = df.drop([\"Overpotential (mV)\"], axis=1)\n",
    "print(np.unique(df['overpotential_grades'].values, return_counts=True))\n",
    "\n",
    "compound_encoding_labels, substrate_encoding_labels = encode_categorical_features(df)\n",
    "print(compound_encoding_labels, substrate_encoding_labels)\n",
    "\n",
    "training_features, continuous_features, categorical_features = get_number_of_features()\n",
    "\n",
    "model_name = \"random_forest\"\n",
    "find_and_handle_missing_values(model_name)\n",
    "df.to_csv(\"df_after_filling_missing_values.csv\")\n",
    "categorical_features_count_plot(categorical_features)"
   ]
  },
  {
   "cell_type": "code",
   "execution_count": 125,
   "metadata": {
    "colab": {
     "base_uri": "https://localhost:8080/"
    },
    "id": "14ZFnr0f-7MG",
    "outputId": "afc265f0-4a9a-44aa-dce2-c12afc2f32d0"
   },
   "outputs": [
    {
     "name": "stdout",
     "output_type": "stream",
     "text": [
      "[1 1 0 0 0 0 0 7 1 1 1 0.0 0.0 0.0 112.0 0.0 0.0 0.0 0.0 0.0 0.0 0.0 0.0\n",
      " 3.911740569508767 14.0 1.0 0.05]\n",
      "F\n",
      "<class 'numpy.ndarray'> <class 'numpy.ndarray'>\n",
      "number of train data:  432\n",
      "number of test data:  108\n"
     ]
    }
   ],
   "source": [
    "x_train, y_train, x_test, y_test = train_and_test_split()"
   ]
  },
  {
   "cell_type": "code",
   "execution_count": 126,
   "metadata": {
    "colab": {
     "base_uri": "https://localhost:8080/",
     "height": 164
    },
    "id": "8jq6CXwJ82rM",
    "outputId": "0cab48f9-08c7-4825-ebeb-e8b76e5ff165"
   },
   "outputs": [
    {
     "data": {
      "text/plain": [
       "RandomForestClassifier(class_weight='balanced', max_depth=20,\n",
       "                       min_samples_leaf=2, n_estimators=300, random_state=0)"
      ]
     },
     "execution_count": 126,
     "metadata": {},
     "output_type": "execute_result"
    }
   ],
   "source": [
    "from sklearn.ensemble import RandomForestClassifier\n",
    "from sklearn.model_selection import RandomizedSearchCV, cross_val_score\n",
    "\n",
    "rf = RandomForestClassifier(random_state=seed, n_estimators=300,class_weight=\"balanced\", max_depth=20, min_samples_leaf=2, min_samples_split=2, max_features=\"auto\")\n",
    "rf.fit(x_train, y_train)"
   ]
  },
  {
   "cell_type": "code",
   "execution_count": 127,
   "metadata": {
    "colab": {
     "base_uri": "https://localhost:8080/"
    },
    "id": "GSEmD0fk_ZBw",
    "outputId": "459df3da-014a-4af1-cb0f-6a91f4a055c1"
   },
   "outputs": [
    {
     "name": "stdout",
     "output_type": "stream",
     "text": [
      "accuracy_score:  0.7870370370370371\n",
      "classification_report: \n",
      "               precision    recall  f1-score   support\n",
      "\n",
      "           A       0.84      0.85      0.84        72\n",
      "           F       0.69      0.67      0.68        36\n",
      "\n",
      "    accuracy                           0.79       108\n",
      "   macro avg       0.76      0.76      0.76       108\n",
      "weighted avg       0.79      0.79      0.79       108\n",
      "\n"
     ]
    },
    {
     "data": {
      "text/plain": [
       "<matplotlib.axes._subplots.AxesSubplot at 0x18315b8a160>"
      ]
     },
     "execution_count": 127,
     "metadata": {},
     "output_type": "execute_result"
    },
    {
     "data": {
      "image/png": "[encoded data removed]",
      "text/plain": [
       "<Figure size 432x288 with 2 Axes>"
      ]
     },
     "metadata": {
      "needs_background": "light"
     },
     "output_type": "display_data"
    }
   ],
   "source": [
    "accuracy, cf_matrix, class_report = get_metrics(rf, x_test, y_test)\n",
    "print(\"accuracy_score: \", accuracy)\n",
    "print(\"classification_report: \\n\", class_report)\n",
    "sns.heatmap(cf_matrix, annot = True, xticklabels = grades, yticklabels = grades, cmap = 'Blues')"
   ]
  },
  {
   "cell_type": "code",
   "execution_count": 128,
   "metadata": {
    "colab": {
     "base_uri": "https://localhost:8080/",
     "height": 730
    },
    "id": "fbkt8i0Msper",
    "outputId": "b0456fcc-a12c-4ff0-8339-f12a89d10e61"
   },
   "outputs": [
    {
     "name": "stdout",
     "output_type": "stream",
     "text": [
      "[3.26971682e-02 3.76514845e-02 3.61727828e-02 1.43860683e-02\n",
      " 2.92694917e-02 1.33417125e-02 1.72054181e-02 6.91479578e-02\n",
      " 6.41204474e-02 5.14207848e-02 7.03329326e-02 2.17226899e-02\n",
      " 6.91631558e-02 5.12916893e-02 5.70504963e-02 1.00828466e-02\n",
      " 1.18711676e-02 1.67611863e-03 1.40224627e-02 9.65886389e-03\n",
      " 5.57750971e-03 2.78117941e-05 6.89482350e-03 1.13624188e-01\n",
      " 2.23830985e-02 2.58323046e-02 1.43374525e-01] [21 17 20 22 19 15 16  5 18  3  6 11 24 25  4  0  2  1 13  9 14  8  7 12\n",
      " 10 23 26]\n"
     ]
    },
    {
     "data": {
      "image/png": "[encoded data removed]",
      "text/plain": [
       "<Figure size 1440x720 with 1 Axes>"
      ]
     },
     "metadata": {
      "needs_background": "light"
     },
     "output_type": "display_data"
    }
   ],
   "source": [
    "feature_importance, sorted_idx = get_feature_importance_from_trained_model(rf)\n",
    "plot_feature_importance(feature_importance, sorted_idx)\n",
    "print(feature_importance, sorted_idx)"
   ]
  },
  {
   "cell_type": "code",
   "execution_count": 129,
   "metadata": {
    "id": "AI1tmITztG5Q"
   },
   "outputs": [],
   "source": [
    "import shap\n",
    "\n",
    "explainer = shap.TreeExplainer(rf)\n",
    "shap_values = explainer.shap_values(x_test)"
   ]
  },
  {
   "cell_type": "code",
   "execution_count": 130,
   "metadata": {
    "colab": {
     "base_uri": "https://localhost:8080/",
     "height": 957
    },
    "id": "W5nHZ7NqhGi_",
    "outputId": "0d49e3d4-b82d-4f19-e182-f5f6096dcc1a"
   },
   "outputs": [
    {
     "data": {
      "image/png": "[encoded data removed]",
      "text/plain": [
       "<Figure size 576x684 with 1 Axes>"
      ]
     },
     "metadata": {
      "needs_background": "light"
     },
     "output_type": "display_data"
    }
   ],
   "source": [
    "shap.summary_plot(shap_values, x_test, feature_names = training_features)"
   ]
  },
  {
   "cell_type": "markdown",
   "metadata": {
    "id": "WaWhfXpvFhXu"
   },
   "source": [
    "## Catboost"
   ]
  },
  {
   "cell_type": "code",
   "execution_count": 131,
   "metadata": {
    "id": "PjsM-H6jMG-7"
   },
   "outputs": [],
   "source": [
    "from catboost import CatBoostClassifier, Pool"
   ]
  },
  {
   "cell_type": "code",
   "execution_count": 144,
   "metadata": {
    "id": "afZukLj797eZ"
   },
   "outputs": [],
   "source": [
    "def create_train_pool():\n",
    "    cat_cols = [0,1,2,3,4,5,6,7,8,9,10]\n",
    "\n",
    "    train_pool = Pool(\n",
    "            x_train,\n",
    "            y_train,\n",
    "            cat_features=cat_cols\n",
    "    )\n",
    "    return train_pool"
   ]
  },
  {
   "cell_type": "code",
   "execution_count": 145,
   "metadata": {
    "id": "5ZdicRZ10xJ5"
   },
   "outputs": [],
   "source": [
    "def define_model_parameters():\n",
    "\n",
    "    model = CatBoostClassifier(\n",
    "    iterations=1000,\n",
    "    depth=5,\n",
    "    random_seed= seed,\n",
    "    )\n",
    "\n",
    "    eval_set = [(x_train, y_train), (x_test, y_test)]\n",
    "    return eval_set, model"
   ]
  },
  {
   "cell_type": "code",
   "execution_count": 146,
   "metadata": {
    "colab": {
     "base_uri": "https://localhost:8080/"
    },
    "id": "N_Hb_-6J2zUm",
    "outputId": "8fcc77cb-4e36-4370-ea09-e4aed4af0ba2"
   },
   "outputs": [
    {
     "name": "stdout",
     "output_type": "stream",
     "text": [
      "Learning rate set to 0.025756\n",
      "0:\tlearn: 0.6873869\ttest: 0.6877614\ttest1: 0.6872623\tbest: 0.6872623 (0)\ttotal: 31.8ms\tremaining: 31.7s\n",
      "1:\tlearn: 0.6832022\ttest: 0.6835743\ttest1: 0.6823613\tbest: 0.6823613 (1)\ttotal: 58.7ms\tremaining: 29.3s\n",
      "2:\tlearn: 0.6767449\ttest: 0.6771568\ttest1: 0.6757960\tbest: 0.6757960 (2)\ttotal: 90.9ms\tremaining: 30.2s\n",
      "3:\tlearn: 0.6713520\ttest: 0.6717657\ttest1: 0.6700932\tbest: 0.6700932 (3)\ttotal: 113ms\tremaining: 28s\n",
      "4:\tlearn: 0.6639227\ttest: 0.6642731\ttest1: 0.6640334\tbest: 0.6640334 (4)\ttotal: 148ms\tremaining: 29.5s\n",
      "5:\tlearn: 0.6570346\ttest: 0.6572920\ttest1: 0.6577216\tbest: 0.6577216 (5)\ttotal: 187ms\tremaining: 30.9s\n",
      "6:\tlearn: 0.6516259\ttest: 0.6514822\ttest1: 0.6504620\tbest: 0.6504620 (6)\ttotal: 233ms\tremaining: 33s\n",
      "7:\tlearn: 0.6442559\ttest: 0.6439187\ttest1: 0.6417808\tbest: 0.6417808 (7)\ttotal: 271ms\tremaining: 33.6s\n",
      "8:\tlearn: 0.6403875\ttest: 0.6400638\ttest1: 0.6379113\tbest: 0.6379113 (8)\ttotal: 299ms\tremaining: 32.9s\n",
      "9:\tlearn: 0.6355482\ttest: 0.6350630\ttest1: 0.6340358\tbest: 0.6340358 (9)\ttotal: 325ms\tremaining: 32.2s\n",
      "10:\tlearn: 0.6293879\ttest: 0.6288252\ttest1: 0.6299222\tbest: 0.6299222 (10)\ttotal: 354ms\tremaining: 31.8s\n",
      "11:\tlearn: 0.6266582\ttest: 0.6261081\ttest1: 0.6272387\tbest: 0.6272387 (11)\ttotal: 367ms\tremaining: 30.2s\n",
      "12:\tlearn: 0.6222964\ttest: 0.6218906\ttest1: 0.6233609\tbest: 0.6233609 (12)\ttotal: 405ms\tremaining: 30.8s\n",
      "13:\tlearn: 0.6170480\ttest: 0.6167173\ttest1: 0.6181558\tbest: 0.6181558 (13)\ttotal: 434ms\tremaining: 30.5s\n",
      "14:\tlearn: 0.6116601\ttest: 0.6114206\ttest1: 0.6140798\tbest: 0.6140798 (14)\ttotal: 464ms\tremaining: 30.4s\n",
      "15:\tlearn: 0.6068704\ttest: 0.6064922\ttest1: 0.6102326\tbest: 0.6102326 (15)\ttotal: 497ms\tremaining: 30.6s\n",
      "16:\tlearn: 0.6058262\ttest: 0.6054578\ttest1: 0.6091489\tbest: 0.6091489 (16)\ttotal: 505ms\tremaining: 29.2s\n",
      "17:\tlearn: 0.6036786\ttest: 0.6033327\ttest1: 0.6069248\tbest: 0.6069248 (17)\ttotal: 523ms\tremaining: 28.6s\n",
      "18:\tlearn: 0.5997702\ttest: 0.5997523\ttest1: 0.6026631\tbest: 0.6026631 (18)\ttotal: 550ms\tremaining: 28.4s\n",
      "19:\tlearn: 0.5961813\ttest: 0.5957745\ttest1: 0.5996634\tbest: 0.5996634 (19)\ttotal: 599ms\tremaining: 29.3s\n",
      "20:\tlearn: 0.5932911\ttest: 0.5923967\ttest1: 0.5969599\tbest: 0.5969599 (20)\ttotal: 642ms\tremaining: 29.9s\n",
      "21:\tlearn: 0.5894307\ttest: 0.5883153\ttest1: 0.5937795\tbest: 0.5937795 (21)\ttotal: 685ms\tremaining: 30.4s\n",
      "22:\tlearn: 0.5866628\ttest: 0.5855774\ttest1: 0.5901992\tbest: 0.5901992 (22)\ttotal: 725ms\tremaining: 30.8s\n",
      "23:\tlearn: 0.5806103\ttest: 0.5795140\ttest1: 0.5861646\tbest: 0.5861646 (23)\ttotal: 787ms\tremaining: 32s\n",
      "24:\tlearn: 0.5792988\ttest: 0.5784061\ttest1: 0.5842794\tbest: 0.5842794 (24)\ttotal: 822ms\tremaining: 32s\n",
      "25:\tlearn: 0.5750302\ttest: 0.5745658\ttest1: 0.5808761\tbest: 0.5808761 (25)\ttotal: 867ms\tremaining: 32.5s\n",
      "26:\tlearn: 0.5733639\ttest: 0.5729376\ttest1: 0.5790464\tbest: 0.5790464 (26)\ttotal: 893ms\tremaining: 32.2s\n",
      "27:\tlearn: 0.5700107\ttest: 0.5698132\ttest1: 0.5764444\tbest: 0.5764444 (27)\ttotal: 925ms\tremaining: 32.1s\n",
      "28:\tlearn: 0.5656237\ttest: 0.5654413\ttest1: 0.5730915\tbest: 0.5730915 (28)\ttotal: 962ms\tremaining: 32.2s\n",
      "29:\tlearn: 0.5630099\ttest: 0.5629275\ttest1: 0.5705036\tbest: 0.5705036 (29)\ttotal: 992ms\tremaining: 32.1s\n",
      "30:\tlearn: 0.5612350\ttest: 0.5611003\ttest1: 0.5680593\tbest: 0.5680593 (30)\ttotal: 1.03s\tremaining: 32.3s\n",
      "31:\tlearn: 0.5601181\ttest: 0.5599962\ttest1: 0.5665889\tbest: 0.5665889 (31)\ttotal: 1.05s\tremaining: 31.7s\n",
      "32:\tlearn: 0.5575636\ttest: 0.5577724\ttest1: 0.5643427\tbest: 0.5643427 (32)\ttotal: 1.09s\tremaining: 32.1s\n",
      "33:\tlearn: 0.5543505\ttest: 0.5545512\ttest1: 0.5625783\tbest: 0.5625783 (33)\ttotal: 1.14s\tremaining: 32.3s\n",
      "34:\tlearn: 0.5535649\ttest: 0.5537213\ttest1: 0.5617813\tbest: 0.5617813 (34)\ttotal: 1.16s\tremaining: 32s\n",
      "35:\tlearn: 0.5507455\ttest: 0.5517168\ttest1: 0.5597529\tbest: 0.5597529 (35)\ttotal: 1.2s\tremaining: 32.2s\n",
      "36:\tlearn: 0.5483951\ttest: 0.5496833\ttest1: 0.5576816\tbest: 0.5576816 (36)\ttotal: 1.25s\tremaining: 32.4s\n",
      "37:\tlearn: 0.5449232\ttest: 0.5462401\ttest1: 0.5560563\tbest: 0.5560563 (37)\ttotal: 1.29s\tremaining: 32.6s\n",
      "38:\tlearn: 0.5436163\ttest: 0.5451447\ttest1: 0.5551987\tbest: 0.5551987 (38)\ttotal: 1.34s\tremaining: 33s\n",
      "39:\tlearn: 0.5424325\ttest: 0.5438174\ttest1: 0.5533123\tbest: 0.5533123 (39)\ttotal: 1.38s\tremaining: 33.1s\n",
      "40:\tlearn: 0.5391294\ttest: 0.5411242\ttest1: 0.5516140\tbest: 0.5516140 (40)\ttotal: 1.42s\tremaining: 33.3s\n",
      "41:\tlearn: 0.5352306\ttest: 0.5381063\ttest1: 0.5504287\tbest: 0.5504287 (41)\ttotal: 1.48s\tremaining: 33.7s\n",
      "42:\tlearn: 0.5329602\ttest: 0.5367611\ttest1: 0.5493609\tbest: 0.5493609 (42)\ttotal: 1.52s\tremaining: 33.8s\n",
      "43:\tlearn: 0.5317564\ttest: 0.5358596\ttest1: 0.5483068\tbest: 0.5483068 (43)\ttotal: 1.56s\tremaining: 33.9s\n",
      "44:\tlearn: 0.5301881\ttest: 0.5342800\ttest1: 0.5476952\tbest: 0.5476952 (44)\ttotal: 1.6s\tremaining: 33.9s\n",
      "45:\tlearn: 0.5280772\ttest: 0.5322676\ttest1: 0.5457866\tbest: 0.5457866 (45)\ttotal: 1.64s\tremaining: 34.1s\n",
      "46:\tlearn: 0.5262481\ttest: 0.5304801\ttest1: 0.5441035\tbest: 0.5441035 (46)\ttotal: 1.68s\tremaining: 34.1s\n",
      "47:\tlearn: 0.5259302\ttest: 0.5300404\ttest1: 0.5437814\tbest: 0.5437814 (47)\ttotal: 1.7s\tremaining: 33.7s\n",
      "48:\tlearn: 0.5236215\ttest: 0.5281345\ttest1: 0.5427874\tbest: 0.5427874 (48)\ttotal: 1.73s\tremaining: 33.5s\n",
      "49:\tlearn: 0.5213733\ttest: 0.5258439\ttest1: 0.5416460\tbest: 0.5416460 (49)\ttotal: 1.76s\tremaining: 33.4s\n",
      "50:\tlearn: 0.5206427\ttest: 0.5251382\ttest1: 0.5410582\tbest: 0.5410582 (50)\ttotal: 1.78s\tremaining: 33.2s\n",
      "51:\tlearn: 0.5183249\ttest: 0.5228654\ttest1: 0.5386147\tbest: 0.5386147 (51)\ttotal: 1.81s\tremaining: 33s\n",
      "52:\tlearn: 0.5161075\ttest: 0.5207912\ttest1: 0.5386600\tbest: 0.5386147 (51)\ttotal: 1.84s\tremaining: 32.9s\n",
      "53:\tlearn: 0.5135862\ttest: 0.5182838\ttest1: 0.5376395\tbest: 0.5376395 (53)\ttotal: 1.89s\tremaining: 33.1s\n",
      "54:\tlearn: 0.5117172\ttest: 0.5165027\ttest1: 0.5355578\tbest: 0.5355578 (54)\ttotal: 1.93s\tremaining: 33.2s\n",
      "55:\tlearn: 0.5103222\ttest: 0.5152221\ttest1: 0.5344760\tbest: 0.5344760 (55)\ttotal: 1.98s\tremaining: 33.3s\n",
      "56:\tlearn: 0.5092467\ttest: 0.5143966\ttest1: 0.5340567\tbest: 0.5340567 (56)\ttotal: 2.03s\tremaining: 33.6s\n",
      "57:\tlearn: 0.5080147\ttest: 0.5134111\ttest1: 0.5334079\tbest: 0.5334079 (57)\ttotal: 2.07s\tremaining: 33.7s\n",
      "58:\tlearn: 0.5077492\ttest: 0.5131466\ttest1: 0.5330228\tbest: 0.5330228 (58)\ttotal: 2.09s\tremaining: 33.3s\n",
      "59:\tlearn: 0.5061898\ttest: 0.5114753\ttest1: 0.5322394\tbest: 0.5322394 (59)\ttotal: 2.13s\tremaining: 33.5s\n",
      "60:\tlearn: 0.5055593\ttest: 0.5110289\ttest1: 0.5314053\tbest: 0.5314053 (60)\ttotal: 2.17s\tremaining: 33.5s\n",
      "61:\tlearn: 0.5050022\ttest: 0.5106443\ttest1: 0.5311734\tbest: 0.5311734 (61)\ttotal: 2.21s\tremaining: 33.5s\n",
      "62:\tlearn: 0.5024081\ttest: 0.5083420\ttest1: 0.5300007\tbest: 0.5300007 (62)\ttotal: 2.26s\tremaining: 33.6s\n",
      "63:\tlearn: 0.5007090\ttest: 0.5066373\ttest1: 0.5302904\tbest: 0.5300007 (62)\ttotal: 2.3s\tremaining: 33.6s\n",
      "64:\tlearn: 0.4980923\ttest: 0.5045243\ttest1: 0.5294171\tbest: 0.5294171 (64)\ttotal: 2.34s\tremaining: 33.6s\n",
      "65:\tlearn: 0.4970483\ttest: 0.5036137\ttest1: 0.5292316\tbest: 0.5292316 (65)\ttotal: 2.38s\tremaining: 33.7s\n",
      "66:\tlearn: 0.4962438\ttest: 0.5030383\ttest1: 0.5286092\tbest: 0.5286092 (66)\ttotal: 2.42s\tremaining: 33.7s\n",
      "67:\tlearn: 0.4945116\ttest: 0.5013762\ttest1: 0.5274213\tbest: 0.5274213 (67)\ttotal: 2.46s\tremaining: 33.8s\n",
      "68:\tlearn: 0.4925775\ttest: 0.4993941\ttest1: 0.5261837\tbest: 0.5261837 (68)\ttotal: 2.5s\tremaining: 33.8s\n",
      "69:\tlearn: 0.4904410\ttest: 0.4974690\ttest1: 0.5251968\tbest: 0.5251968 (69)\ttotal: 2.54s\tremaining: 33.8s\n",
      "70:\tlearn: 0.4893129\ttest: 0.4966091\ttest1: 0.5247645\tbest: 0.5247645 (70)\ttotal: 2.59s\tremaining: 33.9s\n",
      "71:\tlearn: 0.4878454\ttest: 0.4952134\ttest1: 0.5235191\tbest: 0.5235191 (71)\ttotal: 2.63s\tremaining: 33.9s\n",
      "72:\tlearn: 0.4867991\ttest: 0.4942678\ttest1: 0.5234825\tbest: 0.5234825 (72)\ttotal: 2.67s\tremaining: 33.9s\n",
      "73:\tlearn: 0.4841874\ttest: 0.4923558\ttest1: 0.5236342\tbest: 0.5234825 (72)\ttotal: 2.71s\tremaining: 34s\n",
      "74:\tlearn: 0.4828897\ttest: 0.4914846\ttest1: 0.5226788\tbest: 0.5226788 (74)\ttotal: 2.75s\tremaining: 34s\n",
      "75:\tlearn: 0.4815775\ttest: 0.4906188\ttest1: 0.5221278\tbest: 0.5221278 (75)\ttotal: 2.81s\tremaining: 34.1s\n",
      "76:\tlearn: 0.4812016\ttest: 0.4902241\ttest1: 0.5221387\tbest: 0.5221278 (75)\ttotal: 2.85s\tremaining: 34.1s\n",
      "77:\tlearn: 0.4794578\ttest: 0.4884595\ttest1: 0.5205914\tbest: 0.5205914 (77)\ttotal: 2.88s\tremaining: 34.1s\n",
      "78:\tlearn: 0.4781918\ttest: 0.4871892\ttest1: 0.5208524\tbest: 0.5205914 (77)\ttotal: 2.92s\tremaining: 34s\n",
      "79:\tlearn: 0.4773343\ttest: 0.4867516\ttest1: 0.5207514\tbest: 0.5205914 (77)\ttotal: 2.96s\tremaining: 34s\n",
      "80:\tlearn: 0.4764814\ttest: 0.4863186\ttest1: 0.5203702\tbest: 0.5203702 (80)\ttotal: 2.99s\tremaining: 33.9s\n",
      "81:\tlearn: 0.4756388\ttest: 0.4855680\ttest1: 0.5207148\tbest: 0.5203702 (80)\ttotal: 3.03s\tremaining: 33.9s\n",
      "82:\tlearn: 0.4741417\ttest: 0.4847591\ttest1: 0.5209788\tbest: 0.5203702 (80)\ttotal: 3.08s\tremaining: 34s\n"
     ]
    },
    {
     "name": "stdout",
     "output_type": "stream",
     "text": [
      "83:\tlearn: 0.4723665\ttest: 0.4829791\ttest1: 0.5208247\tbest: 0.5203702 (80)\ttotal: 3.13s\tremaining: 34.1s\n",
      "84:\tlearn: 0.4720891\ttest: 0.4826944\ttest1: 0.5207571\tbest: 0.5203702 (80)\ttotal: 3.15s\tremaining: 34s\n",
      "85:\tlearn: 0.4720800\ttest: 0.4826885\ttest1: 0.5207533\tbest: 0.5203702 (80)\ttotal: 3.16s\tremaining: 33.6s\n",
      "86:\tlearn: 0.4715130\ttest: 0.4821296\ttest1: 0.5204314\tbest: 0.5203702 (80)\ttotal: 3.19s\tremaining: 33.5s\n",
      "87:\tlearn: 0.4703487\ttest: 0.4815208\ttest1: 0.5209396\tbest: 0.5203702 (80)\ttotal: 3.24s\tremaining: 33.6s\n",
      "88:\tlearn: 0.4694007\ttest: 0.4808794\ttest1: 0.5207543\tbest: 0.5203702 (80)\ttotal: 3.28s\tremaining: 33.5s\n",
      "89:\tlearn: 0.4686412\ttest: 0.4803446\ttest1: 0.5201858\tbest: 0.5201858 (89)\ttotal: 3.31s\tremaining: 33.5s\n",
      "90:\tlearn: 0.4679035\ttest: 0.4795809\ttest1: 0.5193892\tbest: 0.5193892 (90)\ttotal: 3.34s\tremaining: 33.4s\n",
      "91:\tlearn: 0.4668473\ttest: 0.4786198\ttest1: 0.5182551\tbest: 0.5182551 (91)\ttotal: 3.37s\tremaining: 33.2s\n",
      "92:\tlearn: 0.4661988\ttest: 0.4780347\ttest1: 0.5184150\tbest: 0.5182551 (91)\ttotal: 3.39s\tremaining: 33.1s\n",
      "93:\tlearn: 0.4651241\ttest: 0.4769641\ttest1: 0.5180926\tbest: 0.5180926 (93)\ttotal: 3.42s\tremaining: 33s\n",
      "94:\tlearn: 0.4640893\ttest: 0.4763284\ttest1: 0.5188681\tbest: 0.5180926 (93)\ttotal: 3.45s\tremaining: 32.9s\n",
      "95:\tlearn: 0.4626153\ttest: 0.4758212\ttest1: 0.5185651\tbest: 0.5180926 (93)\ttotal: 3.49s\tremaining: 32.9s\n",
      "96:\tlearn: 0.4620089\ttest: 0.4752050\ttest1: 0.5180822\tbest: 0.5180822 (96)\ttotal: 3.52s\tremaining: 32.7s\n",
      "97:\tlearn: 0.4612626\ttest: 0.4748173\ttest1: 0.5180602\tbest: 0.5180602 (97)\ttotal: 3.55s\tremaining: 32.7s\n",
      "98:\tlearn: 0.4601727\ttest: 0.4741193\ttest1: 0.5174369\tbest: 0.5174369 (98)\ttotal: 3.58s\tremaining: 32.6s\n",
      "99:\tlearn: 0.4590357\ttest: 0.4730250\ttest1: 0.5172426\tbest: 0.5172426 (99)\ttotal: 3.61s\tremaining: 32.5s\n",
      "100:\tlearn: 0.4576689\ttest: 0.4718297\ttest1: 0.5175622\tbest: 0.5172426 (99)\ttotal: 3.65s\tremaining: 32.4s\n",
      "101:\tlearn: 0.4567584\ttest: 0.4711986\ttest1: 0.5182163\tbest: 0.5172426 (99)\ttotal: 3.68s\tremaining: 32.4s\n",
      "102:\tlearn: 0.4558097\ttest: 0.4705758\ttest1: 0.5180013\tbest: 0.5172426 (99)\ttotal: 3.73s\tremaining: 32.5s\n",
      "103:\tlearn: 0.4549744\ttest: 0.4699102\ttest1: 0.5177308\tbest: 0.5172426 (99)\ttotal: 3.77s\tremaining: 32.5s\n",
      "104:\tlearn: 0.4544605\ttest: 0.4694019\ttest1: 0.5170170\tbest: 0.5170170 (104)\ttotal: 3.82s\tremaining: 32.5s\n",
      "105:\tlearn: 0.4536696\ttest: 0.4685107\ttest1: 0.5162979\tbest: 0.5162979 (105)\ttotal: 3.86s\tremaining: 32.6s\n",
      "106:\tlearn: 0.4526507\ttest: 0.4675624\ttest1: 0.5154136\tbest: 0.5154136 (106)\ttotal: 3.91s\tremaining: 32.6s\n",
      "107:\tlearn: 0.4518130\ttest: 0.4669241\ttest1: 0.5150005\tbest: 0.5150005 (107)\ttotal: 3.96s\tremaining: 32.7s\n",
      "108:\tlearn: 0.4505719\ttest: 0.4659108\ttest1: 0.5149775\tbest: 0.5149775 (108)\ttotal: 4s\tremaining: 32.7s\n",
      "109:\tlearn: 0.4499221\ttest: 0.4653988\ttest1: 0.5147644\tbest: 0.5147644 (109)\ttotal: 4.04s\tremaining: 32.7s\n",
      "110:\tlearn: 0.4487818\ttest: 0.4641938\ttest1: 0.5127401\tbest: 0.5127401 (110)\ttotal: 4.08s\tremaining: 32.7s\n",
      "111:\tlearn: 0.4478334\ttest: 0.4632106\ttest1: 0.5127918\tbest: 0.5127401 (110)\ttotal: 4.13s\tremaining: 32.7s\n",
      "112:\tlearn: 0.4462835\ttest: 0.4616369\ttest1: 0.5123752\tbest: 0.5123752 (112)\ttotal: 4.17s\tremaining: 32.8s\n",
      "113:\tlearn: 0.4453398\ttest: 0.4611118\ttest1: 0.5126283\tbest: 0.5123752 (112)\ttotal: 4.22s\tremaining: 32.8s\n",
      "114:\tlearn: 0.4447988\ttest: 0.4611469\ttest1: 0.5125525\tbest: 0.5123752 (112)\ttotal: 4.26s\tremaining: 32.8s\n",
      "115:\tlearn: 0.4443793\ttest: 0.4608905\ttest1: 0.5125616\tbest: 0.5123752 (112)\ttotal: 4.3s\tremaining: 32.8s\n",
      "116:\tlearn: 0.4439904\ttest: 0.4605654\ttest1: 0.5126627\tbest: 0.5123752 (112)\ttotal: 4.34s\tremaining: 32.7s\n",
      "117:\tlearn: 0.4437855\ttest: 0.4603812\ttest1: 0.5123598\tbest: 0.5123598 (117)\ttotal: 4.37s\tremaining: 32.7s\n",
      "118:\tlearn: 0.4427506\ttest: 0.4598592\ttest1: 0.5127385\tbest: 0.5123598 (117)\ttotal: 4.42s\tremaining: 32.7s\n",
      "119:\tlearn: 0.4420604\ttest: 0.4593102\ttest1: 0.5122436\tbest: 0.5122436 (119)\ttotal: 4.46s\tremaining: 32.7s\n",
      "120:\tlearn: 0.4415402\ttest: 0.4587416\ttest1: 0.5123987\tbest: 0.5122436 (119)\ttotal: 4.51s\tremaining: 32.7s\n",
      "121:\tlearn: 0.4407782\ttest: 0.4580154\ttest1: 0.5124982\tbest: 0.5122436 (119)\ttotal: 4.55s\tremaining: 32.8s\n",
      "122:\tlearn: 0.4397200\ttest: 0.4571276\ttest1: 0.5122973\tbest: 0.5122436 (119)\ttotal: 4.59s\tremaining: 32.7s\n",
      "123:\tlearn: 0.4394489\ttest: 0.4569698\ttest1: 0.5123134\tbest: 0.5122436 (119)\ttotal: 4.63s\tremaining: 32.7s\n",
      "124:\tlearn: 0.4384485\ttest: 0.4563797\ttest1: 0.5120397\tbest: 0.5120397 (124)\ttotal: 4.66s\tremaining: 32.6s\n",
      "125:\tlearn: 0.4380987\ttest: 0.4559822\ttest1: 0.5119943\tbest: 0.5119943 (125)\ttotal: 4.7s\tremaining: 32.6s\n",
      "126:\tlearn: 0.4376326\ttest: 0.4557431\ttest1: 0.5121624\tbest: 0.5119943 (125)\ttotal: 4.72s\tremaining: 32.5s\n",
      "127:\tlearn: 0.4367238\ttest: 0.4553060\ttest1: 0.5118966\tbest: 0.5118966 (127)\ttotal: 4.75s\tremaining: 32.4s\n",
      "128:\tlearn: 0.4352177\ttest: 0.4541984\ttest1: 0.5113760\tbest: 0.5113760 (128)\ttotal: 4.79s\tremaining: 32.3s\n",
      "129:\tlearn: 0.4345799\ttest: 0.4538349\ttest1: 0.5109115\tbest: 0.5109115 (129)\ttotal: 4.83s\tremaining: 32.3s\n",
      "130:\tlearn: 0.4336584\ttest: 0.4528983\ttest1: 0.5110111\tbest: 0.5109115 (129)\ttotal: 4.86s\tremaining: 32.3s\n",
      "131:\tlearn: 0.4333053\ttest: 0.4527983\ttest1: 0.5111995\tbest: 0.5109115 (129)\ttotal: 4.89s\tremaining: 32.2s\n",
      "132:\tlearn: 0.4324638\ttest: 0.4520537\ttest1: 0.5103057\tbest: 0.5103057 (132)\ttotal: 4.93s\tremaining: 32.2s\n",
      "133:\tlearn: 0.4314198\ttest: 0.4515233\ttest1: 0.5096862\tbest: 0.5096862 (133)\ttotal: 4.97s\tremaining: 32.1s\n",
      "134:\tlearn: 0.4310827\ttest: 0.4515862\ttest1: 0.5096853\tbest: 0.5096853 (134)\ttotal: 5.02s\tremaining: 32.1s\n",
      "135:\tlearn: 0.4303007\ttest: 0.4507086\ttest1: 0.5093875\tbest: 0.5093875 (135)\ttotal: 5.05s\tremaining: 32.1s\n",
      "136:\tlearn: 0.4295621\ttest: 0.4505525\ttest1: 0.5089921\tbest: 0.5089921 (136)\ttotal: 5.09s\tremaining: 32.1s\n",
      "137:\tlearn: 0.4292896\ttest: 0.4504109\ttest1: 0.5089003\tbest: 0.5089003 (137)\ttotal: 5.12s\tremaining: 32s\n",
      "138:\tlearn: 0.4285094\ttest: 0.4495354\ttest1: 0.5092000\tbest: 0.5089003 (137)\ttotal: 5.15s\tremaining: 31.9s\n",
      "139:\tlearn: 0.4268804\ttest: 0.4490830\ttest1: 0.5088745\tbest: 0.5088745 (139)\ttotal: 5.18s\tremaining: 31.8s\n",
      "140:\tlearn: 0.4250442\ttest: 0.4472004\ttest1: 0.5089474\tbest: 0.5088745 (139)\ttotal: 5.22s\tremaining: 31.8s\n",
      "141:\tlearn: 0.4249255\ttest: 0.4470731\ttest1: 0.5087174\tbest: 0.5087174 (141)\ttotal: 5.23s\tremaining: 31.6s\n",
      "142:\tlearn: 0.4239694\ttest: 0.4469039\ttest1: 0.5089861\tbest: 0.5087174 (141)\ttotal: 5.25s\tremaining: 31.5s\n",
      "143:\tlearn: 0.4234121\ttest: 0.4467723\ttest1: 0.5091078\tbest: 0.5087174 (141)\ttotal: 5.28s\tremaining: 31.4s\n",
      "144:\tlearn: 0.4227345\ttest: 0.4462329\ttest1: 0.5084884\tbest: 0.5084884 (144)\ttotal: 5.31s\tremaining: 31.3s\n",
      "145:\tlearn: 0.4219388\ttest: 0.4457748\ttest1: 0.5081979\tbest: 0.5081979 (145)\ttotal: 5.36s\tremaining: 31.3s\n",
      "146:\tlearn: 0.4217862\ttest: 0.4456431\ttest1: 0.5082176\tbest: 0.5081979 (145)\ttotal: 5.4s\tremaining: 31.3s\n",
      "147:\tlearn: 0.4208110\ttest: 0.4446890\ttest1: 0.5079960\tbest: 0.5079960 (147)\ttotal: 5.43s\tremaining: 31.3s\n",
      "148:\tlearn: 0.4200870\ttest: 0.4441073\ttest1: 0.5085114\tbest: 0.5079960 (147)\ttotal: 5.47s\tremaining: 31.3s\n",
      "149:\tlearn: 0.4193453\ttest: 0.4433069\ttest1: 0.5084985\tbest: 0.5079960 (147)\ttotal: 5.52s\tremaining: 31.3s\n",
      "150:\tlearn: 0.4189470\ttest: 0.4429612\ttest1: 0.5081540\tbest: 0.5079960 (147)\ttotal: 5.56s\tremaining: 31.3s\n",
      "151:\tlearn: 0.4176997\ttest: 0.4418681\ttest1: 0.5079526\tbest: 0.5079526 (151)\ttotal: 5.61s\tremaining: 31.3s\n",
      "152:\tlearn: 0.4170534\ttest: 0.4414933\ttest1: 0.5080793\tbest: 0.5079526 (151)\ttotal: 5.65s\tremaining: 31.3s\n",
      "153:\tlearn: 0.4169224\ttest: 0.4413969\ttest1: 0.5080275\tbest: 0.5079526 (151)\ttotal: 5.67s\tremaining: 31.1s\n",
      "154:\tlearn: 0.4151825\ttest: 0.4395947\ttest1: 0.5071622\tbest: 0.5071622 (154)\ttotal: 5.7s\tremaining: 31.1s\n",
      "155:\tlearn: 0.4138063\ttest: 0.4385912\ttest1: 0.5057183\tbest: 0.5057183 (155)\ttotal: 5.73s\tremaining: 31s\n",
      "156:\tlearn: 0.4132487\ttest: 0.4381924\ttest1: 0.5053427\tbest: 0.5053427 (156)\ttotal: 5.76s\tremaining: 30.9s\n",
      "157:\tlearn: 0.4127313\ttest: 0.4376617\ttest1: 0.5054084\tbest: 0.5053427 (156)\ttotal: 5.79s\tremaining: 30.9s\n",
      "158:\tlearn: 0.4122380\ttest: 0.4371336\ttest1: 0.5054768\tbest: 0.5053427 (156)\ttotal: 5.83s\tremaining: 30.8s\n",
      "159:\tlearn: 0.4109023\ttest: 0.4361277\ttest1: 0.5058871\tbest: 0.5053427 (156)\ttotal: 5.85s\tremaining: 30.7s\n",
      "160:\tlearn: 0.4104591\ttest: 0.4361307\ttest1: 0.5058487\tbest: 0.5053427 (156)\ttotal: 5.88s\tremaining: 30.7s\n",
      "161:\tlearn: 0.4094617\ttest: 0.4351383\ttest1: 0.5059417\tbest: 0.5053427 (156)\ttotal: 5.91s\tremaining: 30.6s\n",
      "162:\tlearn: 0.4082044\ttest: 0.4343318\ttest1: 0.5074955\tbest: 0.5053427 (156)\ttotal: 5.93s\tremaining: 30.5s\n"
     ]
    },
    {
     "name": "stdout",
     "output_type": "stream",
     "text": [
      "163:\tlearn: 0.4075132\ttest: 0.4336203\ttest1: 0.5080059\tbest: 0.5053427 (156)\ttotal: 5.96s\tremaining: 30.4s\n",
      "164:\tlearn: 0.4070797\ttest: 0.4332523\ttest1: 0.5079312\tbest: 0.5053427 (156)\ttotal: 6s\tremaining: 30.4s\n",
      "165:\tlearn: 0.4060577\ttest: 0.4323147\ttest1: 0.5081040\tbest: 0.5053427 (156)\ttotal: 6.04s\tremaining: 30.3s\n",
      "166:\tlearn: 0.4054498\ttest: 0.4316703\ttest1: 0.5071340\tbest: 0.5053427 (156)\ttotal: 6.08s\tremaining: 30.3s\n",
      "167:\tlearn: 0.4049962\ttest: 0.4314249\ttest1: 0.5075561\tbest: 0.5053427 (156)\ttotal: 6.12s\tremaining: 30.3s\n",
      "168:\tlearn: 0.4048578\ttest: 0.4312834\ttest1: 0.5077617\tbest: 0.5053427 (156)\ttotal: 6.13s\tremaining: 30.2s\n",
      "169:\tlearn: 0.4043587\ttest: 0.4308669\ttest1: 0.5076729\tbest: 0.5053427 (156)\ttotal: 6.17s\tremaining: 30.1s\n",
      "170:\tlearn: 0.4034791\ttest: 0.4304038\ttest1: 0.5077302\tbest: 0.5053427 (156)\ttotal: 6.21s\tremaining: 30.1s\n",
      "171:\tlearn: 0.4030506\ttest: 0.4300495\ttest1: 0.5072743\tbest: 0.5053427 (156)\ttotal: 6.25s\tremaining: 30.1s\n",
      "172:\tlearn: 0.4028249\ttest: 0.4299236\ttest1: 0.5072711\tbest: 0.5053427 (156)\ttotal: 6.27s\tremaining: 30s\n",
      "173:\tlearn: 0.4017429\ttest: 0.4292361\ttest1: 0.5077642\tbest: 0.5053427 (156)\ttotal: 6.3s\tremaining: 29.9s\n",
      "174:\tlearn: 0.4012697\ttest: 0.4290025\ttest1: 0.5078291\tbest: 0.5053427 (156)\ttotal: 6.33s\tremaining: 29.8s\n",
      "175:\tlearn: 0.4007055\ttest: 0.4285353\ttest1: 0.5077029\tbest: 0.5053427 (156)\ttotal: 6.36s\tremaining: 29.8s\n",
      "176:\tlearn: 0.3994452\ttest: 0.4272353\ttest1: 0.5066737\tbest: 0.5053427 (156)\ttotal: 6.39s\tremaining: 29.7s\n",
      "177:\tlearn: 0.3986922\ttest: 0.4269337\ttest1: 0.5067291\tbest: 0.5053427 (156)\ttotal: 6.43s\tremaining: 29.7s\n",
      "178:\tlearn: 0.3979052\ttest: 0.4261379\ttest1: 0.5065439\tbest: 0.5053427 (156)\ttotal: 6.46s\tremaining: 29.6s\n",
      "179:\tlearn: 0.3970075\ttest: 0.4255374\ttest1: 0.5062107\tbest: 0.5053427 (156)\ttotal: 6.5s\tremaining: 29.6s\n",
      "180:\tlearn: 0.3965831\ttest: 0.4252420\ttest1: 0.5062781\tbest: 0.5053427 (156)\ttotal: 6.53s\tremaining: 29.5s\n",
      "181:\tlearn: 0.3963981\ttest: 0.4251174\ttest1: 0.5062214\tbest: 0.5053427 (156)\ttotal: 6.55s\tremaining: 29.4s\n",
      "182:\tlearn: 0.3954943\ttest: 0.4245620\ttest1: 0.5066547\tbest: 0.5053427 (156)\ttotal: 6.6s\tremaining: 29.5s\n",
      "183:\tlearn: 0.3950570\ttest: 0.4246237\ttest1: 0.5067844\tbest: 0.5053427 (156)\ttotal: 6.63s\tremaining: 29.4s\n",
      "184:\tlearn: 0.3949155\ttest: 0.4245612\ttest1: 0.5063976\tbest: 0.5053427 (156)\ttotal: 6.66s\tremaining: 29.3s\n",
      "185:\tlearn: 0.3945600\ttest: 0.4244173\ttest1: 0.5066677\tbest: 0.5053427 (156)\ttotal: 6.68s\tremaining: 29.2s\n",
      "186:\tlearn: 0.3940060\ttest: 0.4238095\ttest1: 0.5061061\tbest: 0.5053427 (156)\ttotal: 6.71s\tremaining: 29.2s\n",
      "187:\tlearn: 0.3938957\ttest: 0.4237303\ttest1: 0.5061916\tbest: 0.5053427 (156)\ttotal: 6.74s\tremaining: 29.1s\n",
      "188:\tlearn: 0.3933879\ttest: 0.4234624\ttest1: 0.5058894\tbest: 0.5053427 (156)\ttotal: 6.77s\tremaining: 29s\n",
      "189:\tlearn: 0.3925465\ttest: 0.4227919\ttest1: 0.5052752\tbest: 0.5052752 (189)\ttotal: 6.8s\tremaining: 29s\n",
      "190:\tlearn: 0.3919861\ttest: 0.4224194\ttest1: 0.5048180\tbest: 0.5048180 (190)\ttotal: 6.83s\tremaining: 28.9s\n",
      "191:\tlearn: 0.3917678\ttest: 0.4222862\ttest1: 0.5046137\tbest: 0.5046137 (191)\ttotal: 6.86s\tremaining: 28.9s\n",
      "192:\tlearn: 0.3916690\ttest: 0.4222866\ttest1: 0.5046142\tbest: 0.5046137 (191)\ttotal: 6.89s\tremaining: 28.8s\n",
      "193:\tlearn: 0.3911848\ttest: 0.4221299\ttest1: 0.5041649\tbest: 0.5041649 (193)\ttotal: 6.91s\tremaining: 28.7s\n",
      "194:\tlearn: 0.3907019\ttest: 0.4217845\ttest1: 0.5043498\tbest: 0.5041649 (193)\ttotal: 6.94s\tremaining: 28.7s\n",
      "195:\tlearn: 0.3894802\ttest: 0.4212077\ttest1: 0.5030772\tbest: 0.5030772 (195)\ttotal: 6.96s\tremaining: 28.6s\n",
      "196:\tlearn: 0.3889043\ttest: 0.4207805\ttest1: 0.5028589\tbest: 0.5028589 (196)\ttotal: 7s\tremaining: 28.5s\n",
      "197:\tlearn: 0.3884610\ttest: 0.4203846\ttest1: 0.5023008\tbest: 0.5023008 (197)\ttotal: 7.02s\tremaining: 28.5s\n",
      "198:\tlearn: 0.3873905\ttest: 0.4193902\ttest1: 0.5019661\tbest: 0.5019661 (198)\ttotal: 7.05s\tremaining: 28.4s\n",
      "199:\tlearn: 0.3869566\ttest: 0.4189070\ttest1: 0.5011601\tbest: 0.5011601 (199)\ttotal: 7.08s\tremaining: 28.3s\n",
      "200:\tlearn: 0.3865228\ttest: 0.4183876\ttest1: 0.5013612\tbest: 0.5011601 (199)\ttotal: 7.11s\tremaining: 28.3s\n",
      "201:\tlearn: 0.3864411\ttest: 0.4183350\ttest1: 0.5013468\tbest: 0.5011601 (199)\ttotal: 7.13s\tremaining: 28.2s\n",
      "202:\tlearn: 0.3853473\ttest: 0.4172408\ttest1: 0.5005742\tbest: 0.5005742 (202)\ttotal: 7.17s\tremaining: 28.2s\n",
      "203:\tlearn: 0.3844877\ttest: 0.4164129\ttest1: 0.5004300\tbest: 0.5004300 (203)\ttotal: 7.21s\tremaining: 28.1s\n",
      "204:\tlearn: 0.3836398\ttest: 0.4155410\ttest1: 0.4994297\tbest: 0.4994297 (204)\ttotal: 7.23s\tremaining: 28.1s\n",
      "205:\tlearn: 0.3834155\ttest: 0.4153722\ttest1: 0.4993554\tbest: 0.4993554 (205)\ttotal: 7.26s\tremaining: 28s\n",
      "206:\tlearn: 0.3828744\ttest: 0.4153175\ttest1: 0.4993102\tbest: 0.4993102 (206)\ttotal: 7.29s\tremaining: 27.9s\n",
      "207:\tlearn: 0.3823766\ttest: 0.4148035\ttest1: 0.4989211\tbest: 0.4989211 (207)\ttotal: 7.32s\tremaining: 27.9s\n",
      "208:\tlearn: 0.3821515\ttest: 0.4148435\ttest1: 0.4988218\tbest: 0.4988218 (208)\ttotal: 7.35s\tremaining: 27.8s\n",
      "209:\tlearn: 0.3815353\ttest: 0.4147842\ttest1: 0.4990057\tbest: 0.4988218 (208)\ttotal: 7.4s\tremaining: 27.8s\n",
      "210:\tlearn: 0.3809778\ttest: 0.4144712\ttest1: 0.4986094\tbest: 0.4986094 (210)\ttotal: 7.43s\tremaining: 27.8s\n",
      "211:\tlearn: 0.3804790\ttest: 0.4139783\ttest1: 0.4984586\tbest: 0.4984586 (211)\ttotal: 7.47s\tremaining: 27.8s\n",
      "212:\tlearn: 0.3795824\ttest: 0.4130608\ttest1: 0.4986616\tbest: 0.4984586 (211)\ttotal: 7.5s\tremaining: 27.7s\n",
      "213:\tlearn: 0.3788940\ttest: 0.4124599\ttest1: 0.4988649\tbest: 0.4984586 (211)\ttotal: 7.54s\tremaining: 27.7s\n",
      "214:\tlearn: 0.3787552\ttest: 0.4123281\ttest1: 0.4990791\tbest: 0.4984586 (211)\ttotal: 7.56s\tremaining: 27.6s\n",
      "215:\tlearn: 0.3783932\ttest: 0.4122287\ttest1: 0.4991702\tbest: 0.4984586 (211)\ttotal: 7.59s\tremaining: 27.5s\n",
      "216:\tlearn: 0.3780290\ttest: 0.4122422\ttest1: 0.4989536\tbest: 0.4984586 (211)\ttotal: 7.62s\tremaining: 27.5s\n",
      "217:\tlearn: 0.3774598\ttest: 0.4117547\ttest1: 0.4988535\tbest: 0.4984586 (211)\ttotal: 7.65s\tremaining: 27.4s\n",
      "218:\tlearn: 0.3770757\ttest: 0.4114082\ttest1: 0.4991918\tbest: 0.4984586 (211)\ttotal: 7.67s\tremaining: 27.4s\n",
      "219:\tlearn: 0.3769448\ttest: 0.4113357\ttest1: 0.4993003\tbest: 0.4984586 (211)\ttotal: 7.7s\tremaining: 27.3s\n",
      "220:\tlearn: 0.3765591\ttest: 0.4113893\ttest1: 0.4994578\tbest: 0.4984586 (211)\ttotal: 7.73s\tremaining: 27.2s\n",
      "221:\tlearn: 0.3758804\ttest: 0.4110424\ttest1: 0.4994949\tbest: 0.4984586 (211)\ttotal: 7.77s\tremaining: 27.2s\n",
      "222:\tlearn: 0.3746615\ttest: 0.4103043\ttest1: 0.4994342\tbest: 0.4984586 (211)\ttotal: 7.8s\tremaining: 27.2s\n",
      "223:\tlearn: 0.3741048\ttest: 0.4099333\ttest1: 0.4987480\tbest: 0.4984586 (211)\ttotal: 7.82s\tremaining: 27.1s\n",
      "224:\tlearn: 0.3735203\ttest: 0.4093359\ttest1: 0.4984473\tbest: 0.4984473 (224)\ttotal: 7.85s\tremaining: 27.1s\n",
      "225:\tlearn: 0.3728938\ttest: 0.4089571\ttest1: 0.4978224\tbest: 0.4978224 (225)\ttotal: 7.88s\tremaining: 27s\n",
      "226:\tlearn: 0.3725263\ttest: 0.4087239\ttest1: 0.4975452\tbest: 0.4975452 (226)\ttotal: 7.91s\tremaining: 26.9s\n",
      "227:\tlearn: 0.3720984\ttest: 0.4083271\ttest1: 0.4971911\tbest: 0.4971911 (227)\ttotal: 7.95s\tremaining: 26.9s\n",
      "228:\tlearn: 0.3710715\ttest: 0.4074866\ttest1: 0.4961146\tbest: 0.4961146 (228)\ttotal: 7.99s\tremaining: 26.9s\n",
      "229:\tlearn: 0.3703875\ttest: 0.4067150\ttest1: 0.4956415\tbest: 0.4956415 (229)\ttotal: 8.02s\tremaining: 26.8s\n",
      "230:\tlearn: 0.3697655\ttest: 0.4060321\ttest1: 0.4953658\tbest: 0.4953658 (230)\ttotal: 8.04s\tremaining: 26.8s\n",
      "231:\tlearn: 0.3690548\ttest: 0.4056731\ttest1: 0.4954862\tbest: 0.4953658 (230)\ttotal: 8.08s\tremaining: 26.7s\n",
      "232:\tlearn: 0.3684739\ttest: 0.4055973\ttest1: 0.4952370\tbest: 0.4952370 (232)\ttotal: 8.11s\tremaining: 26.7s\n",
      "233:\tlearn: 0.3666902\ttest: 0.4038184\ttest1: 0.4942407\tbest: 0.4942407 (233)\ttotal: 8.14s\tremaining: 26.7s\n",
      "234:\tlearn: 0.3657639\ttest: 0.4037022\ttest1: 0.4939490\tbest: 0.4939490 (234)\ttotal: 8.18s\tremaining: 26.6s\n",
      "235:\tlearn: 0.3650506\ttest: 0.4032374\ttest1: 0.4938576\tbest: 0.4938576 (235)\ttotal: 8.21s\tremaining: 26.6s\n",
      "236:\tlearn: 0.3644501\ttest: 0.4026827\ttest1: 0.4942368\tbest: 0.4938576 (235)\ttotal: 8.25s\tremaining: 26.6s\n",
      "237:\tlearn: 0.3636793\ttest: 0.4018391\ttest1: 0.4934063\tbest: 0.4934063 (237)\ttotal: 8.28s\tremaining: 26.5s\n",
      "238:\tlearn: 0.3628651\ttest: 0.4012727\ttest1: 0.4940222\tbest: 0.4934063 (237)\ttotal: 8.31s\tremaining: 26.5s\n",
      "239:\tlearn: 0.3627332\ttest: 0.4012055\ttest1: 0.4939477\tbest: 0.4934063 (237)\ttotal: 8.35s\tremaining: 26.4s\n",
      "240:\tlearn: 0.3623368\ttest: 0.4009418\ttest1: 0.4938746\tbest: 0.4934063 (237)\ttotal: 8.38s\tremaining: 26.4s\n",
      "241:\tlearn: 0.3619451\ttest: 0.4007579\ttest1: 0.4936158\tbest: 0.4934063 (237)\ttotal: 8.4s\tremaining: 26.3s\n",
      "242:\tlearn: 0.3612414\ttest: 0.4005743\ttest1: 0.4938196\tbest: 0.4934063 (237)\ttotal: 8.44s\tremaining: 26.3s\n",
      "243:\tlearn: 0.3601089\ttest: 0.3996162\ttest1: 0.4937503\tbest: 0.4934063 (237)\ttotal: 8.47s\tremaining: 26.3s\n"
     ]
    },
    {
     "name": "stdout",
     "output_type": "stream",
     "text": [
      "244:\tlearn: 0.3591388\ttest: 0.3991006\ttest1: 0.4934761\tbest: 0.4934063 (237)\ttotal: 8.51s\tremaining: 26.2s\n",
      "245:\tlearn: 0.3582885\ttest: 0.3981802\ttest1: 0.4929117\tbest: 0.4929117 (245)\ttotal: 8.55s\tremaining: 26.2s\n",
      "246:\tlearn: 0.3576748\ttest: 0.3974672\ttest1: 0.4927871\tbest: 0.4927871 (246)\ttotal: 8.58s\tremaining: 26.2s\n",
      "247:\tlearn: 0.3570221\ttest: 0.3974924\ttest1: 0.4926462\tbest: 0.4926462 (247)\ttotal: 8.61s\tremaining: 26.1s\n",
      "248:\tlearn: 0.3566926\ttest: 0.3972288\ttest1: 0.4923070\tbest: 0.4923070 (248)\ttotal: 8.66s\tremaining: 26.1s\n",
      "249:\tlearn: 0.3562689\ttest: 0.3968862\ttest1: 0.4922074\tbest: 0.4922074 (249)\ttotal: 8.69s\tremaining: 26.1s\n",
      "250:\tlearn: 0.3558103\ttest: 0.3964854\ttest1: 0.4921678\tbest: 0.4921678 (250)\ttotal: 8.73s\tremaining: 26.1s\n",
      "251:\tlearn: 0.3554292\ttest: 0.3962041\ttest1: 0.4917966\tbest: 0.4917966 (251)\ttotal: 8.77s\tremaining: 26s\n",
      "252:\tlearn: 0.3553753\ttest: 0.3961492\ttest1: 0.4918034\tbest: 0.4917966 (251)\ttotal: 8.79s\tremaining: 26s\n",
      "253:\tlearn: 0.3550051\ttest: 0.3960510\ttest1: 0.4920706\tbest: 0.4917966 (251)\ttotal: 8.82s\tremaining: 25.9s\n",
      "254:\tlearn: 0.3544332\ttest: 0.3956249\ttest1: 0.4915112\tbest: 0.4915112 (254)\ttotal: 8.86s\tremaining: 25.9s\n",
      "255:\tlearn: 0.3541088\ttest: 0.3954117\ttest1: 0.4915866\tbest: 0.4915112 (254)\ttotal: 8.9s\tremaining: 25.9s\n",
      "256:\tlearn: 0.3536207\ttest: 0.3953073\ttest1: 0.4914536\tbest: 0.4914536 (256)\ttotal: 8.94s\tremaining: 25.9s\n",
      "257:\tlearn: 0.3524075\ttest: 0.3940246\ttest1: 0.4910779\tbest: 0.4910779 (257)\ttotal: 8.97s\tremaining: 25.8s\n",
      "258:\tlearn: 0.3517825\ttest: 0.3939341\ttest1: 0.4910982\tbest: 0.4910779 (257)\ttotal: 9s\tremaining: 25.8s\n",
      "259:\tlearn: 0.3514559\ttest: 0.3936234\ttest1: 0.4909534\tbest: 0.4909534 (259)\ttotal: 9.03s\tremaining: 25.7s\n",
      "260:\tlearn: 0.3512992\ttest: 0.3935485\ttest1: 0.4908179\tbest: 0.4908179 (260)\ttotal: 9.05s\tremaining: 25.6s\n",
      "261:\tlearn: 0.3506576\ttest: 0.3934536\ttest1: 0.4908996\tbest: 0.4908179 (260)\ttotal: 9.08s\tremaining: 25.6s\n",
      "262:\tlearn: 0.3497747\ttest: 0.3924563\ttest1: 0.4909739\tbest: 0.4908179 (260)\ttotal: 9.11s\tremaining: 25.5s\n",
      "263:\tlearn: 0.3487921\ttest: 0.3921987\ttest1: 0.4906794\tbest: 0.4906794 (263)\ttotal: 9.15s\tremaining: 25.5s\n",
      "264:\tlearn: 0.3482655\ttest: 0.3919989\ttest1: 0.4909792\tbest: 0.4906794 (263)\ttotal: 9.18s\tremaining: 25.4s\n",
      "265:\tlearn: 0.3475107\ttest: 0.3915765\ttest1: 0.4908900\tbest: 0.4906794 (263)\ttotal: 9.21s\tremaining: 25.4s\n",
      "266:\tlearn: 0.3466233\ttest: 0.3906225\ttest1: 0.4903144\tbest: 0.4903144 (266)\ttotal: 9.24s\tremaining: 25.4s\n",
      "267:\tlearn: 0.3452732\ttest: 0.3892567\ttest1: 0.4892912\tbest: 0.4892912 (267)\ttotal: 9.26s\tremaining: 25.3s\n",
      "268:\tlearn: 0.3445751\ttest: 0.3885426\ttest1: 0.4886154\tbest: 0.4886154 (268)\ttotal: 9.29s\tremaining: 25.3s\n",
      "269:\tlearn: 0.3437059\ttest: 0.3875649\ttest1: 0.4885185\tbest: 0.4885185 (269)\ttotal: 9.33s\tremaining: 25.2s\n",
      "270:\tlearn: 0.3428641\ttest: 0.3874146\ttest1: 0.4886045\tbest: 0.4885185 (269)\ttotal: 9.36s\tremaining: 25.2s\n",
      "271:\tlearn: 0.3426068\ttest: 0.3871296\ttest1: 0.4887550\tbest: 0.4885185 (269)\ttotal: 9.39s\tremaining: 25.1s\n",
      "272:\tlearn: 0.3420062\ttest: 0.3868513\ttest1: 0.4885642\tbest: 0.4885185 (269)\ttotal: 9.42s\tremaining: 25.1s\n",
      "273:\tlearn: 0.3416305\ttest: 0.3864991\ttest1: 0.4880857\tbest: 0.4880857 (273)\ttotal: 9.45s\tremaining: 25s\n",
      "274:\tlearn: 0.3412890\ttest: 0.3863062\ttest1: 0.4882311\tbest: 0.4880857 (273)\ttotal: 9.47s\tremaining: 25s\n",
      "275:\tlearn: 0.3411636\ttest: 0.3862692\ttest1: 0.4880060\tbest: 0.4880060 (275)\ttotal: 9.51s\tremaining: 24.9s\n",
      "276:\tlearn: 0.3408761\ttest: 0.3863990\ttest1: 0.4889117\tbest: 0.4880060 (275)\ttotal: 9.55s\tremaining: 24.9s\n",
      "277:\tlearn: 0.3403166\ttest: 0.3859147\ttest1: 0.4886834\tbest: 0.4880060 (275)\ttotal: 9.58s\tremaining: 24.9s\n",
      "278:\tlearn: 0.3394453\ttest: 0.3849730\ttest1: 0.4881144\tbest: 0.4880060 (275)\ttotal: 9.62s\tremaining: 24.9s\n",
      "279:\tlearn: 0.3388522\ttest: 0.3846348\ttest1: 0.4879826\tbest: 0.4879826 (279)\ttotal: 9.66s\tremaining: 24.8s\n",
      "280:\tlearn: 0.3382971\ttest: 0.3842302\ttest1: 0.4882158\tbest: 0.4879826 (279)\ttotal: 9.69s\tremaining: 24.8s\n",
      "281:\tlearn: 0.3378406\ttest: 0.3838174\ttest1: 0.4885168\tbest: 0.4879826 (279)\ttotal: 9.73s\tremaining: 24.8s\n",
      "282:\tlearn: 0.3375757\ttest: 0.3835010\ttest1: 0.4884516\tbest: 0.4879826 (279)\ttotal: 9.77s\tremaining: 24.8s\n",
      "283:\tlearn: 0.3371161\ttest: 0.3832311\ttest1: 0.4880006\tbest: 0.4879826 (279)\ttotal: 9.8s\tremaining: 24.7s\n",
      "284:\tlearn: 0.3365855\ttest: 0.3828144\ttest1: 0.4883857\tbest: 0.4879826 (279)\ttotal: 9.83s\tremaining: 24.7s\n",
      "285:\tlearn: 0.3359095\ttest: 0.3821213\ttest1: 0.4874805\tbest: 0.4874805 (285)\ttotal: 9.86s\tremaining: 24.6s\n",
      "286:\tlearn: 0.3352936\ttest: 0.3812704\ttest1: 0.4868577\tbest: 0.4868577 (286)\ttotal: 9.89s\tremaining: 24.6s\n",
      "287:\tlearn: 0.3342825\ttest: 0.3806474\ttest1: 0.4872441\tbest: 0.4868577 (286)\ttotal: 9.92s\tremaining: 24.5s\n",
      "288:\tlearn: 0.3338846\ttest: 0.3804625\ttest1: 0.4872771\tbest: 0.4868577 (286)\ttotal: 9.95s\tremaining: 24.5s\n",
      "289:\tlearn: 0.3333146\ttest: 0.3797864\ttest1: 0.4872992\tbest: 0.4868577 (286)\ttotal: 9.98s\tremaining: 24.4s\n",
      "290:\tlearn: 0.3327239\ttest: 0.3795443\ttest1: 0.4868612\tbest: 0.4868577 (286)\ttotal: 10s\tremaining: 24.4s\n",
      "291:\tlearn: 0.3322383\ttest: 0.3796470\ttest1: 0.4866426\tbest: 0.4866426 (291)\ttotal: 10s\tremaining: 24.3s\n",
      "292:\tlearn: 0.3317518\ttest: 0.3794318\ttest1: 0.4867310\tbest: 0.4866426 (291)\ttotal: 10.1s\tremaining: 24.3s\n",
      "293:\tlearn: 0.3308574\ttest: 0.3791177\ttest1: 0.4861948\tbest: 0.4861948 (293)\ttotal: 10.1s\tremaining: 24.2s\n",
      "294:\tlearn: 0.3303254\ttest: 0.3787490\ttest1: 0.4858331\tbest: 0.4858331 (294)\ttotal: 10.1s\tremaining: 24.2s\n",
      "295:\tlearn: 0.3296411\ttest: 0.3782739\ttest1: 0.4859766\tbest: 0.4858331 (294)\ttotal: 10.2s\tremaining: 24.2s\n",
      "296:\tlearn: 0.3287283\ttest: 0.3772999\ttest1: 0.4864883\tbest: 0.4858331 (294)\ttotal: 10.2s\tremaining: 24.2s\n",
      "297:\tlearn: 0.3276862\ttest: 0.3763526\ttest1: 0.4868010\tbest: 0.4858331 (294)\ttotal: 10.2s\tremaining: 24.1s\n",
      "298:\tlearn: 0.3272251\ttest: 0.3759808\ttest1: 0.4868666\tbest: 0.4858331 (294)\ttotal: 10.3s\tremaining: 24.1s\n",
      "299:\tlearn: 0.3267468\ttest: 0.3759966\ttest1: 0.4872434\tbest: 0.4858331 (294)\ttotal: 10.3s\tremaining: 24.1s\n",
      "300:\tlearn: 0.3261257\ttest: 0.3756024\ttest1: 0.4870363\tbest: 0.4858331 (294)\ttotal: 10.4s\tremaining: 24s\n",
      "301:\tlearn: 0.3257621\ttest: 0.3753800\ttest1: 0.4867909\tbest: 0.4858331 (294)\ttotal: 10.4s\tremaining: 24s\n",
      "302:\tlearn: 0.3249601\ttest: 0.3746261\ttest1: 0.4872421\tbest: 0.4858331 (294)\ttotal: 10.4s\tremaining: 23.9s\n",
      "303:\tlearn: 0.3242451\ttest: 0.3743000\ttest1: 0.4873369\tbest: 0.4858331 (294)\ttotal: 10.4s\tremaining: 23.9s\n",
      "304:\tlearn: 0.3233639\ttest: 0.3734284\ttest1: 0.4868757\tbest: 0.4858331 (294)\ttotal: 10.5s\tremaining: 23.8s\n",
      "305:\tlearn: 0.3227731\ttest: 0.3729547\ttest1: 0.4868347\tbest: 0.4858331 (294)\ttotal: 10.5s\tremaining: 23.8s\n",
      "306:\tlearn: 0.3223039\ttest: 0.3729052\ttest1: 0.4868672\tbest: 0.4858331 (294)\ttotal: 10.5s\tremaining: 23.8s\n",
      "307:\tlearn: 0.3218840\ttest: 0.3723798\ttest1: 0.4868978\tbest: 0.4858331 (294)\ttotal: 10.6s\tremaining: 23.7s\n",
      "308:\tlearn: 0.3215921\ttest: 0.3722928\ttest1: 0.4870732\tbest: 0.4858331 (294)\ttotal: 10.6s\tremaining: 23.7s\n",
      "309:\tlearn: 0.3212729\ttest: 0.3723364\ttest1: 0.4868374\tbest: 0.4858331 (294)\ttotal: 10.6s\tremaining: 23.7s\n",
      "310:\tlearn: 0.3202467\ttest: 0.3714477\ttest1: 0.4861866\tbest: 0.4858331 (294)\ttotal: 10.7s\tremaining: 23.6s\n",
      "311:\tlearn: 0.3193535\ttest: 0.3708897\ttest1: 0.4859435\tbest: 0.4858331 (294)\ttotal: 10.7s\tremaining: 23.6s\n",
      "312:\tlearn: 0.3188861\ttest: 0.3705590\ttest1: 0.4863840\tbest: 0.4858331 (294)\ttotal: 10.7s\tremaining: 23.5s\n",
      "313:\tlearn: 0.3183958\ttest: 0.3701791\ttest1: 0.4864568\tbest: 0.4858331 (294)\ttotal: 10.7s\tremaining: 23.5s\n",
      "314:\tlearn: 0.3179223\ttest: 0.3700314\ttest1: 0.4865852\tbest: 0.4858331 (294)\ttotal: 10.8s\tremaining: 23.4s\n",
      "315:\tlearn: 0.3173285\ttest: 0.3694809\ttest1: 0.4863013\tbest: 0.4858331 (294)\ttotal: 10.8s\tremaining: 23.4s\n",
      "316:\tlearn: 0.3164506\ttest: 0.3686545\ttest1: 0.4862804\tbest: 0.4858331 (294)\ttotal: 10.8s\tremaining: 23.3s\n",
      "317:\tlearn: 0.3160844\ttest: 0.3682799\ttest1: 0.4861680\tbest: 0.4858331 (294)\ttotal: 10.9s\tremaining: 23.3s\n",
      "318:\tlearn: 0.3155865\ttest: 0.3680495\ttest1: 0.4863539\tbest: 0.4858331 (294)\ttotal: 10.9s\tremaining: 23.2s\n",
      "319:\tlearn: 0.3146124\ttest: 0.3671144\ttest1: 0.4854063\tbest: 0.4854063 (319)\ttotal: 10.9s\tremaining: 23.2s\n",
      "320:\tlearn: 0.3143001\ttest: 0.3669634\ttest1: 0.4853645\tbest: 0.4853645 (320)\ttotal: 11s\tremaining: 23.2s\n",
      "321:\tlearn: 0.3137103\ttest: 0.3664634\ttest1: 0.4855301\tbest: 0.4853645 (320)\ttotal: 11s\tremaining: 23.1s\n",
      "322:\tlearn: 0.3130488\ttest: 0.3659975\ttest1: 0.4853403\tbest: 0.4853403 (322)\ttotal: 11s\tremaining: 23.1s\n",
      "323:\tlearn: 0.3127972\ttest: 0.3660166\ttest1: 0.4853708\tbest: 0.4853403 (322)\ttotal: 11s\tremaining: 23s\n",
      "324:\tlearn: 0.3122671\ttest: 0.3655620\ttest1: 0.4849432\tbest: 0.4849432 (324)\ttotal: 11.1s\tremaining: 23s\n"
     ]
    },
    {
     "name": "stdout",
     "output_type": "stream",
     "text": [
      "325:\tlearn: 0.3113355\ttest: 0.3645819\ttest1: 0.4848468\tbest: 0.4848468 (325)\ttotal: 11.1s\tremaining: 23s\n",
      "326:\tlearn: 0.3108000\ttest: 0.3643171\ttest1: 0.4842610\tbest: 0.4842610 (326)\ttotal: 11.1s\tremaining: 22.9s\n",
      "327:\tlearn: 0.3100446\ttest: 0.3635760\ttest1: 0.4846169\tbest: 0.4842610 (326)\ttotal: 11.2s\tremaining: 22.9s\n",
      "328:\tlearn: 0.3098006\ttest: 0.3633698\ttest1: 0.4847886\tbest: 0.4842610 (326)\ttotal: 11.2s\tremaining: 22.8s\n",
      "329:\tlearn: 0.3093905\ttest: 0.3630638\ttest1: 0.4850960\tbest: 0.4842610 (326)\ttotal: 11.2s\tremaining: 22.8s\n",
      "330:\tlearn: 0.3089425\ttest: 0.3627373\ttest1: 0.4851462\tbest: 0.4842610 (326)\ttotal: 11.2s\tremaining: 22.7s\n",
      "331:\tlearn: 0.3085285\ttest: 0.3625933\ttest1: 0.4848390\tbest: 0.4842610 (326)\ttotal: 11.3s\tremaining: 22.7s\n",
      "332:\tlearn: 0.3078207\ttest: 0.3619000\ttest1: 0.4840963\tbest: 0.4840963 (332)\ttotal: 11.3s\tremaining: 22.6s\n",
      "333:\tlearn: 0.3073723\ttest: 0.3617849\ttest1: 0.4839648\tbest: 0.4839648 (333)\ttotal: 11.3s\tremaining: 22.6s\n",
      "334:\tlearn: 0.3066639\ttest: 0.3611777\ttest1: 0.4834303\tbest: 0.4834303 (334)\ttotal: 11.4s\tremaining: 22.5s\n",
      "335:\tlearn: 0.3058057\ttest: 0.3602215\ttest1: 0.4827969\tbest: 0.4827969 (335)\ttotal: 11.4s\tremaining: 22.5s\n",
      "336:\tlearn: 0.3054815\ttest: 0.3601251\ttest1: 0.4829034\tbest: 0.4827969 (335)\ttotal: 11.4s\tremaining: 22.4s\n",
      "337:\tlearn: 0.3049344\ttest: 0.3596152\ttest1: 0.4830610\tbest: 0.4827969 (335)\ttotal: 11.4s\tremaining: 22.4s\n",
      "338:\tlearn: 0.3043509\ttest: 0.3588971\ttest1: 0.4830542\tbest: 0.4827969 (335)\ttotal: 11.5s\tremaining: 22.4s\n",
      "339:\tlearn: 0.3032552\ttest: 0.3577212\ttest1: 0.4824923\tbest: 0.4824923 (339)\ttotal: 11.5s\tremaining: 22.3s\n",
      "340:\tlearn: 0.3027022\ttest: 0.3570748\ttest1: 0.4827468\tbest: 0.4824923 (339)\ttotal: 11.5s\tremaining: 22.3s\n",
      "341:\tlearn: 0.3024493\ttest: 0.3570176\ttest1: 0.4825731\tbest: 0.4824923 (339)\ttotal: 11.6s\tremaining: 22.3s\n",
      "342:\tlearn: 0.3020403\ttest: 0.3570095\ttest1: 0.4825162\tbest: 0.4824923 (339)\ttotal: 11.6s\tremaining: 22.2s\n",
      "343:\tlearn: 0.3015967\ttest: 0.3569277\ttest1: 0.4828275\tbest: 0.4824923 (339)\ttotal: 11.6s\tremaining: 22.2s\n",
      "344:\tlearn: 0.3005312\ttest: 0.3560937\ttest1: 0.4829265\tbest: 0.4824923 (339)\ttotal: 11.7s\tremaining: 22.2s\n",
      "345:\tlearn: 0.2995635\ttest: 0.3550155\ttest1: 0.4831072\tbest: 0.4824923 (339)\ttotal: 11.7s\tremaining: 22.2s\n",
      "346:\tlearn: 0.2990241\ttest: 0.3543742\ttest1: 0.4832138\tbest: 0.4824923 (339)\ttotal: 11.8s\tremaining: 22.1s\n",
      "347:\tlearn: 0.2982403\ttest: 0.3535190\ttest1: 0.4823641\tbest: 0.4823641 (347)\ttotal: 11.8s\tremaining: 22.1s\n",
      "348:\tlearn: 0.2979991\ttest: 0.3534496\ttest1: 0.4825784\tbest: 0.4823641 (347)\ttotal: 11.8s\tremaining: 22.1s\n",
      "349:\tlearn: 0.2974876\ttest: 0.3530802\ttest1: 0.4825618\tbest: 0.4823641 (347)\ttotal: 11.9s\tremaining: 22s\n",
      "350:\tlearn: 0.2972974\ttest: 0.3530270\ttest1: 0.4824234\tbest: 0.4823641 (347)\ttotal: 11.9s\tremaining: 22s\n",
      "351:\tlearn: 0.2967658\ttest: 0.3525723\ttest1: 0.4825572\tbest: 0.4823641 (347)\ttotal: 12s\tremaining: 22s\n",
      "352:\tlearn: 0.2966010\ttest: 0.3524139\ttest1: 0.4824635\tbest: 0.4823641 (347)\ttotal: 12s\tremaining: 22s\n",
      "353:\tlearn: 0.2964815\ttest: 0.3523782\ttest1: 0.4825368\tbest: 0.4823641 (347)\ttotal: 12s\tremaining: 21.9s\n",
      "354:\tlearn: 0.2960267\ttest: 0.3520984\ttest1: 0.4829138\tbest: 0.4823641 (347)\ttotal: 12.1s\tremaining: 21.9s\n",
      "355:\tlearn: 0.2955160\ttest: 0.3516296\ttest1: 0.4832317\tbest: 0.4823641 (347)\ttotal: 12.1s\tremaining: 21.9s\n",
      "356:\tlearn: 0.2942025\ttest: 0.3502024\ttest1: 0.4820363\tbest: 0.4820363 (356)\ttotal: 12.1s\tremaining: 21.9s\n",
      "357:\tlearn: 0.2940083\ttest: 0.3501019\ttest1: 0.4822491\tbest: 0.4820363 (356)\ttotal: 12.2s\tremaining: 21.8s\n",
      "358:\tlearn: 0.2932655\ttest: 0.3499077\ttest1: 0.4816876\tbest: 0.4816876 (358)\ttotal: 12.2s\tremaining: 21.8s\n",
      "359:\tlearn: 0.2927176\ttest: 0.3495946\ttest1: 0.4815280\tbest: 0.4815280 (359)\ttotal: 12.2s\tremaining: 21.7s\n",
      "360:\tlearn: 0.2921032\ttest: 0.3490423\ttest1: 0.4811811\tbest: 0.4811811 (360)\ttotal: 12.3s\tremaining: 21.7s\n",
      "361:\tlearn: 0.2917919\ttest: 0.3487769\ttest1: 0.4814528\tbest: 0.4811811 (360)\ttotal: 12.3s\tremaining: 21.7s\n",
      "362:\tlearn: 0.2910060\ttest: 0.3485897\ttest1: 0.4811510\tbest: 0.4811510 (362)\ttotal: 12.3s\tremaining: 21.6s\n",
      "363:\tlearn: 0.2907890\ttest: 0.3486882\ttest1: 0.4812350\tbest: 0.4811510 (362)\ttotal: 12.3s\tremaining: 21.6s\n",
      "364:\tlearn: 0.2901779\ttest: 0.3481943\ttest1: 0.4806649\tbest: 0.4806649 (364)\ttotal: 12.4s\tremaining: 21.5s\n",
      "365:\tlearn: 0.2893787\ttest: 0.3472186\ttest1: 0.4802267\tbest: 0.4802267 (365)\ttotal: 12.4s\tremaining: 21.5s\n",
      "366:\tlearn: 0.2886793\ttest: 0.3466062\ttest1: 0.4797952\tbest: 0.4797952 (366)\ttotal: 12.5s\tremaining: 21.5s\n",
      "367:\tlearn: 0.2880711\ttest: 0.3463347\ttest1: 0.4794273\tbest: 0.4794273 (367)\ttotal: 12.5s\tremaining: 21.4s\n",
      "368:\tlearn: 0.2878679\ttest: 0.3461024\ttest1: 0.4795666\tbest: 0.4794273 (367)\ttotal: 12.5s\tremaining: 21.4s\n",
      "369:\tlearn: 0.2874704\ttest: 0.3460325\ttest1: 0.4797725\tbest: 0.4794273 (367)\ttotal: 12.6s\tremaining: 21.4s\n",
      "370:\tlearn: 0.2873088\ttest: 0.3459619\ttest1: 0.4799726\tbest: 0.4794273 (367)\ttotal: 12.6s\tremaining: 21.3s\n",
      "371:\tlearn: 0.2866137\ttest: 0.3453148\ttest1: 0.4801537\tbest: 0.4794273 (367)\ttotal: 12.6s\tremaining: 21.3s\n",
      "372:\tlearn: 0.2861443\ttest: 0.3448804\ttest1: 0.4804153\tbest: 0.4794273 (367)\ttotal: 12.7s\tremaining: 21.3s\n",
      "373:\tlearn: 0.2857295\ttest: 0.3446061\ttest1: 0.4804176\tbest: 0.4794273 (367)\ttotal: 12.7s\tremaining: 21.3s\n",
      "374:\tlearn: 0.2854875\ttest: 0.3444115\ttest1: 0.4800901\tbest: 0.4794273 (367)\ttotal: 12.7s\tremaining: 21.2s\n",
      "375:\tlearn: 0.2851745\ttest: 0.3441291\ttest1: 0.4804175\tbest: 0.4794273 (367)\ttotal: 12.8s\tremaining: 21.2s\n",
      "376:\tlearn: 0.2843534\ttest: 0.3432300\ttest1: 0.4793073\tbest: 0.4793073 (376)\ttotal: 12.8s\tremaining: 21.1s\n",
      "377:\tlearn: 0.2841321\ttest: 0.3431572\ttest1: 0.4792857\tbest: 0.4792857 (377)\ttotal: 12.8s\tremaining: 21.1s\n",
      "378:\tlearn: 0.2838832\ttest: 0.3428291\ttest1: 0.4792238\tbest: 0.4792238 (378)\ttotal: 12.9s\tremaining: 21.1s\n",
      "379:\tlearn: 0.2835664\ttest: 0.3425553\ttest1: 0.4791711\tbest: 0.4791711 (379)\ttotal: 12.9s\tremaining: 21s\n",
      "380:\tlearn: 0.2833626\ttest: 0.3425630\ttest1: 0.4791923\tbest: 0.4791711 (379)\ttotal: 12.9s\tremaining: 21s\n",
      "381:\tlearn: 0.2831486\ttest: 0.3423743\ttest1: 0.4793207\tbest: 0.4791711 (379)\ttotal: 13s\tremaining: 21s\n",
      "382:\tlearn: 0.2828632\ttest: 0.3421784\ttest1: 0.4792886\tbest: 0.4791711 (379)\ttotal: 13s\tremaining: 20.9s\n",
      "383:\tlearn: 0.2825642\ttest: 0.3419837\ttest1: 0.4792927\tbest: 0.4791711 (379)\ttotal: 13s\tremaining: 20.9s\n",
      "384:\tlearn: 0.2823060\ttest: 0.3419906\ttest1: 0.4793391\tbest: 0.4791711 (379)\ttotal: 13.1s\tremaining: 20.9s\n",
      "385:\tlearn: 0.2820030\ttest: 0.3419691\ttest1: 0.4792330\tbest: 0.4791711 (379)\ttotal: 13.1s\tremaining: 20.8s\n",
      "386:\tlearn: 0.2819028\ttest: 0.3418991\ttest1: 0.4793567\tbest: 0.4791711 (379)\ttotal: 13.1s\tremaining: 20.8s\n",
      "387:\tlearn: 0.2815009\ttest: 0.3415819\ttest1: 0.4787495\tbest: 0.4787495 (387)\ttotal: 13.2s\tremaining: 20.8s\n",
      "388:\tlearn: 0.2805524\ttest: 0.3405177\ttest1: 0.4783079\tbest: 0.4783079 (388)\ttotal: 13.2s\tremaining: 20.7s\n",
      "389:\tlearn: 0.2801117\ttest: 0.3400695\ttest1: 0.4783426\tbest: 0.4783079 (388)\ttotal: 13.2s\tremaining: 20.7s\n",
      "390:\tlearn: 0.2798806\ttest: 0.3398805\ttest1: 0.4785680\tbest: 0.4783079 (388)\ttotal: 13.3s\tremaining: 20.6s\n",
      "391:\tlearn: 0.2794367\ttest: 0.3395430\ttest1: 0.4783635\tbest: 0.4783079 (388)\ttotal: 13.3s\tremaining: 20.6s\n",
      "392:\tlearn: 0.2791337\ttest: 0.3392969\ttest1: 0.4777457\tbest: 0.4777457 (392)\ttotal: 13.3s\tremaining: 20.6s\n",
      "393:\tlearn: 0.2788652\ttest: 0.3391031\ttest1: 0.4776715\tbest: 0.4776715 (393)\ttotal: 13.3s\tremaining: 20.5s\n",
      "394:\tlearn: 0.2784537\ttest: 0.3388898\ttest1: 0.4774747\tbest: 0.4774747 (394)\ttotal: 13.4s\tremaining: 20.5s\n",
      "395:\tlearn: 0.2782368\ttest: 0.3388487\ttest1: 0.4774537\tbest: 0.4774537 (395)\ttotal: 13.4s\tremaining: 20.4s\n",
      "396:\tlearn: 0.2777509\ttest: 0.3383149\ttest1: 0.4772023\tbest: 0.4772023 (396)\ttotal: 13.4s\tremaining: 20.4s\n",
      "397:\tlearn: 0.2774936\ttest: 0.3382448\ttest1: 0.4768527\tbest: 0.4768527 (397)\ttotal: 13.5s\tremaining: 20.4s\n",
      "398:\tlearn: 0.2771843\ttest: 0.3380245\ttest1: 0.4767810\tbest: 0.4767810 (398)\ttotal: 13.5s\tremaining: 20.3s\n",
      "399:\tlearn: 0.2764760\ttest: 0.3374578\ttest1: 0.4766039\tbest: 0.4766039 (399)\ttotal: 13.5s\tremaining: 20.3s\n",
      "400:\tlearn: 0.2758265\ttest: 0.3367165\ttest1: 0.4763365\tbest: 0.4763365 (400)\ttotal: 13.6s\tremaining: 20.3s\n",
      "401:\tlearn: 0.2754277\ttest: 0.3366548\ttest1: 0.4763103\tbest: 0.4763103 (401)\ttotal: 13.6s\tremaining: 20.2s\n",
      "402:\tlearn: 0.2749524\ttest: 0.3365230\ttest1: 0.4761888\tbest: 0.4761888 (402)\ttotal: 13.6s\tremaining: 20.2s\n"
     ]
    },
    {
     "name": "stdout",
     "output_type": "stream",
     "text": [
      "403:\tlearn: 0.2746591\ttest: 0.3365601\ttest1: 0.4761326\tbest: 0.4761326 (403)\ttotal: 13.6s\tremaining: 20.1s\n",
      "404:\tlearn: 0.2743871\ttest: 0.3362924\ttest1: 0.4759540\tbest: 0.4759540 (404)\ttotal: 13.7s\tremaining: 20.1s\n",
      "405:\tlearn: 0.2741968\ttest: 0.3362362\ttest1: 0.4758868\tbest: 0.4758868 (405)\ttotal: 13.7s\tremaining: 20.1s\n",
      "406:\tlearn: 0.2735852\ttest: 0.3355463\ttest1: 0.4759628\tbest: 0.4758868 (405)\ttotal: 13.8s\tremaining: 20s\n",
      "407:\tlearn: 0.2723880\ttest: 0.3344904\ttest1: 0.4765093\tbest: 0.4758868 (405)\ttotal: 13.8s\tremaining: 20s\n",
      "408:\tlearn: 0.2720284\ttest: 0.3342436\ttest1: 0.4764055\tbest: 0.4758868 (405)\ttotal: 13.8s\tremaining: 20s\n",
      "409:\tlearn: 0.2716401\ttest: 0.3340507\ttest1: 0.4759425\tbest: 0.4758868 (405)\ttotal: 13.9s\tremaining: 19.9s\n",
      "410:\tlearn: 0.2709023\ttest: 0.3332521\ttest1: 0.4760115\tbest: 0.4758868 (405)\ttotal: 13.9s\tremaining: 19.9s\n",
      "411:\tlearn: 0.2700512\ttest: 0.3322332\ttest1: 0.4758609\tbest: 0.4758609 (411)\ttotal: 13.9s\tremaining: 19.9s\n",
      "412:\tlearn: 0.2690809\ttest: 0.3313247\ttest1: 0.4764232\tbest: 0.4758609 (411)\ttotal: 14s\tremaining: 19.8s\n",
      "413:\tlearn: 0.2688058\ttest: 0.3312081\ttest1: 0.4763047\tbest: 0.4758609 (411)\ttotal: 14s\tremaining: 19.8s\n",
      "414:\tlearn: 0.2680784\ttest: 0.3306046\ttest1: 0.4759222\tbest: 0.4758609 (411)\ttotal: 14s\tremaining: 19.8s\n",
      "415:\tlearn: 0.2675646\ttest: 0.3302058\ttest1: 0.4761578\tbest: 0.4758609 (411)\ttotal: 14.1s\tremaining: 19.7s\n",
      "416:\tlearn: 0.2671661\ttest: 0.3300771\ttest1: 0.4758323\tbest: 0.4758323 (416)\ttotal: 14.1s\tremaining: 19.7s\n",
      "417:\tlearn: 0.2666530\ttest: 0.3296469\ttest1: 0.4761085\tbest: 0.4758323 (416)\ttotal: 14.1s\tremaining: 19.7s\n",
      "418:\tlearn: 0.2664775\ttest: 0.3295786\ttest1: 0.4762153\tbest: 0.4758323 (416)\ttotal: 14.2s\tremaining: 19.7s\n",
      "419:\tlearn: 0.2658985\ttest: 0.3289253\ttest1: 0.4760399\tbest: 0.4758323 (416)\ttotal: 14.2s\tremaining: 19.6s\n",
      "420:\tlearn: 0.2651107\ttest: 0.3280150\ttest1: 0.4763649\tbest: 0.4758323 (416)\ttotal: 14.3s\tremaining: 19.6s\n",
      "421:\tlearn: 0.2646776\ttest: 0.3277084\ttest1: 0.4763055\tbest: 0.4758323 (416)\ttotal: 14.3s\tremaining: 19.6s\n",
      "422:\tlearn: 0.2644219\ttest: 0.3276931\ttest1: 0.4759967\tbest: 0.4758323 (416)\ttotal: 14.3s\tremaining: 19.5s\n",
      "423:\tlearn: 0.2636534\ttest: 0.3268899\ttest1: 0.4754446\tbest: 0.4754446 (423)\ttotal: 14.3s\tremaining: 19.5s\n",
      "424:\tlearn: 0.2633079\ttest: 0.3264887\ttest1: 0.4754809\tbest: 0.4754446 (423)\ttotal: 14.4s\tremaining: 19.4s\n",
      "425:\tlearn: 0.2629112\ttest: 0.3261472\ttest1: 0.4760090\tbest: 0.4754446 (423)\ttotal: 14.4s\tremaining: 19.4s\n",
      "426:\tlearn: 0.2628597\ttest: 0.3260937\ttest1: 0.4761035\tbest: 0.4754446 (423)\ttotal: 14.4s\tremaining: 19.4s\n",
      "427:\tlearn: 0.2626247\ttest: 0.3260678\ttest1: 0.4760083\tbest: 0.4754446 (423)\ttotal: 14.5s\tremaining: 19.3s\n",
      "428:\tlearn: 0.2621043\ttest: 0.3256359\ttest1: 0.4754585\tbest: 0.4754446 (423)\ttotal: 14.5s\tremaining: 19.3s\n",
      "429:\tlearn: 0.2617142\ttest: 0.3254579\ttest1: 0.4759022\tbest: 0.4754446 (423)\ttotal: 14.5s\tremaining: 19.3s\n",
      "430:\tlearn: 0.2612712\ttest: 0.3249592\ttest1: 0.4759971\tbest: 0.4754446 (423)\ttotal: 14.6s\tremaining: 19.2s\n",
      "431:\tlearn: 0.2606072\ttest: 0.3242353\ttest1: 0.4757375\tbest: 0.4754446 (423)\ttotal: 14.6s\tremaining: 19.2s\n",
      "432:\tlearn: 0.2602575\ttest: 0.3239717\ttest1: 0.4754537\tbest: 0.4754446 (423)\ttotal: 14.6s\tremaining: 19.1s\n",
      "433:\tlearn: 0.2595376\ttest: 0.3232948\ttest1: 0.4753976\tbest: 0.4753976 (433)\ttotal: 14.7s\tremaining: 19.1s\n",
      "434:\tlearn: 0.2593134\ttest: 0.3230648\ttest1: 0.4757799\tbest: 0.4753976 (433)\ttotal: 14.7s\tremaining: 19.1s\n",
      "435:\tlearn: 0.2589399\ttest: 0.3228194\ttest1: 0.4761160\tbest: 0.4753976 (433)\ttotal: 14.7s\tremaining: 19.1s\n",
      "436:\tlearn: 0.2584532\ttest: 0.3223536\ttest1: 0.4762297\tbest: 0.4753976 (433)\ttotal: 14.8s\tremaining: 19s\n",
      "437:\tlearn: 0.2582348\ttest: 0.3222582\ttest1: 0.4763452\tbest: 0.4753976 (433)\ttotal: 14.8s\tremaining: 19s\n",
      "438:\tlearn: 0.2577239\ttest: 0.3218453\ttest1: 0.4761405\tbest: 0.4753976 (433)\ttotal: 14.9s\tremaining: 19s\n",
      "439:\tlearn: 0.2575140\ttest: 0.3216564\ttest1: 0.4761268\tbest: 0.4753976 (433)\ttotal: 14.9s\tremaining: 18.9s\n",
      "440:\tlearn: 0.2570073\ttest: 0.3213260\ttest1: 0.4756635\tbest: 0.4753976 (433)\ttotal: 14.9s\tremaining: 18.9s\n",
      "441:\tlearn: 0.2567124\ttest: 0.3212728\ttest1: 0.4757699\tbest: 0.4753976 (433)\ttotal: 14.9s\tremaining: 18.9s\n",
      "442:\tlearn: 0.2564942\ttest: 0.3210433\ttest1: 0.4760576\tbest: 0.4753976 (433)\ttotal: 15s\tremaining: 18.8s\n",
      "443:\tlearn: 0.2558251\ttest: 0.3202898\ttest1: 0.4753319\tbest: 0.4753319 (443)\ttotal: 15s\tremaining: 18.8s\n",
      "444:\tlearn: 0.2552696\ttest: 0.3196807\ttest1: 0.4749287\tbest: 0.4749287 (444)\ttotal: 15s\tremaining: 18.8s\n",
      "445:\tlearn: 0.2548826\ttest: 0.3195763\ttest1: 0.4747706\tbest: 0.4747706 (445)\ttotal: 15.1s\tremaining: 18.7s\n",
      "446:\tlearn: 0.2546478\ttest: 0.3194150\ttest1: 0.4747542\tbest: 0.4747542 (446)\ttotal: 15.1s\tremaining: 18.7s\n",
      "447:\tlearn: 0.2540518\ttest: 0.3189379\ttest1: 0.4746497\tbest: 0.4746497 (447)\ttotal: 15.1s\tremaining: 18.6s\n",
      "448:\tlearn: 0.2538745\ttest: 0.3187788\ttest1: 0.4748693\tbest: 0.4746497 (447)\ttotal: 15.2s\tremaining: 18.6s\n",
      "449:\tlearn: 0.2534935\ttest: 0.3185892\ttest1: 0.4746924\tbest: 0.4746497 (447)\ttotal: 15.2s\tremaining: 18.6s\n",
      "450:\tlearn: 0.2532401\ttest: 0.3183729\ttest1: 0.4749595\tbest: 0.4746497 (447)\ttotal: 15.2s\tremaining: 18.5s\n",
      "451:\tlearn: 0.2529714\ttest: 0.3182410\ttest1: 0.4747060\tbest: 0.4746497 (447)\ttotal: 15.3s\tremaining: 18.5s\n",
      "452:\tlearn: 0.2528579\ttest: 0.3181876\ttest1: 0.4747323\tbest: 0.4746497 (447)\ttotal: 15.3s\tremaining: 18.5s\n",
      "453:\tlearn: 0.2523383\ttest: 0.3176248\ttest1: 0.4746272\tbest: 0.4746272 (453)\ttotal: 15.3s\tremaining: 18.4s\n",
      "454:\tlearn: 0.2518170\ttest: 0.3175768\ttest1: 0.4747850\tbest: 0.4746272 (453)\ttotal: 15.3s\tremaining: 18.4s\n",
      "455:\tlearn: 0.2511352\ttest: 0.3167078\ttest1: 0.4747012\tbest: 0.4746272 (453)\ttotal: 15.4s\tremaining: 18.3s\n",
      "456:\tlearn: 0.2505879\ttest: 0.3162648\ttest1: 0.4747522\tbest: 0.4746272 (453)\ttotal: 15.4s\tremaining: 18.3s\n",
      "457:\tlearn: 0.2501760\ttest: 0.3160678\ttest1: 0.4747516\tbest: 0.4746272 (453)\ttotal: 15.4s\tremaining: 18.3s\n",
      "458:\tlearn: 0.2497209\ttest: 0.3159049\ttest1: 0.4744670\tbest: 0.4744670 (458)\ttotal: 15.5s\tremaining: 18.3s\n",
      "459:\tlearn: 0.2496002\ttest: 0.3157228\ttest1: 0.4745445\tbest: 0.4744670 (458)\ttotal: 15.5s\tremaining: 18.2s\n",
      "460:\tlearn: 0.2490472\ttest: 0.3150988\ttest1: 0.4751649\tbest: 0.4744670 (458)\ttotal: 15.5s\tremaining: 18.2s\n",
      "461:\tlearn: 0.2487590\ttest: 0.3147303\ttest1: 0.4748370\tbest: 0.4744670 (458)\ttotal: 15.6s\tremaining: 18.1s\n",
      "462:\tlearn: 0.2481191\ttest: 0.3139130\ttest1: 0.4747752\tbest: 0.4744670 (458)\ttotal: 15.6s\tremaining: 18.1s\n",
      "463:\tlearn: 0.2476451\ttest: 0.3137279\ttest1: 0.4751481\tbest: 0.4744670 (458)\ttotal: 15.6s\tremaining: 18.1s\n",
      "464:\tlearn: 0.2474371\ttest: 0.3137027\ttest1: 0.4750989\tbest: 0.4744670 (458)\ttotal: 15.7s\tremaining: 18s\n",
      "465:\tlearn: 0.2472371\ttest: 0.3135578\ttest1: 0.4748346\tbest: 0.4744670 (458)\ttotal: 15.7s\tremaining: 18s\n",
      "466:\tlearn: 0.2467255\ttest: 0.3129438\ttest1: 0.4754836\tbest: 0.4744670 (458)\ttotal: 15.7s\tremaining: 18s\n",
      "467:\tlearn: 0.2463895\ttest: 0.3125688\ttest1: 0.4755565\tbest: 0.4744670 (458)\ttotal: 15.8s\tremaining: 17.9s\n",
      "468:\tlearn: 0.2460825\ttest: 0.3122015\ttest1: 0.4753819\tbest: 0.4744670 (458)\ttotal: 15.8s\tremaining: 17.9s\n",
      "469:\tlearn: 0.2455688\ttest: 0.3116397\ttest1: 0.4753041\tbest: 0.4744670 (458)\ttotal: 15.8s\tremaining: 17.9s\n",
      "470:\tlearn: 0.2452644\ttest: 0.3115646\ttest1: 0.4754028\tbest: 0.4744670 (458)\ttotal: 15.9s\tremaining: 17.8s\n",
      "471:\tlearn: 0.2449411\ttest: 0.3113579\ttest1: 0.4753206\tbest: 0.4744670 (458)\ttotal: 15.9s\tremaining: 17.8s\n",
      "472:\tlearn: 0.2441975\ttest: 0.3105970\ttest1: 0.4765251\tbest: 0.4744670 (458)\ttotal: 15.9s\tremaining: 17.7s\n",
      "473:\tlearn: 0.2436575\ttest: 0.3100786\ttest1: 0.4764783\tbest: 0.4744670 (458)\ttotal: 16s\tremaining: 17.7s\n",
      "474:\tlearn: 0.2432196\ttest: 0.3097682\ttest1: 0.4761342\tbest: 0.4744670 (458)\ttotal: 16s\tremaining: 17.7s\n",
      "475:\tlearn: 0.2430604\ttest: 0.3096817\ttest1: 0.4760619\tbest: 0.4744670 (458)\ttotal: 16s\tremaining: 17.6s\n",
      "476:\tlearn: 0.2427199\ttest: 0.3093027\ttest1: 0.4754417\tbest: 0.4744670 (458)\ttotal: 16s\tremaining: 17.6s\n",
      "477:\tlearn: 0.2423403\ttest: 0.3088727\ttest1: 0.4747231\tbest: 0.4744670 (458)\ttotal: 16.1s\tremaining: 17.6s\n",
      "478:\tlearn: 0.2422463\ttest: 0.3086892\ttest1: 0.4748017\tbest: 0.4744670 (458)\ttotal: 16.1s\tremaining: 17.5s\n",
      "479:\tlearn: 0.2418535\ttest: 0.3085688\ttest1: 0.4745444\tbest: 0.4744670 (458)\ttotal: 16.2s\tremaining: 17.5s\n"
     ]
    },
    {
     "name": "stdout",
     "output_type": "stream",
     "text": [
      "480:\tlearn: 0.2413132\ttest: 0.3082968\ttest1: 0.4743209\tbest: 0.4743209 (480)\ttotal: 16.2s\tremaining: 17.5s\n",
      "481:\tlearn: 0.2410992\ttest: 0.3081681\ttest1: 0.4739363\tbest: 0.4739363 (481)\ttotal: 16.2s\tremaining: 17.5s\n",
      "482:\tlearn: 0.2405898\ttest: 0.3075241\ttest1: 0.4734002\tbest: 0.4734002 (482)\ttotal: 16.3s\tremaining: 17.4s\n",
      "483:\tlearn: 0.2400093\ttest: 0.3070659\ttest1: 0.4735172\tbest: 0.4734002 (482)\ttotal: 16.3s\tremaining: 17.4s\n",
      "484:\tlearn: 0.2396558\ttest: 0.3067308\ttest1: 0.4741083\tbest: 0.4734002 (482)\ttotal: 16.3s\tremaining: 17.4s\n",
      "485:\tlearn: 0.2393475\ttest: 0.3063781\ttest1: 0.4746995\tbest: 0.4734002 (482)\ttotal: 16.4s\tremaining: 17.3s\n",
      "486:\tlearn: 0.2391955\ttest: 0.3062390\ttest1: 0.4747125\tbest: 0.4734002 (482)\ttotal: 16.4s\tremaining: 17.3s\n",
      "487:\tlearn: 0.2389878\ttest: 0.3060648\ttest1: 0.4749937\tbest: 0.4734002 (482)\ttotal: 16.4s\tremaining: 17.3s\n",
      "488:\tlearn: 0.2386381\ttest: 0.3059804\ttest1: 0.4749244\tbest: 0.4734002 (482)\ttotal: 16.5s\tremaining: 17.2s\n",
      "489:\tlearn: 0.2383281\ttest: 0.3056265\ttest1: 0.4749102\tbest: 0.4734002 (482)\ttotal: 16.5s\tremaining: 17.2s\n",
      "490:\tlearn: 0.2378605\ttest: 0.3050479\ttest1: 0.4746045\tbest: 0.4734002 (482)\ttotal: 16.5s\tremaining: 17.1s\n",
      "491:\tlearn: 0.2375455\ttest: 0.3047259\ttest1: 0.4745884\tbest: 0.4734002 (482)\ttotal: 16.6s\tremaining: 17.1s\n",
      "492:\tlearn: 0.2370602\ttest: 0.3042803\ttest1: 0.4747633\tbest: 0.4734002 (482)\ttotal: 16.6s\tremaining: 17.1s\n",
      "493:\tlearn: 0.2367512\ttest: 0.3041370\ttest1: 0.4744495\tbest: 0.4734002 (482)\ttotal: 16.6s\tremaining: 17s\n",
      "494:\tlearn: 0.2364894\ttest: 0.3039262\ttest1: 0.4742568\tbest: 0.4734002 (482)\ttotal: 16.7s\tremaining: 17s\n",
      "495:\tlearn: 0.2361463\ttest: 0.3038094\ttest1: 0.4742742\tbest: 0.4734002 (482)\ttotal: 16.7s\tremaining: 17s\n",
      "496:\tlearn: 0.2358814\ttest: 0.3036717\ttest1: 0.4742734\tbest: 0.4734002 (482)\ttotal: 16.7s\tremaining: 16.9s\n",
      "497:\tlearn: 0.2352805\ttest: 0.3033305\ttest1: 0.4742806\tbest: 0.4734002 (482)\ttotal: 16.8s\tremaining: 16.9s\n",
      "498:\tlearn: 0.2347362\ttest: 0.3028704\ttest1: 0.4741149\tbest: 0.4734002 (482)\ttotal: 16.8s\tremaining: 16.9s\n",
      "499:\tlearn: 0.2345522\ttest: 0.3028349\ttest1: 0.4742060\tbest: 0.4734002 (482)\ttotal: 16.8s\tremaining: 16.8s\n",
      "500:\tlearn: 0.2343648\ttest: 0.3027188\ttest1: 0.4742370\tbest: 0.4734002 (482)\ttotal: 16.9s\tremaining: 16.8s\n",
      "501:\tlearn: 0.2340393\ttest: 0.3022924\ttest1: 0.4746312\tbest: 0.4734002 (482)\ttotal: 16.9s\tremaining: 16.8s\n",
      "502:\tlearn: 0.2339026\ttest: 0.3022880\ttest1: 0.4745751\tbest: 0.4734002 (482)\ttotal: 16.9s\tremaining: 16.7s\n",
      "503:\tlearn: 0.2337567\ttest: 0.3022544\ttest1: 0.4744598\tbest: 0.4734002 (482)\ttotal: 17s\tremaining: 16.7s\n",
      "504:\tlearn: 0.2333058\ttest: 0.3017101\ttest1: 0.4742159\tbest: 0.4734002 (482)\ttotal: 17s\tremaining: 16.6s\n",
      "505:\tlearn: 0.2332602\ttest: 0.3016575\ttest1: 0.4742518\tbest: 0.4734002 (482)\ttotal: 17s\tremaining: 16.6s\n",
      "506:\tlearn: 0.2324716\ttest: 0.3007490\ttest1: 0.4734640\tbest: 0.4734002 (482)\ttotal: 17s\tremaining: 16.6s\n",
      "507:\tlearn: 0.2320670\ttest: 0.3003694\ttest1: 0.4733038\tbest: 0.4733038 (507)\ttotal: 17.1s\tremaining: 16.5s\n",
      "508:\tlearn: 0.2319293\ttest: 0.3003139\ttest1: 0.4733282\tbest: 0.4733038 (507)\ttotal: 17.1s\tremaining: 16.5s\n",
      "509:\tlearn: 0.2313586\ttest: 0.2995847\ttest1: 0.4733172\tbest: 0.4733038 (507)\ttotal: 17.1s\tremaining: 16.5s\n",
      "510:\tlearn: 0.2307627\ttest: 0.2988767\ttest1: 0.4731775\tbest: 0.4731775 (510)\ttotal: 17.2s\tremaining: 16.4s\n",
      "511:\tlearn: 0.2304507\ttest: 0.2987988\ttest1: 0.4731795\tbest: 0.4731775 (510)\ttotal: 17.2s\tremaining: 16.4s\n",
      "512:\tlearn: 0.2299606\ttest: 0.2982146\ttest1: 0.4729438\tbest: 0.4729438 (512)\ttotal: 17.2s\tremaining: 16.3s\n",
      "513:\tlearn: 0.2296033\ttest: 0.2980031\ttest1: 0.4733288\tbest: 0.4729438 (512)\ttotal: 17.2s\tremaining: 16.3s\n",
      "514:\tlearn: 0.2293391\ttest: 0.2979205\ttest1: 0.4733031\tbest: 0.4729438 (512)\ttotal: 17.3s\tremaining: 16.3s\n",
      "515:\tlearn: 0.2291321\ttest: 0.2977664\ttest1: 0.4731204\tbest: 0.4729438 (512)\ttotal: 17.3s\tremaining: 16.2s\n",
      "516:\tlearn: 0.2290156\ttest: 0.2977412\ttest1: 0.4731145\tbest: 0.4729438 (512)\ttotal: 17.3s\tremaining: 16.2s\n",
      "517:\tlearn: 0.2283816\ttest: 0.2970049\ttest1: 0.4730786\tbest: 0.4729438 (512)\ttotal: 17.4s\tremaining: 16.1s\n",
      "518:\tlearn: 0.2282477\ttest: 0.2969913\ttest1: 0.4731477\tbest: 0.4729438 (512)\ttotal: 17.4s\tremaining: 16.1s\n",
      "519:\tlearn: 0.2281522\ttest: 0.2969436\ttest1: 0.4732279\tbest: 0.4729438 (512)\ttotal: 17.4s\tremaining: 16.1s\n",
      "520:\tlearn: 0.2275905\ttest: 0.2962908\ttest1: 0.4732806\tbest: 0.4729438 (512)\ttotal: 17.5s\tremaining: 16s\n",
      "521:\tlearn: 0.2274682\ttest: 0.2961853\ttest1: 0.4737046\tbest: 0.4729438 (512)\ttotal: 17.5s\tremaining: 16s\n",
      "522:\tlearn: 0.2272006\ttest: 0.2959141\ttest1: 0.4740479\tbest: 0.4729438 (512)\ttotal: 17.5s\tremaining: 16s\n",
      "523:\tlearn: 0.2268016\ttest: 0.2957516\ttest1: 0.4744169\tbest: 0.4729438 (512)\ttotal: 17.5s\tremaining: 15.9s\n",
      "524:\tlearn: 0.2265804\ttest: 0.2954216\ttest1: 0.4746697\tbest: 0.4729438 (512)\ttotal: 17.6s\tremaining: 15.9s\n",
      "525:\tlearn: 0.2265322\ttest: 0.2953623\ttest1: 0.4746920\tbest: 0.4729438 (512)\ttotal: 17.6s\tremaining: 15.9s\n",
      "526:\tlearn: 0.2264422\ttest: 0.2952711\ttest1: 0.4748678\tbest: 0.4729438 (512)\ttotal: 17.6s\tremaining: 15.8s\n",
      "527:\tlearn: 0.2260893\ttest: 0.2950044\ttest1: 0.4751813\tbest: 0.4729438 (512)\ttotal: 17.7s\tremaining: 15.8s\n",
      "528:\tlearn: 0.2259015\ttest: 0.2949281\ttest1: 0.4751353\tbest: 0.4729438 (512)\ttotal: 17.7s\tremaining: 15.8s\n",
      "529:\tlearn: 0.2255754\ttest: 0.2948203\ttest1: 0.4750272\tbest: 0.4729438 (512)\ttotal: 17.7s\tremaining: 15.7s\n",
      "530:\tlearn: 0.2252189\ttest: 0.2946916\ttest1: 0.4750347\tbest: 0.4729438 (512)\ttotal: 17.8s\tremaining: 15.7s\n",
      "531:\tlearn: 0.2248858\ttest: 0.2943942\ttest1: 0.4753865\tbest: 0.4729438 (512)\ttotal: 17.8s\tremaining: 15.7s\n",
      "532:\tlearn: 0.2238859\ttest: 0.2934515\ttest1: 0.4760463\tbest: 0.4729438 (512)\ttotal: 17.8s\tremaining: 15.6s\n",
      "533:\tlearn: 0.2235117\ttest: 0.2929963\ttest1: 0.4759689\tbest: 0.4729438 (512)\ttotal: 17.9s\tremaining: 15.6s\n",
      "534:\tlearn: 0.2232712\ttest: 0.2929511\ttest1: 0.4759520\tbest: 0.4729438 (512)\ttotal: 17.9s\tremaining: 15.6s\n",
      "535:\tlearn: 0.2228116\ttest: 0.2924992\ttest1: 0.4755372\tbest: 0.4729438 (512)\ttotal: 18s\tremaining: 15.5s\n",
      "536:\tlearn: 0.2224200\ttest: 0.2920385\ttest1: 0.4750230\tbest: 0.4729438 (512)\ttotal: 18s\tremaining: 15.5s\n",
      "537:\tlearn: 0.2222093\ttest: 0.2919257\ttest1: 0.4751395\tbest: 0.4729438 (512)\ttotal: 18s\tremaining: 15.5s\n",
      "538:\tlearn: 0.2217889\ttest: 0.2914679\ttest1: 0.4746108\tbest: 0.4729438 (512)\ttotal: 18.1s\tremaining: 15.4s\n",
      "539:\tlearn: 0.2212992\ttest: 0.2911717\ttest1: 0.4742045\tbest: 0.4729438 (512)\ttotal: 18.1s\tremaining: 15.4s\n",
      "540:\tlearn: 0.2209271\ttest: 0.2908945\ttest1: 0.4734844\tbest: 0.4729438 (512)\ttotal: 18.1s\tremaining: 15.4s\n",
      "541:\tlearn: 0.2207588\ttest: 0.2907856\ttest1: 0.4735310\tbest: 0.4729438 (512)\ttotal: 18.2s\tremaining: 15.3s\n",
      "542:\tlearn: 0.2204877\ttest: 0.2906044\ttest1: 0.4735057\tbest: 0.4729438 (512)\ttotal: 18.2s\tremaining: 15.3s\n",
      "543:\tlearn: 0.2201481\ttest: 0.2904424\ttest1: 0.4735223\tbest: 0.4729438 (512)\ttotal: 18.2s\tremaining: 15.3s\n",
      "544:\tlearn: 0.2197859\ttest: 0.2899676\ttest1: 0.4740037\tbest: 0.4729438 (512)\ttotal: 18.3s\tremaining: 15.2s\n",
      "545:\tlearn: 0.2194012\ttest: 0.2899393\ttest1: 0.4737712\tbest: 0.4729438 (512)\ttotal: 18.3s\tremaining: 15.2s\n",
      "546:\tlearn: 0.2190369\ttest: 0.2898087\ttest1: 0.4735469\tbest: 0.4729438 (512)\ttotal: 18.3s\tremaining: 15.2s\n",
      "547:\tlearn: 0.2185262\ttest: 0.2895455\ttest1: 0.4737633\tbest: 0.4729438 (512)\ttotal: 18.4s\tremaining: 15.1s\n",
      "548:\tlearn: 0.2181286\ttest: 0.2892462\ttest1: 0.4729881\tbest: 0.4729438 (512)\ttotal: 18.4s\tremaining: 15.1s\n",
      "549:\tlearn: 0.2179030\ttest: 0.2891222\ttest1: 0.4730473\tbest: 0.4729438 (512)\ttotal: 18.4s\tremaining: 15.1s\n",
      "550:\tlearn: 0.2177679\ttest: 0.2890053\ttest1: 0.4729931\tbest: 0.4729438 (512)\ttotal: 18.5s\tremaining: 15s\n",
      "551:\tlearn: 0.2175407\ttest: 0.2888611\ttest1: 0.4732659\tbest: 0.4729438 (512)\ttotal: 18.5s\tremaining: 15s\n",
      "552:\tlearn: 0.2173744\ttest: 0.2886610\ttest1: 0.4734937\tbest: 0.4729438 (512)\ttotal: 18.5s\tremaining: 15s\n",
      "553:\tlearn: 0.2167343\ttest: 0.2879423\ttest1: 0.4731384\tbest: 0.4729438 (512)\ttotal: 18.6s\tremaining: 14.9s\n",
      "554:\tlearn: 0.2166144\ttest: 0.2877652\ttest1: 0.4731423\tbest: 0.4729438 (512)\ttotal: 18.6s\tremaining: 14.9s\n",
      "555:\tlearn: 0.2164514\ttest: 0.2875530\ttest1: 0.4731797\tbest: 0.4729438 (512)\ttotal: 18.6s\tremaining: 14.9s\n",
      "556:\tlearn: 0.2163183\ttest: 0.2875512\ttest1: 0.4730718\tbest: 0.4729438 (512)\ttotal: 18.6s\tremaining: 14.8s\n",
      "557:\tlearn: 0.2157163\ttest: 0.2868139\ttest1: 0.4733023\tbest: 0.4729438 (512)\ttotal: 18.7s\tremaining: 14.8s\n",
      "558:\tlearn: 0.2154073\ttest: 0.2864364\ttest1: 0.4729745\tbest: 0.4729438 (512)\ttotal: 18.7s\tremaining: 14.8s\n",
      "559:\tlearn: 0.2150686\ttest: 0.2860006\ttest1: 0.4728456\tbest: 0.4728456 (559)\ttotal: 18.8s\tremaining: 14.7s\n",
      "560:\tlearn: 0.2146566\ttest: 0.2859054\ttest1: 0.4728800\tbest: 0.4728456 (559)\ttotal: 18.8s\tremaining: 14.7s\n"
     ]
    },
    {
     "name": "stdout",
     "output_type": "stream",
     "text": [
      "561:\tlearn: 0.2143354\ttest: 0.2856094\ttest1: 0.4725476\tbest: 0.4725476 (561)\ttotal: 18.8s\tremaining: 14.7s\n",
      "562:\tlearn: 0.2142528\ttest: 0.2855662\ttest1: 0.4726608\tbest: 0.4725476 (561)\ttotal: 18.9s\tremaining: 14.6s\n",
      "563:\tlearn: 0.2140228\ttest: 0.2852499\ttest1: 0.4721620\tbest: 0.4721620 (563)\ttotal: 18.9s\tremaining: 14.6s\n",
      "564:\tlearn: 0.2137652\ttest: 0.2850189\ttest1: 0.4721686\tbest: 0.4721620 (563)\ttotal: 18.9s\tremaining: 14.6s\n",
      "565:\tlearn: 0.2135150\ttest: 0.2849361\ttest1: 0.4719345\tbest: 0.4719345 (565)\ttotal: 19s\tremaining: 14.6s\n",
      "566:\tlearn: 0.2132751\ttest: 0.2846811\ttest1: 0.4718316\tbest: 0.4718316 (566)\ttotal: 19s\tremaining: 14.5s\n",
      "567:\tlearn: 0.2128793\ttest: 0.2842323\ttest1: 0.4718110\tbest: 0.4718110 (567)\ttotal: 19s\tremaining: 14.5s\n",
      "568:\tlearn: 0.2127124\ttest: 0.2840461\ttest1: 0.4715253\tbest: 0.4715253 (568)\ttotal: 19.1s\tremaining: 14.4s\n",
      "569:\tlearn: 0.2124929\ttest: 0.2839207\ttest1: 0.4719588\tbest: 0.4715253 (568)\ttotal: 19.1s\tremaining: 14.4s\n",
      "570:\tlearn: 0.2121386\ttest: 0.2838432\ttest1: 0.4720780\tbest: 0.4715253 (568)\ttotal: 19.1s\tremaining: 14.4s\n",
      "571:\tlearn: 0.2118529\ttest: 0.2835884\ttest1: 0.4723162\tbest: 0.4715253 (568)\ttotal: 19.2s\tremaining: 14.3s\n",
      "572:\tlearn: 0.2117124\ttest: 0.2835594\ttest1: 0.4722040\tbest: 0.4715253 (568)\ttotal: 19.2s\tremaining: 14.3s\n",
      "573:\tlearn: 0.2111491\ttest: 0.2833574\ttest1: 0.4727396\tbest: 0.4715253 (568)\ttotal: 19.2s\tremaining: 14.3s\n",
      "574:\tlearn: 0.2111245\ttest: 0.2833270\ttest1: 0.4728211\tbest: 0.4715253 (568)\ttotal: 19.2s\tremaining: 14.2s\n",
      "575:\tlearn: 0.2109166\ttest: 0.2830900\ttest1: 0.4731430\tbest: 0.4715253 (568)\ttotal: 19.3s\tremaining: 14.2s\n",
      "576:\tlearn: 0.2103225\ttest: 0.2824983\ttest1: 0.4732136\tbest: 0.4715253 (568)\ttotal: 19.3s\tremaining: 14.2s\n",
      "577:\tlearn: 0.2099421\ttest: 0.2821247\ttest1: 0.4731210\tbest: 0.4715253 (568)\ttotal: 19.3s\tremaining: 14.1s\n",
      "578:\tlearn: 0.2097023\ttest: 0.2818763\ttest1: 0.4730245\tbest: 0.4715253 (568)\ttotal: 19.4s\tremaining: 14.1s\n",
      "579:\tlearn: 0.2092283\ttest: 0.2815459\ttest1: 0.4727545\tbest: 0.4715253 (568)\ttotal: 19.4s\tremaining: 14s\n",
      "580:\tlearn: 0.2090308\ttest: 0.2813304\ttest1: 0.4731222\tbest: 0.4715253 (568)\ttotal: 19.4s\tremaining: 14s\n",
      "581:\tlearn: 0.2088922\ttest: 0.2812110\ttest1: 0.4729160\tbest: 0.4715253 (568)\ttotal: 19.5s\tremaining: 14s\n",
      "582:\tlearn: 0.2084463\ttest: 0.2808982\ttest1: 0.4725995\tbest: 0.4715253 (568)\ttotal: 19.5s\tremaining: 14s\n",
      "583:\tlearn: 0.2081043\ttest: 0.2804643\ttest1: 0.4726391\tbest: 0.4715253 (568)\ttotal: 19.5s\tremaining: 13.9s\n",
      "584:\tlearn: 0.2076762\ttest: 0.2799586\ttest1: 0.4722025\tbest: 0.4715253 (568)\ttotal: 19.6s\tremaining: 13.9s\n",
      "585:\tlearn: 0.2072164\ttest: 0.2794883\ttest1: 0.4718115\tbest: 0.4715253 (568)\ttotal: 19.6s\tremaining: 13.8s\n",
      "586:\tlearn: 0.2069944\ttest: 0.2794147\ttest1: 0.4720964\tbest: 0.4715253 (568)\ttotal: 19.6s\tremaining: 13.8s\n",
      "587:\tlearn: 0.2065914\ttest: 0.2791073\ttest1: 0.4718670\tbest: 0.4715253 (568)\ttotal: 19.7s\tremaining: 13.8s\n",
      "588:\tlearn: 0.2063398\ttest: 0.2790648\ttest1: 0.4716120\tbest: 0.4715253 (568)\ttotal: 19.7s\tremaining: 13.7s\n",
      "589:\tlearn: 0.2061007\ttest: 0.2788682\ttest1: 0.4712583\tbest: 0.4712583 (589)\ttotal: 19.7s\tremaining: 13.7s\n",
      "590:\tlearn: 0.2057265\ttest: 0.2783932\ttest1: 0.4708922\tbest: 0.4708922 (590)\ttotal: 19.8s\tremaining: 13.7s\n",
      "591:\tlearn: 0.2055392\ttest: 0.2781963\ttest1: 0.4712448\tbest: 0.4708922 (590)\ttotal: 19.8s\tremaining: 13.7s\n",
      "592:\tlearn: 0.2051662\ttest: 0.2780636\ttest1: 0.4712454\tbest: 0.4708922 (590)\ttotal: 19.8s\tremaining: 13.6s\n",
      "593:\tlearn: 0.2049021\ttest: 0.2778192\ttest1: 0.4711996\tbest: 0.4708922 (590)\ttotal: 19.9s\tremaining: 13.6s\n",
      "594:\tlearn: 0.2046245\ttest: 0.2778841\ttest1: 0.4712843\tbest: 0.4708922 (590)\ttotal: 19.9s\tremaining: 13.6s\n",
      "595:\tlearn: 0.2044284\ttest: 0.2779144\ttest1: 0.4711097\tbest: 0.4708922 (590)\ttotal: 19.9s\tremaining: 13.5s\n",
      "596:\tlearn: 0.2041783\ttest: 0.2777417\ttest1: 0.4712803\tbest: 0.4708922 (590)\ttotal: 20s\tremaining: 13.5s\n",
      "597:\tlearn: 0.2039524\ttest: 0.2774713\ttest1: 0.4715345\tbest: 0.4708922 (590)\ttotal: 20s\tremaining: 13.4s\n",
      "598:\tlearn: 0.2033734\ttest: 0.2771064\ttest1: 0.4714767\tbest: 0.4708922 (590)\ttotal: 20s\tremaining: 13.4s\n",
      "599:\tlearn: 0.2029836\ttest: 0.2765433\ttest1: 0.4716012\tbest: 0.4708922 (590)\ttotal: 20.1s\tremaining: 13.4s\n",
      "600:\tlearn: 0.2028861\ttest: 0.2764341\ttest1: 0.4715710\tbest: 0.4708922 (590)\ttotal: 20.1s\tremaining: 13.3s\n",
      "601:\tlearn: 0.2026616\ttest: 0.2761629\ttest1: 0.4712015\tbest: 0.4708922 (590)\ttotal: 20.1s\tremaining: 13.3s\n",
      "602:\tlearn: 0.2022827\ttest: 0.2758436\ttest1: 0.4709085\tbest: 0.4708922 (590)\ttotal: 20.2s\tremaining: 13.3s\n",
      "603:\tlearn: 0.2020787\ttest: 0.2757122\ttest1: 0.4710424\tbest: 0.4708922 (590)\ttotal: 20.2s\tremaining: 13.2s\n",
      "604:\tlearn: 0.2018847\ttest: 0.2755582\ttest1: 0.4711455\tbest: 0.4708922 (590)\ttotal: 20.2s\tremaining: 13.2s\n",
      "605:\tlearn: 0.2018559\ttest: 0.2755380\ttest1: 0.4711576\tbest: 0.4708922 (590)\ttotal: 20.3s\tremaining: 13.2s\n",
      "606:\tlearn: 0.2016779\ttest: 0.2754707\ttest1: 0.4709253\tbest: 0.4708922 (590)\ttotal: 20.3s\tremaining: 13.1s\n",
      "607:\tlearn: 0.2014796\ttest: 0.2754119\ttest1: 0.4709643\tbest: 0.4708922 (590)\ttotal: 20.3s\tremaining: 13.1s\n",
      "608:\tlearn: 0.2011429\ttest: 0.2749174\ttest1: 0.4708407\tbest: 0.4708407 (608)\ttotal: 20.4s\tremaining: 13.1s\n",
      "609:\tlearn: 0.2008309\ttest: 0.2746482\ttest1: 0.4704741\tbest: 0.4704741 (609)\ttotal: 20.4s\tremaining: 13.1s\n",
      "610:\tlearn: 0.2005020\ttest: 0.2743599\ttest1: 0.4704130\tbest: 0.4704130 (610)\ttotal: 20.5s\tremaining: 13s\n",
      "611:\tlearn: 0.2004290\ttest: 0.2743028\ttest1: 0.4705265\tbest: 0.4704130 (610)\ttotal: 20.5s\tremaining: 13s\n",
      "612:\tlearn: 0.2002859\ttest: 0.2742314\ttest1: 0.4703273\tbest: 0.4703273 (612)\ttotal: 20.5s\tremaining: 13s\n",
      "613:\tlearn: 0.2001298\ttest: 0.2741620\ttest1: 0.4702312\tbest: 0.4702312 (613)\ttotal: 20.6s\tremaining: 12.9s\n",
      "614:\tlearn: 0.2001102\ttest: 0.2741627\ttest1: 0.4702491\tbest: 0.4702312 (613)\ttotal: 20.6s\tremaining: 12.9s\n",
      "615:\tlearn: 0.1996962\ttest: 0.2738163\ttest1: 0.4696778\tbest: 0.4696778 (615)\ttotal: 20.6s\tremaining: 12.9s\n",
      "616:\tlearn: 0.1995232\ttest: 0.2737269\ttest1: 0.4696258\tbest: 0.4696258 (616)\ttotal: 20.7s\tremaining: 12.8s\n",
      "617:\tlearn: 0.1991926\ttest: 0.2733276\ttest1: 0.4691656\tbest: 0.4691656 (617)\ttotal: 20.7s\tremaining: 12.8s\n",
      "618:\tlearn: 0.1990198\ttest: 0.2730692\ttest1: 0.4694150\tbest: 0.4691656 (617)\ttotal: 20.7s\tremaining: 12.8s\n",
      "619:\tlearn: 0.1986770\ttest: 0.2728130\ttest1: 0.4695467\tbest: 0.4691656 (617)\ttotal: 20.8s\tremaining: 12.7s\n",
      "620:\tlearn: 0.1980013\ttest: 0.2723082\ttest1: 0.4698843\tbest: 0.4691656 (617)\ttotal: 20.8s\tremaining: 12.7s\n",
      "621:\tlearn: 0.1977599\ttest: 0.2721908\ttest1: 0.4701335\tbest: 0.4691656 (617)\ttotal: 20.9s\tremaining: 12.7s\n",
      "622:\tlearn: 0.1976641\ttest: 0.2721018\ttest1: 0.4702413\tbest: 0.4691656 (617)\ttotal: 20.9s\tremaining: 12.6s\n",
      "623:\tlearn: 0.1972878\ttest: 0.2717467\ttest1: 0.4707892\tbest: 0.4691656 (617)\ttotal: 20.9s\tremaining: 12.6s\n",
      "624:\tlearn: 0.1970737\ttest: 0.2716008\ttest1: 0.4707158\tbest: 0.4691656 (617)\ttotal: 21s\tremaining: 12.6s\n",
      "625:\tlearn: 0.1968745\ttest: 0.2715871\ttest1: 0.4708630\tbest: 0.4691656 (617)\ttotal: 21s\tremaining: 12.5s\n",
      "626:\tlearn: 0.1963547\ttest: 0.2715849\ttest1: 0.4712697\tbest: 0.4691656 (617)\ttotal: 21s\tremaining: 12.5s\n",
      "627:\tlearn: 0.1960156\ttest: 0.2711944\ttest1: 0.4708817\tbest: 0.4691656 (617)\ttotal: 21.1s\tremaining: 12.5s\n",
      "628:\tlearn: 0.1957236\ttest: 0.2709181\ttest1: 0.4711167\tbest: 0.4691656 (617)\ttotal: 21.1s\tremaining: 12.4s\n",
      "629:\tlearn: 0.1956846\ttest: 0.2708863\ttest1: 0.4710139\tbest: 0.4691656 (617)\ttotal: 21.1s\tremaining: 12.4s\n",
      "630:\tlearn: 0.1955493\ttest: 0.2708578\ttest1: 0.4711014\tbest: 0.4691656 (617)\ttotal: 21.2s\tremaining: 12.4s\n",
      "631:\tlearn: 0.1953419\ttest: 0.2706586\ttest1: 0.4710169\tbest: 0.4691656 (617)\ttotal: 21.2s\tremaining: 12.3s\n",
      "632:\tlearn: 0.1947344\ttest: 0.2701792\ttest1: 0.4716279\tbest: 0.4691656 (617)\ttotal: 21.2s\tremaining: 12.3s\n",
      "633:\tlearn: 0.1945077\ttest: 0.2700240\ttest1: 0.4715969\tbest: 0.4691656 (617)\ttotal: 21.3s\tremaining: 12.3s\n",
      "634:\tlearn: 0.1943983\ttest: 0.2700043\ttest1: 0.4715684\tbest: 0.4691656 (617)\ttotal: 21.3s\tremaining: 12.2s\n",
      "635:\tlearn: 0.1940620\ttest: 0.2695698\ttest1: 0.4715094\tbest: 0.4691656 (617)\ttotal: 21.3s\tremaining: 12.2s\n",
      "636:\tlearn: 0.1937694\ttest: 0.2695538\ttest1: 0.4712505\tbest: 0.4691656 (617)\ttotal: 21.3s\tremaining: 12.2s\n",
      "637:\tlearn: 0.1936114\ttest: 0.2693897\ttest1: 0.4715006\tbest: 0.4691656 (617)\ttotal: 21.4s\tremaining: 12.1s\n"
     ]
    },
    {
     "name": "stdout",
     "output_type": "stream",
     "text": [
      "638:\tlearn: 0.1934572\ttest: 0.2692025\ttest1: 0.4720983\tbest: 0.4691656 (617)\ttotal: 21.4s\tremaining: 12.1s\n",
      "639:\tlearn: 0.1932645\ttest: 0.2690697\ttest1: 0.4725084\tbest: 0.4691656 (617)\ttotal: 21.4s\tremaining: 12.1s\n",
      "640:\tlearn: 0.1930727\ttest: 0.2690389\ttest1: 0.4724932\tbest: 0.4691656 (617)\ttotal: 21.5s\tremaining: 12s\n",
      "641:\tlearn: 0.1929182\ttest: 0.2689781\ttest1: 0.4725667\tbest: 0.4691656 (617)\ttotal: 21.5s\tremaining: 12s\n",
      "642:\tlearn: 0.1925137\ttest: 0.2686469\ttest1: 0.4723256\tbest: 0.4691656 (617)\ttotal: 21.5s\tremaining: 12s\n",
      "643:\tlearn: 0.1921840\ttest: 0.2683207\ttest1: 0.4726235\tbest: 0.4691656 (617)\ttotal: 21.6s\tremaining: 11.9s\n",
      "644:\tlearn: 0.1919175\ttest: 0.2680063\ttest1: 0.4723864\tbest: 0.4691656 (617)\ttotal: 21.6s\tremaining: 11.9s\n",
      "645:\tlearn: 0.1918179\ttest: 0.2679454\ttest1: 0.4723767\tbest: 0.4691656 (617)\ttotal: 21.6s\tremaining: 11.9s\n",
      "646:\tlearn: 0.1915606\ttest: 0.2678458\ttest1: 0.4723501\tbest: 0.4691656 (617)\ttotal: 21.7s\tremaining: 11.8s\n",
      "647:\tlearn: 0.1912350\ttest: 0.2678359\ttest1: 0.4721617\tbest: 0.4691656 (617)\ttotal: 21.7s\tremaining: 11.8s\n",
      "648:\tlearn: 0.1909360\ttest: 0.2675357\ttest1: 0.4721073\tbest: 0.4691656 (617)\ttotal: 21.7s\tremaining: 11.7s\n",
      "649:\tlearn: 0.1907732\ttest: 0.2673109\ttest1: 0.4719768\tbest: 0.4691656 (617)\ttotal: 21.7s\tremaining: 11.7s\n",
      "650:\tlearn: 0.1906790\ttest: 0.2671856\ttest1: 0.4721276\tbest: 0.4691656 (617)\ttotal: 21.8s\tremaining: 11.7s\n",
      "651:\tlearn: 0.1903479\ttest: 0.2671227\ttest1: 0.4721779\tbest: 0.4691656 (617)\ttotal: 21.8s\tremaining: 11.6s\n",
      "652:\tlearn: 0.1903121\ttest: 0.2670815\ttest1: 0.4722417\tbest: 0.4691656 (617)\ttotal: 21.8s\tremaining: 11.6s\n",
      "653:\tlearn: 0.1902712\ttest: 0.2670581\ttest1: 0.4723179\tbest: 0.4691656 (617)\ttotal: 21.9s\tremaining: 11.6s\n",
      "654:\tlearn: 0.1898347\ttest: 0.2666738\ttest1: 0.4725753\tbest: 0.4691656 (617)\ttotal: 21.9s\tremaining: 11.5s\n",
      "655:\tlearn: 0.1894710\ttest: 0.2662779\ttest1: 0.4717433\tbest: 0.4691656 (617)\ttotal: 21.9s\tremaining: 11.5s\n",
      "656:\tlearn: 0.1892981\ttest: 0.2661503\ttest1: 0.4716673\tbest: 0.4691656 (617)\ttotal: 22s\tremaining: 11.5s\n",
      "657:\tlearn: 0.1890778\ttest: 0.2659089\ttest1: 0.4715018\tbest: 0.4691656 (617)\ttotal: 22s\tremaining: 11.4s\n",
      "658:\tlearn: 0.1889269\ttest: 0.2657840\ttest1: 0.4716971\tbest: 0.4691656 (617)\ttotal: 22s\tremaining: 11.4s\n",
      "659:\tlearn: 0.1886441\ttest: 0.2654812\ttest1: 0.4715939\tbest: 0.4691656 (617)\ttotal: 22.1s\tremaining: 11.4s\n",
      "660:\tlearn: 0.1883477\ttest: 0.2651254\ttest1: 0.4718556\tbest: 0.4691656 (617)\ttotal: 22.1s\tremaining: 11.3s\n",
      "661:\tlearn: 0.1880464\ttest: 0.2647885\ttest1: 0.4710889\tbest: 0.4691656 (617)\ttotal: 22.1s\tremaining: 11.3s\n",
      "662:\tlearn: 0.1879197\ttest: 0.2646487\ttest1: 0.4709114\tbest: 0.4691656 (617)\ttotal: 22.2s\tremaining: 11.3s\n",
      "663:\tlearn: 0.1877563\ttest: 0.2645806\ttest1: 0.4708830\tbest: 0.4691656 (617)\ttotal: 22.2s\tremaining: 11.2s\n",
      "664:\tlearn: 0.1876135\ttest: 0.2644369\ttest1: 0.4708461\tbest: 0.4691656 (617)\ttotal: 22.2s\tremaining: 11.2s\n",
      "665:\tlearn: 0.1875921\ttest: 0.2644094\ttest1: 0.4709202\tbest: 0.4691656 (617)\ttotal: 22.3s\tremaining: 11.2s\n",
      "666:\tlearn: 0.1874482\ttest: 0.2642669\ttest1: 0.4707514\tbest: 0.4691656 (617)\ttotal: 22.3s\tremaining: 11.1s\n",
      "667:\tlearn: 0.1872293\ttest: 0.2641613\ttest1: 0.4708107\tbest: 0.4691656 (617)\ttotal: 22.3s\tremaining: 11.1s\n",
      "668:\tlearn: 0.1871628\ttest: 0.2640593\ttest1: 0.4709242\tbest: 0.4691656 (617)\ttotal: 22.3s\tremaining: 11.1s\n",
      "669:\tlearn: 0.1870748\ttest: 0.2639587\ttest1: 0.4705570\tbest: 0.4691656 (617)\ttotal: 22.4s\tremaining: 11s\n",
      "670:\tlearn: 0.1866332\ttest: 0.2634153\ttest1: 0.4700431\tbest: 0.4691656 (617)\ttotal: 22.4s\tremaining: 11s\n",
      "671:\tlearn: 0.1864755\ttest: 0.2631922\ttest1: 0.4701138\tbest: 0.4691656 (617)\ttotal: 22.4s\tremaining: 11s\n",
      "672:\tlearn: 0.1861692\ttest: 0.2630225\ttest1: 0.4705464\tbest: 0.4691656 (617)\ttotal: 22.5s\tremaining: 10.9s\n",
      "673:\tlearn: 0.1859303\ttest: 0.2630027\ttest1: 0.4705076\tbest: 0.4691656 (617)\ttotal: 22.5s\tremaining: 10.9s\n",
      "674:\tlearn: 0.1855514\ttest: 0.2627465\ttest1: 0.4707090\tbest: 0.4691656 (617)\ttotal: 22.5s\tremaining: 10.9s\n",
      "675:\tlearn: 0.1853720\ttest: 0.2624834\ttest1: 0.4710925\tbest: 0.4691656 (617)\ttotal: 22.6s\tremaining: 10.8s\n",
      "676:\tlearn: 0.1850063\ttest: 0.2621950\ttest1: 0.4707085\tbest: 0.4691656 (617)\ttotal: 22.6s\tremaining: 10.8s\n",
      "677:\tlearn: 0.1848858\ttest: 0.2621040\ttest1: 0.4707859\tbest: 0.4691656 (617)\ttotal: 22.6s\tremaining: 10.8s\n",
      "678:\tlearn: 0.1846783\ttest: 0.2619101\ttest1: 0.4709845\tbest: 0.4691656 (617)\ttotal: 22.7s\tremaining: 10.7s\n",
      "679:\tlearn: 0.1844175\ttest: 0.2616343\ttest1: 0.4708942\tbest: 0.4691656 (617)\ttotal: 22.7s\tremaining: 10.7s\n",
      "680:\tlearn: 0.1841078\ttest: 0.2614054\ttest1: 0.4705119\tbest: 0.4691656 (617)\ttotal: 22.7s\tremaining: 10.6s\n",
      "681:\tlearn: 0.1839722\ttest: 0.2613058\ttest1: 0.4705449\tbest: 0.4691656 (617)\ttotal: 22.8s\tremaining: 10.6s\n",
      "682:\tlearn: 0.1837622\ttest: 0.2609750\ttest1: 0.4708449\tbest: 0.4691656 (617)\ttotal: 22.8s\tremaining: 10.6s\n",
      "683:\tlearn: 0.1835971\ttest: 0.2608581\ttest1: 0.4709095\tbest: 0.4691656 (617)\ttotal: 22.8s\tremaining: 10.5s\n",
      "684:\tlearn: 0.1833564\ttest: 0.2607175\ttest1: 0.4709714\tbest: 0.4691656 (617)\ttotal: 22.8s\tremaining: 10.5s\n",
      "685:\tlearn: 0.1830369\ttest: 0.2606291\ttest1: 0.4713758\tbest: 0.4691656 (617)\ttotal: 22.9s\tremaining: 10.5s\n",
      "686:\tlearn: 0.1828663\ttest: 0.2603424\ttest1: 0.4714791\tbest: 0.4691656 (617)\ttotal: 22.9s\tremaining: 10.4s\n",
      "687:\tlearn: 0.1827466\ttest: 0.2602653\ttest1: 0.4715707\tbest: 0.4691656 (617)\ttotal: 22.9s\tremaining: 10.4s\n",
      "688:\tlearn: 0.1826252\ttest: 0.2602427\ttest1: 0.4715581\tbest: 0.4691656 (617)\ttotal: 23s\tremaining: 10.4s\n",
      "689:\tlearn: 0.1824486\ttest: 0.2601447\ttest1: 0.4718200\tbest: 0.4691656 (617)\ttotal: 23s\tremaining: 10.3s\n",
      "690:\tlearn: 0.1820451\ttest: 0.2595731\ttest1: 0.4722640\tbest: 0.4691656 (617)\ttotal: 23s\tremaining: 10.3s\n",
      "691:\tlearn: 0.1818817\ttest: 0.2594609\ttest1: 0.4726582\tbest: 0.4691656 (617)\ttotal: 23.1s\tremaining: 10.3s\n",
      "692:\tlearn: 0.1817563\ttest: 0.2593109\ttest1: 0.4725782\tbest: 0.4691656 (617)\ttotal: 23.1s\tremaining: 10.2s\n",
      "693:\tlearn: 0.1816157\ttest: 0.2591478\ttest1: 0.4729767\tbest: 0.4691656 (617)\ttotal: 23.1s\tremaining: 10.2s\n",
      "694:\tlearn: 0.1814664\ttest: 0.2591448\ttest1: 0.4731160\tbest: 0.4691656 (617)\ttotal: 23.2s\tremaining: 10.2s\n",
      "695:\tlearn: 0.1812336\ttest: 0.2588351\ttest1: 0.4731212\tbest: 0.4691656 (617)\ttotal: 23.2s\tremaining: 10.1s\n",
      "696:\tlearn: 0.1809503\ttest: 0.2585172\ttest1: 0.4731685\tbest: 0.4691656 (617)\ttotal: 23.3s\tremaining: 10.1s\n",
      "697:\tlearn: 0.1807032\ttest: 0.2582923\ttest1: 0.4732332\tbest: 0.4691656 (617)\ttotal: 23.3s\tremaining: 10.1s\n",
      "698:\tlearn: 0.1804372\ttest: 0.2581662\ttest1: 0.4734768\tbest: 0.4691656 (617)\ttotal: 23.3s\tremaining: 10s\n",
      "699:\tlearn: 0.1802206\ttest: 0.2580440\ttest1: 0.4730823\tbest: 0.4691656 (617)\ttotal: 23.3s\tremaining: 10s\n",
      "700:\tlearn: 0.1799001\ttest: 0.2578109\ttest1: 0.4728039\tbest: 0.4691656 (617)\ttotal: 23.4s\tremaining: 9.96s\n",
      "701:\tlearn: 0.1796748\ttest: 0.2575541\ttest1: 0.4729732\tbest: 0.4691656 (617)\ttotal: 23.4s\tremaining: 9.93s\n",
      "702:\tlearn: 0.1793262\ttest: 0.2571258\ttest1: 0.4731432\tbest: 0.4691656 (617)\ttotal: 23.4s\tremaining: 9.9s\n",
      "703:\tlearn: 0.1791410\ttest: 0.2569895\ttest1: 0.4728219\tbest: 0.4691656 (617)\ttotal: 23.5s\tremaining: 9.86s\n",
      "704:\tlearn: 0.1788121\ttest: 0.2566674\ttest1: 0.4724936\tbest: 0.4691656 (617)\ttotal: 23.5s\tremaining: 9.83s\n",
      "705:\tlearn: 0.1786250\ttest: 0.2566180\ttest1: 0.4725122\tbest: 0.4691656 (617)\ttotal: 23.5s\tremaining: 9.79s\n",
      "706:\tlearn: 0.1781882\ttest: 0.2564164\ttest1: 0.4720194\tbest: 0.4691656 (617)\ttotal: 23.6s\tremaining: 9.76s\n",
      "707:\tlearn: 0.1781756\ttest: 0.2564104\ttest1: 0.4719936\tbest: 0.4691656 (617)\ttotal: 23.6s\tremaining: 9.73s\n",
      "708:\tlearn: 0.1777005\ttest: 0.2558150\ttest1: 0.4715836\tbest: 0.4691656 (617)\ttotal: 23.6s\tremaining: 9.7s\n",
      "709:\tlearn: 0.1772897\ttest: 0.2554672\ttest1: 0.4716881\tbest: 0.4691656 (617)\ttotal: 23.7s\tremaining: 9.66s\n",
      "710:\tlearn: 0.1765016\ttest: 0.2545743\ttest1: 0.4715123\tbest: 0.4691656 (617)\ttotal: 23.7s\tremaining: 9.63s\n",
      "711:\tlearn: 0.1764601\ttest: 0.2545334\ttest1: 0.4715067\tbest: 0.4691656 (617)\ttotal: 23.7s\tremaining: 9.59s\n",
      "712:\tlearn: 0.1762080\ttest: 0.2545292\ttest1: 0.4720666\tbest: 0.4691656 (617)\ttotal: 23.8s\tremaining: 9.56s\n",
      "713:\tlearn: 0.1760748\ttest: 0.2544154\ttest1: 0.4717578\tbest: 0.4691656 (617)\ttotal: 23.8s\tremaining: 9.53s\n",
      "714:\tlearn: 0.1759174\ttest: 0.2542746\ttest1: 0.4714597\tbest: 0.4691656 (617)\ttotal: 23.8s\tremaining: 9.49s\n",
      "715:\tlearn: 0.1758072\ttest: 0.2541607\ttest1: 0.4713614\tbest: 0.4691656 (617)\ttotal: 23.9s\tremaining: 9.47s\n",
      "716:\tlearn: 0.1756962\ttest: 0.2539842\ttest1: 0.4714318\tbest: 0.4691656 (617)\ttotal: 23.9s\tremaining: 9.43s\n",
      "717:\tlearn: 0.1754681\ttest: 0.2538329\ttest1: 0.4713362\tbest: 0.4691656 (617)\ttotal: 23.9s\tremaining: 9.4s\n"
     ]
    },
    {
     "name": "stdout",
     "output_type": "stream",
     "text": [
      "718:\tlearn: 0.1752586\ttest: 0.2536612\ttest1: 0.4711237\tbest: 0.4691656 (617)\ttotal: 24s\tremaining: 9.36s\n",
      "719:\tlearn: 0.1750681\ttest: 0.2534497\ttest1: 0.4708038\tbest: 0.4691656 (617)\ttotal: 24s\tremaining: 9.33s\n",
      "720:\tlearn: 0.1748589\ttest: 0.2534864\ttest1: 0.4708545\tbest: 0.4691656 (617)\ttotal: 24s\tremaining: 9.3s\n",
      "721:\tlearn: 0.1744886\ttest: 0.2532646\ttest1: 0.4710518\tbest: 0.4691656 (617)\ttotal: 24.1s\tremaining: 9.27s\n",
      "722:\tlearn: 0.1743933\ttest: 0.2532205\ttest1: 0.4711853\tbest: 0.4691656 (617)\ttotal: 24.1s\tremaining: 9.23s\n",
      "723:\tlearn: 0.1741235\ttest: 0.2530124\ttest1: 0.4711687\tbest: 0.4691656 (617)\ttotal: 24.1s\tremaining: 9.2s\n",
      "724:\tlearn: 0.1737031\ttest: 0.2530113\ttest1: 0.4710019\tbest: 0.4691656 (617)\ttotal: 24.2s\tremaining: 9.17s\n",
      "725:\tlearn: 0.1734267\ttest: 0.2526724\ttest1: 0.4708999\tbest: 0.4691656 (617)\ttotal: 24.2s\tremaining: 9.14s\n",
      "726:\tlearn: 0.1731061\ttest: 0.2523101\ttest1: 0.4709101\tbest: 0.4691656 (617)\ttotal: 24.2s\tremaining: 9.11s\n",
      "727:\tlearn: 0.1728854\ttest: 0.2520227\ttest1: 0.4708852\tbest: 0.4691656 (617)\ttotal: 24.3s\tremaining: 9.07s\n",
      "728:\tlearn: 0.1726113\ttest: 0.2519446\ttest1: 0.4716484\tbest: 0.4691656 (617)\ttotal: 24.3s\tremaining: 9.03s\n",
      "729:\tlearn: 0.1724393\ttest: 0.2518320\ttest1: 0.4716814\tbest: 0.4691656 (617)\ttotal: 24.3s\tremaining: 9s\n",
      "730:\tlearn: 0.1723715\ttest: 0.2517462\ttest1: 0.4716488\tbest: 0.4691656 (617)\ttotal: 24.4s\tremaining: 8.96s\n",
      "731:\tlearn: 0.1720684\ttest: 0.2519233\ttest1: 0.4715702\tbest: 0.4691656 (617)\ttotal: 24.4s\tremaining: 8.93s\n",
      "732:\tlearn: 0.1719252\ttest: 0.2517560\ttest1: 0.4719174\tbest: 0.4691656 (617)\ttotal: 24.4s\tremaining: 8.89s\n",
      "733:\tlearn: 0.1718260\ttest: 0.2516543\ttest1: 0.4717784\tbest: 0.4691656 (617)\ttotal: 24.5s\tremaining: 8.86s\n",
      "734:\tlearn: 0.1716298\ttest: 0.2515946\ttest1: 0.4717452\tbest: 0.4691656 (617)\ttotal: 24.5s\tremaining: 8.83s\n",
      "735:\tlearn: 0.1713986\ttest: 0.2512923\ttest1: 0.4717624\tbest: 0.4691656 (617)\ttotal: 24.5s\tremaining: 8.8s\n",
      "736:\tlearn: 0.1713670\ttest: 0.2512771\ttest1: 0.4718348\tbest: 0.4691656 (617)\ttotal: 24.6s\tremaining: 8.76s\n",
      "737:\tlearn: 0.1712665\ttest: 0.2512545\ttest1: 0.4720134\tbest: 0.4691656 (617)\ttotal: 24.6s\tremaining: 8.73s\n",
      "738:\tlearn: 0.1711124\ttest: 0.2512280\ttest1: 0.4718503\tbest: 0.4691656 (617)\ttotal: 24.6s\tremaining: 8.7s\n",
      "739:\tlearn: 0.1708975\ttest: 0.2511512\ttest1: 0.4717546\tbest: 0.4691656 (617)\ttotal: 24.7s\tremaining: 8.66s\n",
      "740:\tlearn: 0.1705645\ttest: 0.2507327\ttest1: 0.4719402\tbest: 0.4691656 (617)\ttotal: 24.7s\tremaining: 8.63s\n",
      "741:\tlearn: 0.1703735\ttest: 0.2505000\ttest1: 0.4719564\tbest: 0.4691656 (617)\ttotal: 24.7s\tremaining: 8.59s\n",
      "742:\tlearn: 0.1701597\ttest: 0.2501429\ttest1: 0.4715309\tbest: 0.4691656 (617)\ttotal: 24.7s\tremaining: 8.56s\n",
      "743:\tlearn: 0.1699533\ttest: 0.2499203\ttest1: 0.4713502\tbest: 0.4691656 (617)\ttotal: 24.8s\tremaining: 8.53s\n",
      "744:\tlearn: 0.1697372\ttest: 0.2499578\ttest1: 0.4712808\tbest: 0.4691656 (617)\ttotal: 24.8s\tremaining: 8.49s\n",
      "745:\tlearn: 0.1693728\ttest: 0.2497824\ttest1: 0.4710278\tbest: 0.4691656 (617)\ttotal: 24.9s\tremaining: 8.46s\n",
      "746:\tlearn: 0.1691596\ttest: 0.2496424\ttest1: 0.4706695\tbest: 0.4691656 (617)\ttotal: 24.9s\tremaining: 8.43s\n",
      "747:\tlearn: 0.1690432\ttest: 0.2494728\ttest1: 0.4707006\tbest: 0.4691656 (617)\ttotal: 24.9s\tremaining: 8.4s\n",
      "748:\tlearn: 0.1688056\ttest: 0.2493465\ttest1: 0.4709592\tbest: 0.4691656 (617)\ttotal: 25s\tremaining: 8.37s\n",
      "749:\tlearn: 0.1686936\ttest: 0.2492834\ttest1: 0.4710464\tbest: 0.4691656 (617)\ttotal: 25s\tremaining: 8.34s\n",
      "750:\tlearn: 0.1681430\ttest: 0.2487297\ttest1: 0.4710378\tbest: 0.4691656 (617)\ttotal: 25s\tremaining: 8.3s\n",
      "751:\tlearn: 0.1679776\ttest: 0.2486099\ttest1: 0.4708738\tbest: 0.4691656 (617)\ttotal: 25.1s\tremaining: 8.27s\n",
      "752:\tlearn: 0.1677180\ttest: 0.2482674\ttest1: 0.4706698\tbest: 0.4691656 (617)\ttotal: 25.1s\tremaining: 8.24s\n",
      "753:\tlearn: 0.1674950\ttest: 0.2483672\ttest1: 0.4705863\tbest: 0.4691656 (617)\ttotal: 25.1s\tremaining: 8.21s\n",
      "754:\tlearn: 0.1673602\ttest: 0.2482233\ttest1: 0.4707934\tbest: 0.4691656 (617)\ttotal: 25.2s\tremaining: 8.17s\n",
      "755:\tlearn: 0.1670969\ttest: 0.2478900\ttest1: 0.4704044\tbest: 0.4691656 (617)\ttotal: 25.2s\tremaining: 8.14s\n",
      "756:\tlearn: 0.1668570\ttest: 0.2478450\ttest1: 0.4698118\tbest: 0.4691656 (617)\ttotal: 25.2s\tremaining: 8.1s\n",
      "757:\tlearn: 0.1667377\ttest: 0.2477637\ttest1: 0.4699486\tbest: 0.4691656 (617)\ttotal: 25.3s\tremaining: 8.07s\n",
      "758:\tlearn: 0.1666837\ttest: 0.2476389\ttest1: 0.4701201\tbest: 0.4691656 (617)\ttotal: 25.3s\tremaining: 8.04s\n",
      "759:\tlearn: 0.1664653\ttest: 0.2475326\ttest1: 0.4698794\tbest: 0.4691656 (617)\ttotal: 25.3s\tremaining: 8s\n",
      "760:\tlearn: 0.1663148\ttest: 0.2472938\ttest1: 0.4702125\tbest: 0.4691656 (617)\ttotal: 25.4s\tremaining: 7.97s\n",
      "761:\tlearn: 0.1662319\ttest: 0.2472305\ttest1: 0.4701441\tbest: 0.4691656 (617)\ttotal: 25.4s\tremaining: 7.94s\n",
      "762:\tlearn: 0.1659434\ttest: 0.2468494\ttest1: 0.4701999\tbest: 0.4691656 (617)\ttotal: 25.5s\tremaining: 7.91s\n",
      "763:\tlearn: 0.1656834\ttest: 0.2468301\ttest1: 0.4701608\tbest: 0.4691656 (617)\ttotal: 25.5s\tremaining: 7.87s\n",
      "764:\tlearn: 0.1654358\ttest: 0.2465041\ttest1: 0.4693600\tbest: 0.4691656 (617)\ttotal: 25.5s\tremaining: 7.84s\n",
      "765:\tlearn: 0.1652468\ttest: 0.2464962\ttest1: 0.4692167\tbest: 0.4691656 (617)\ttotal: 25.5s\tremaining: 7.8s\n",
      "766:\tlearn: 0.1650537\ttest: 0.2462741\ttest1: 0.4690721\tbest: 0.4690721 (766)\ttotal: 25.6s\tremaining: 7.77s\n",
      "767:\tlearn: 0.1649604\ttest: 0.2461172\ttest1: 0.4692659\tbest: 0.4690721 (766)\ttotal: 25.6s\tremaining: 7.74s\n",
      "768:\tlearn: 0.1648058\ttest: 0.2459623\ttest1: 0.4692417\tbest: 0.4690721 (766)\ttotal: 25.7s\tremaining: 7.71s\n",
      "769:\tlearn: 0.1647930\ttest: 0.2459480\ttest1: 0.4693017\tbest: 0.4690721 (766)\ttotal: 25.7s\tremaining: 7.67s\n",
      "770:\tlearn: 0.1646879\ttest: 0.2458645\ttest1: 0.4694652\tbest: 0.4690721 (766)\ttotal: 25.7s\tremaining: 7.64s\n",
      "771:\tlearn: 0.1644905\ttest: 0.2459011\ttest1: 0.4694070\tbest: 0.4690721 (766)\ttotal: 25.8s\tremaining: 7.61s\n",
      "772:\tlearn: 0.1641593\ttest: 0.2458065\ttest1: 0.4695982\tbest: 0.4690721 (766)\ttotal: 25.8s\tremaining: 7.57s\n",
      "773:\tlearn: 0.1640069\ttest: 0.2458117\ttest1: 0.4696546\tbest: 0.4690721 (766)\ttotal: 25.8s\tremaining: 7.54s\n",
      "774:\tlearn: 0.1639768\ttest: 0.2457476\ttest1: 0.4696166\tbest: 0.4690721 (766)\ttotal: 25.8s\tremaining: 7.5s\n",
      "775:\tlearn: 0.1638342\ttest: 0.2457542\ttest1: 0.4696804\tbest: 0.4690721 (766)\ttotal: 25.9s\tremaining: 7.47s\n",
      "776:\tlearn: 0.1635475\ttest: 0.2455904\ttest1: 0.4694661\tbest: 0.4690721 (766)\ttotal: 25.9s\tremaining: 7.43s\n",
      "777:\tlearn: 0.1632571\ttest: 0.2452622\ttest1: 0.4699364\tbest: 0.4690721 (766)\ttotal: 25.9s\tremaining: 7.4s\n",
      "778:\tlearn: 0.1630726\ttest: 0.2450874\ttest1: 0.4695805\tbest: 0.4690721 (766)\ttotal: 26s\tremaining: 7.37s\n",
      "779:\tlearn: 0.1627476\ttest: 0.2447407\ttest1: 0.4693497\tbest: 0.4690721 (766)\ttotal: 26s\tremaining: 7.33s\n",
      "780:\tlearn: 0.1625185\ttest: 0.2444377\ttest1: 0.4693133\tbest: 0.4690721 (766)\ttotal: 26s\tremaining: 7.3s\n",
      "781:\tlearn: 0.1623283\ttest: 0.2443800\ttest1: 0.4693866\tbest: 0.4690721 (766)\ttotal: 26.1s\tremaining: 7.26s\n",
      "782:\tlearn: 0.1621553\ttest: 0.2442252\ttest1: 0.4696389\tbest: 0.4690721 (766)\ttotal: 26.1s\tremaining: 7.23s\n",
      "783:\tlearn: 0.1620217\ttest: 0.2440492\ttest1: 0.4694080\tbest: 0.4690721 (766)\ttotal: 26.1s\tremaining: 7.19s\n",
      "784:\tlearn: 0.1614454\ttest: 0.2433555\ttest1: 0.4691003\tbest: 0.4690721 (766)\ttotal: 26.1s\tremaining: 7.16s\n",
      "785:\tlearn: 0.1613233\ttest: 0.2433210\ttest1: 0.4692353\tbest: 0.4690721 (766)\ttotal: 26.2s\tremaining: 7.13s\n",
      "786:\tlearn: 0.1611985\ttest: 0.2431867\ttest1: 0.4694353\tbest: 0.4690721 (766)\ttotal: 26.2s\tremaining: 7.09s\n",
      "787:\tlearn: 0.1611549\ttest: 0.2431536\ttest1: 0.4695347\tbest: 0.4690721 (766)\ttotal: 26.2s\tremaining: 7.06s\n",
      "788:\tlearn: 0.1609990\ttest: 0.2430454\ttest1: 0.4698049\tbest: 0.4690721 (766)\ttotal: 26.3s\tremaining: 7.03s\n",
      "789:\tlearn: 0.1608835\ttest: 0.2429270\ttest1: 0.4698174\tbest: 0.4690721 (766)\ttotal: 26.3s\tremaining: 6.99s\n",
      "790:\tlearn: 0.1606613\ttest: 0.2427292\ttest1: 0.4696813\tbest: 0.4690721 (766)\ttotal: 26.3s\tremaining: 6.96s\n",
      "791:\tlearn: 0.1606035\ttest: 0.2427309\ttest1: 0.4697847\tbest: 0.4690721 (766)\ttotal: 26.4s\tremaining: 6.92s\n",
      "792:\tlearn: 0.1603150\ttest: 0.2423767\ttest1: 0.4694154\tbest: 0.4690721 (766)\ttotal: 26.4s\tremaining: 6.89s\n",
      "793:\tlearn: 0.1601640\ttest: 0.2422409\ttest1: 0.4694159\tbest: 0.4690721 (766)\ttotal: 26.4s\tremaining: 6.85s\n",
      "794:\tlearn: 0.1599840\ttest: 0.2419824\ttest1: 0.4694766\tbest: 0.4690721 (766)\ttotal: 26.5s\tremaining: 6.82s\n",
      "795:\tlearn: 0.1598433\ttest: 0.2418729\ttest1: 0.4694006\tbest: 0.4690721 (766)\ttotal: 26.5s\tremaining: 6.79s\n",
      "796:\tlearn: 0.1597477\ttest: 0.2418323\ttest1: 0.4695205\tbest: 0.4690721 (766)\ttotal: 26.5s\tremaining: 6.75s\n",
      "797:\tlearn: 0.1595400\ttest: 0.2418061\ttest1: 0.4694605\tbest: 0.4690721 (766)\ttotal: 26.5s\tremaining: 6.72s\n"
     ]
    },
    {
     "name": "stdout",
     "output_type": "stream",
     "text": [
      "798:\tlearn: 0.1594585\ttest: 0.2417348\ttest1: 0.4692656\tbest: 0.4690721 (766)\ttotal: 26.6s\tremaining: 6.68s\n",
      "799:\tlearn: 0.1592178\ttest: 0.2414162\ttest1: 0.4692207\tbest: 0.4690721 (766)\ttotal: 26.6s\tremaining: 6.65s\n",
      "800:\tlearn: 0.1588859\ttest: 0.2412491\ttest1: 0.4690864\tbest: 0.4690721 (766)\ttotal: 26.6s\tremaining: 6.62s\n",
      "801:\tlearn: 0.1587248\ttest: 0.2412440\ttest1: 0.4688780\tbest: 0.4688780 (801)\ttotal: 26.7s\tremaining: 6.58s\n",
      "802:\tlearn: 0.1585583\ttest: 0.2411144\ttest1: 0.4686266\tbest: 0.4686266 (802)\ttotal: 26.7s\tremaining: 6.55s\n",
      "803:\tlearn: 0.1583250\ttest: 0.2407983\ttest1: 0.4689270\tbest: 0.4686266 (802)\ttotal: 26.7s\tremaining: 6.52s\n",
      "804:\tlearn: 0.1581452\ttest: 0.2406932\ttest1: 0.4689967\tbest: 0.4686266 (802)\ttotal: 26.8s\tremaining: 6.48s\n",
      "805:\tlearn: 0.1579030\ttest: 0.2404858\ttest1: 0.4683836\tbest: 0.4683836 (805)\ttotal: 26.8s\tremaining: 6.45s\n",
      "806:\tlearn: 0.1577918\ttest: 0.2402879\ttest1: 0.4684652\tbest: 0.4683836 (805)\ttotal: 26.8s\tremaining: 6.42s\n",
      "807:\tlearn: 0.1577160\ttest: 0.2402199\ttest1: 0.4684838\tbest: 0.4683836 (805)\ttotal: 26.9s\tremaining: 6.38s\n",
      "808:\tlearn: 0.1575820\ttest: 0.2400321\ttest1: 0.4685436\tbest: 0.4683836 (805)\ttotal: 26.9s\tremaining: 6.35s\n",
      "809:\tlearn: 0.1572679\ttest: 0.2399157\ttest1: 0.4685698\tbest: 0.4683836 (805)\ttotal: 27s\tremaining: 6.32s\n",
      "810:\tlearn: 0.1571665\ttest: 0.2398103\ttest1: 0.4685400\tbest: 0.4683836 (805)\ttotal: 27s\tremaining: 6.29s\n",
      "811:\tlearn: 0.1569981\ttest: 0.2396593\ttest1: 0.4688662\tbest: 0.4683836 (805)\ttotal: 27s\tremaining: 6.26s\n",
      "812:\tlearn: 0.1568777\ttest: 0.2396085\ttest1: 0.4690334\tbest: 0.4683836 (805)\ttotal: 27.1s\tremaining: 6.23s\n",
      "813:\tlearn: 0.1568164\ttest: 0.2396021\ttest1: 0.4691237\tbest: 0.4683836 (805)\ttotal: 27.1s\tremaining: 6.2s\n",
      "814:\tlearn: 0.1565388\ttest: 0.2395236\ttest1: 0.4692235\tbest: 0.4683836 (805)\ttotal: 27.2s\tremaining: 6.17s\n",
      "815:\tlearn: 0.1564030\ttest: 0.2394375\ttest1: 0.4689001\tbest: 0.4683836 (805)\ttotal: 27.2s\tremaining: 6.13s\n",
      "816:\tlearn: 0.1562004\ttest: 0.2394385\ttest1: 0.4685585\tbest: 0.4683836 (805)\ttotal: 27.2s\tremaining: 6.1s\n",
      "817:\tlearn: 0.1558407\ttest: 0.2390207\ttest1: 0.4679830\tbest: 0.4679830 (817)\ttotal: 27.3s\tremaining: 6.06s\n",
      "818:\tlearn: 0.1557120\ttest: 0.2389079\ttest1: 0.4680383\tbest: 0.4679830 (817)\ttotal: 27.3s\tremaining: 6.03s\n",
      "819:\tlearn: 0.1555937\ttest: 0.2388998\ttest1: 0.4680133\tbest: 0.4679830 (817)\ttotal: 27.3s\tremaining: 5.99s\n",
      "820:\tlearn: 0.1554751\ttest: 0.2388487\ttest1: 0.4681384\tbest: 0.4679830 (817)\ttotal: 27.3s\tremaining: 5.96s\n",
      "821:\tlearn: 0.1554293\ttest: 0.2387993\ttest1: 0.4680759\tbest: 0.4679830 (817)\ttotal: 27.4s\tremaining: 5.93s\n",
      "822:\tlearn: 0.1552738\ttest: 0.2385075\ttest1: 0.4682578\tbest: 0.4679830 (817)\ttotal: 27.4s\tremaining: 5.89s\n",
      "823:\tlearn: 0.1552411\ttest: 0.2385247\ttest1: 0.4682610\tbest: 0.4679830 (817)\ttotal: 27.4s\tremaining: 5.86s\n",
      "824:\tlearn: 0.1551213\ttest: 0.2385397\ttest1: 0.4683400\tbest: 0.4679830 (817)\ttotal: 27.5s\tremaining: 5.83s\n",
      "825:\tlearn: 0.1549498\ttest: 0.2384191\ttest1: 0.4681664\tbest: 0.4679830 (817)\ttotal: 27.5s\tremaining: 5.79s\n",
      "826:\tlearn: 0.1548221\ttest: 0.2383601\ttest1: 0.4682164\tbest: 0.4679830 (817)\ttotal: 27.5s\tremaining: 5.76s\n",
      "827:\tlearn: 0.1547148\ttest: 0.2382868\ttest1: 0.4684739\tbest: 0.4679830 (817)\ttotal: 27.6s\tremaining: 5.73s\n",
      "828:\tlearn: 0.1545452\ttest: 0.2381956\ttest1: 0.4684111\tbest: 0.4679830 (817)\ttotal: 27.6s\tremaining: 5.69s\n",
      "829:\tlearn: 0.1545185\ttest: 0.2381623\ttest1: 0.4685167\tbest: 0.4679830 (817)\ttotal: 27.6s\tremaining: 5.66s\n",
      "830:\tlearn: 0.1543649\ttest: 0.2380624\ttest1: 0.4686845\tbest: 0.4679830 (817)\ttotal: 27.7s\tremaining: 5.63s\n",
      "831:\tlearn: 0.1542767\ttest: 0.2380192\ttest1: 0.4685690\tbest: 0.4679830 (817)\ttotal: 27.7s\tremaining: 5.59s\n",
      "832:\tlearn: 0.1539934\ttest: 0.2379132\ttest1: 0.4680474\tbest: 0.4679830 (817)\ttotal: 27.7s\tremaining: 5.56s\n",
      "833:\tlearn: 0.1539305\ttest: 0.2378367\ttest1: 0.4680051\tbest: 0.4679830 (817)\ttotal: 27.8s\tremaining: 5.53s\n",
      "834:\tlearn: 0.1536672\ttest: 0.2378331\ttest1: 0.4676978\tbest: 0.4676978 (834)\ttotal: 27.8s\tremaining: 5.49s\n",
      "835:\tlearn: 0.1535989\ttest: 0.2377278\ttest1: 0.4676474\tbest: 0.4676474 (835)\ttotal: 27.8s\tremaining: 5.46s\n",
      "836:\tlearn: 0.1535412\ttest: 0.2377347\ttest1: 0.4676213\tbest: 0.4676213 (836)\ttotal: 27.9s\tremaining: 5.42s\n",
      "837:\tlearn: 0.1534620\ttest: 0.2377245\ttest1: 0.4677002\tbest: 0.4676213 (836)\ttotal: 27.9s\tremaining: 5.39s\n",
      "838:\tlearn: 0.1532955\ttest: 0.2374845\ttest1: 0.4677027\tbest: 0.4676213 (836)\ttotal: 27.9s\tremaining: 5.36s\n",
      "839:\tlearn: 0.1531169\ttest: 0.2375069\ttest1: 0.4677265\tbest: 0.4676213 (836)\ttotal: 28s\tremaining: 5.33s\n",
      "840:\tlearn: 0.1529438\ttest: 0.2373410\ttest1: 0.4679706\tbest: 0.4676213 (836)\ttotal: 28s\tremaining: 5.29s\n",
      "841:\tlearn: 0.1528287\ttest: 0.2372216\ttest1: 0.4680227\tbest: 0.4676213 (836)\ttotal: 28s\tremaining: 5.26s\n",
      "842:\tlearn: 0.1526940\ttest: 0.2371734\ttest1: 0.4677696\tbest: 0.4676213 (836)\ttotal: 28.1s\tremaining: 5.23s\n",
      "843:\tlearn: 0.1522871\ttest: 0.2365583\ttest1: 0.4682751\tbest: 0.4676213 (836)\ttotal: 28.1s\tremaining: 5.19s\n",
      "844:\tlearn: 0.1521387\ttest: 0.2364407\ttest1: 0.4680319\tbest: 0.4676213 (836)\ttotal: 28.1s\tremaining: 5.16s\n",
      "845:\tlearn: 0.1520956\ttest: 0.2363969\ttest1: 0.4680787\tbest: 0.4676213 (836)\ttotal: 28.2s\tremaining: 5.13s\n",
      "846:\tlearn: 0.1518553\ttest: 0.2360420\ttest1: 0.4684627\tbest: 0.4676213 (836)\ttotal: 28.2s\tremaining: 5.09s\n",
      "847:\tlearn: 0.1516493\ttest: 0.2357293\ttest1: 0.4687734\tbest: 0.4676213 (836)\ttotal: 28.2s\tremaining: 5.06s\n",
      "848:\tlearn: 0.1513799\ttest: 0.2353445\ttest1: 0.4688814\tbest: 0.4676213 (836)\ttotal: 28.3s\tremaining: 5.02s\n",
      "849:\tlearn: 0.1512492\ttest: 0.2351264\ttest1: 0.4691873\tbest: 0.4676213 (836)\ttotal: 28.3s\tremaining: 4.99s\n",
      "850:\tlearn: 0.1510443\ttest: 0.2349098\ttest1: 0.4693271\tbest: 0.4676213 (836)\ttotal: 28.3s\tremaining: 4.96s\n",
      "851:\tlearn: 0.1509809\ttest: 0.2349407\ttest1: 0.4694666\tbest: 0.4676213 (836)\ttotal: 28.4s\tremaining: 4.92s\n",
      "852:\tlearn: 0.1508573\ttest: 0.2348618\ttest1: 0.4691570\tbest: 0.4676213 (836)\ttotal: 28.4s\tremaining: 4.89s\n",
      "853:\tlearn: 0.1506722\ttest: 0.2347408\ttest1: 0.4693168\tbest: 0.4676213 (836)\ttotal: 28.4s\tremaining: 4.86s\n",
      "854:\tlearn: 0.1504591\ttest: 0.2344805\ttest1: 0.4692815\tbest: 0.4676213 (836)\ttotal: 28.5s\tremaining: 4.83s\n",
      "855:\tlearn: 0.1503476\ttest: 0.2343399\ttest1: 0.4692148\tbest: 0.4676213 (836)\ttotal: 28.5s\tremaining: 4.79s\n",
      "856:\tlearn: 0.1500496\ttest: 0.2340299\ttest1: 0.4690213\tbest: 0.4676213 (836)\ttotal: 28.5s\tremaining: 4.76s\n",
      "857:\tlearn: 0.1499001\ttest: 0.2338339\ttest1: 0.4695100\tbest: 0.4676213 (836)\ttotal: 28.6s\tremaining: 4.73s\n",
      "858:\tlearn: 0.1498329\ttest: 0.2337959\ttest1: 0.4693740\tbest: 0.4676213 (836)\ttotal: 28.6s\tremaining: 4.7s\n",
      "859:\tlearn: 0.1497682\ttest: 0.2337594\ttest1: 0.4694044\tbest: 0.4676213 (836)\ttotal: 28.7s\tremaining: 4.66s\n",
      "860:\tlearn: 0.1494012\ttest: 0.2333642\ttest1: 0.4696911\tbest: 0.4676213 (836)\ttotal: 28.7s\tremaining: 4.63s\n",
      "861:\tlearn: 0.1489171\ttest: 0.2328148\ttest1: 0.4696975\tbest: 0.4676213 (836)\ttotal: 28.7s\tremaining: 4.59s\n",
      "862:\tlearn: 0.1486922\ttest: 0.2324965\ttest1: 0.4696449\tbest: 0.4676213 (836)\ttotal: 28.8s\tremaining: 4.56s\n",
      "863:\tlearn: 0.1482979\ttest: 0.2320580\ttest1: 0.4694280\tbest: 0.4676213 (836)\ttotal: 28.8s\tremaining: 4.53s\n",
      "864:\tlearn: 0.1481944\ttest: 0.2319271\ttest1: 0.4697498\tbest: 0.4676213 (836)\ttotal: 28.8s\tremaining: 4.5s\n",
      "865:\tlearn: 0.1480215\ttest: 0.2317819\ttest1: 0.4697558\tbest: 0.4676213 (836)\ttotal: 28.9s\tremaining: 4.46s\n",
      "866:\tlearn: 0.1479717\ttest: 0.2317243\ttest1: 0.4697514\tbest: 0.4676213 (836)\ttotal: 28.9s\tremaining: 4.43s\n",
      "867:\tlearn: 0.1478008\ttest: 0.2315202\ttest1: 0.4698413\tbest: 0.4676213 (836)\ttotal: 28.9s\tremaining: 4.4s\n",
      "868:\tlearn: 0.1476096\ttest: 0.2313184\ttest1: 0.4696644\tbest: 0.4676213 (836)\ttotal: 29s\tremaining: 4.37s\n",
      "869:\tlearn: 0.1474726\ttest: 0.2312100\ttest1: 0.4698818\tbest: 0.4676213 (836)\ttotal: 29s\tremaining: 4.33s\n",
      "870:\tlearn: 0.1474042\ttest: 0.2311622\ttest1: 0.4698727\tbest: 0.4676213 (836)\ttotal: 29s\tremaining: 4.3s\n",
      "871:\tlearn: 0.1471357\ttest: 0.2307986\ttest1: 0.4697475\tbest: 0.4676213 (836)\ttotal: 29s\tremaining: 4.26s\n",
      "872:\tlearn: 0.1469303\ttest: 0.2307174\ttest1: 0.4696122\tbest: 0.4676213 (836)\ttotal: 29.1s\tremaining: 4.23s\n",
      "873:\tlearn: 0.1468042\ttest: 0.2306347\ttest1: 0.4697848\tbest: 0.4676213 (836)\ttotal: 29.1s\tremaining: 4.2s\n",
      "874:\tlearn: 0.1466672\ttest: 0.2304752\ttest1: 0.4696826\tbest: 0.4676213 (836)\ttotal: 29.2s\tremaining: 4.16s\n",
      "875:\tlearn: 0.1463611\ttest: 0.2300817\ttest1: 0.4697689\tbest: 0.4676213 (836)\ttotal: 29.2s\tremaining: 4.13s\n",
      "876:\tlearn: 0.1462420\ttest: 0.2300373\ttest1: 0.4695285\tbest: 0.4676213 (836)\ttotal: 29.2s\tremaining: 4.1s\n",
      "877:\tlearn: 0.1458330\ttest: 0.2295014\ttest1: 0.4696879\tbest: 0.4676213 (836)\ttotal: 29.3s\tremaining: 4.06s\n",
      "878:\tlearn: 0.1457488\ttest: 0.2294245\ttest1: 0.4694451\tbest: 0.4676213 (836)\ttotal: 29.3s\tremaining: 4.03s\n"
     ]
    },
    {
     "name": "stdout",
     "output_type": "stream",
     "text": [
      "879:\tlearn: 0.1456445\ttest: 0.2292765\ttest1: 0.4696180\tbest: 0.4676213 (836)\ttotal: 29.3s\tremaining: 4s\n",
      "880:\tlearn: 0.1455227\ttest: 0.2291243\ttest1: 0.4695528\tbest: 0.4676213 (836)\ttotal: 29.4s\tremaining: 3.96s\n",
      "881:\tlearn: 0.1453155\ttest: 0.2288562\ttest1: 0.4690875\tbest: 0.4676213 (836)\ttotal: 29.4s\tremaining: 3.93s\n",
      "882:\tlearn: 0.1451739\ttest: 0.2287270\ttest1: 0.4694031\tbest: 0.4676213 (836)\ttotal: 29.4s\tremaining: 3.9s\n",
      "883:\tlearn: 0.1451407\ttest: 0.2287008\ttest1: 0.4694968\tbest: 0.4676213 (836)\ttotal: 29.5s\tremaining: 3.87s\n",
      "884:\tlearn: 0.1450410\ttest: 0.2287059\ttest1: 0.4693834\tbest: 0.4676213 (836)\ttotal: 29.5s\tremaining: 3.83s\n",
      "885:\tlearn: 0.1447441\ttest: 0.2285124\ttest1: 0.4690177\tbest: 0.4676213 (836)\ttotal: 29.5s\tremaining: 3.8s\n",
      "886:\tlearn: 0.1445148\ttest: 0.2282675\ttest1: 0.4690044\tbest: 0.4676213 (836)\ttotal: 29.6s\tremaining: 3.77s\n",
      "887:\tlearn: 0.1443467\ttest: 0.2280189\ttest1: 0.4690885\tbest: 0.4676213 (836)\ttotal: 29.6s\tremaining: 3.73s\n",
      "888:\tlearn: 0.1441486\ttest: 0.2277516\ttest1: 0.4684039\tbest: 0.4676213 (836)\ttotal: 29.6s\tremaining: 3.7s\n",
      "889:\tlearn: 0.1439297\ttest: 0.2274897\ttest1: 0.4684558\tbest: 0.4676213 (836)\ttotal: 29.7s\tremaining: 3.67s\n",
      "890:\tlearn: 0.1438241\ttest: 0.2273850\ttest1: 0.4680871\tbest: 0.4676213 (836)\ttotal: 29.7s\tremaining: 3.63s\n",
      "891:\tlearn: 0.1435379\ttest: 0.2270339\ttest1: 0.4679480\tbest: 0.4676213 (836)\ttotal: 29.7s\tremaining: 3.6s\n",
      "892:\tlearn: 0.1433625\ttest: 0.2268376\ttest1: 0.4677166\tbest: 0.4676213 (836)\ttotal: 29.8s\tremaining: 3.56s\n",
      "893:\tlearn: 0.1432407\ttest: 0.2267814\ttest1: 0.4676568\tbest: 0.4676213 (836)\ttotal: 29.8s\tremaining: 3.53s\n",
      "894:\tlearn: 0.1430629\ttest: 0.2265832\ttest1: 0.4678075\tbest: 0.4676213 (836)\ttotal: 29.8s\tremaining: 3.5s\n",
      "895:\tlearn: 0.1429569\ttest: 0.2264526\ttest1: 0.4678395\tbest: 0.4676213 (836)\ttotal: 29.8s\tremaining: 3.46s\n",
      "896:\tlearn: 0.1428589\ttest: 0.2264309\ttest1: 0.4678069\tbest: 0.4676213 (836)\ttotal: 29.9s\tremaining: 3.43s\n",
      "897:\tlearn: 0.1427024\ttest: 0.2262362\ttest1: 0.4679541\tbest: 0.4676213 (836)\ttotal: 29.9s\tremaining: 3.4s\n",
      "898:\tlearn: 0.1425524\ttest: 0.2261496\ttest1: 0.4681605\tbest: 0.4676213 (836)\ttotal: 30s\tremaining: 3.37s\n",
      "899:\tlearn: 0.1424246\ttest: 0.2260632\ttest1: 0.4681346\tbest: 0.4676213 (836)\ttotal: 30s\tremaining: 3.33s\n",
      "900:\tlearn: 0.1424129\ttest: 0.2260491\ttest1: 0.4681563\tbest: 0.4676213 (836)\ttotal: 30s\tremaining: 3.3s\n",
      "901:\tlearn: 0.1421486\ttest: 0.2261036\ttest1: 0.4676109\tbest: 0.4676109 (901)\ttotal: 30.1s\tremaining: 3.26s\n",
      "902:\tlearn: 0.1419466\ttest: 0.2258854\ttest1: 0.4673091\tbest: 0.4673091 (902)\ttotal: 30.1s\tremaining: 3.23s\n",
      "903:\tlearn: 0.1418526\ttest: 0.2257827\ttest1: 0.4672955\tbest: 0.4672955 (903)\ttotal: 30.1s\tremaining: 3.2s\n",
      "904:\tlearn: 0.1416529\ttest: 0.2255228\ttest1: 0.4668326\tbest: 0.4668326 (904)\ttotal: 30.1s\tremaining: 3.16s\n",
      "905:\tlearn: 0.1414705\ttest: 0.2253672\ttest1: 0.4671869\tbest: 0.4668326 (904)\ttotal: 30.2s\tremaining: 3.13s\n",
      "906:\tlearn: 0.1413850\ttest: 0.2252742\ttest1: 0.4675180\tbest: 0.4668326 (904)\ttotal: 30.2s\tremaining: 3.1s\n",
      "907:\tlearn: 0.1413311\ttest: 0.2252022\ttest1: 0.4675143\tbest: 0.4668326 (904)\ttotal: 30.2s\tremaining: 3.06s\n",
      "908:\tlearn: 0.1411202\ttest: 0.2249554\ttest1: 0.4674558\tbest: 0.4668326 (904)\ttotal: 30.3s\tremaining: 3.03s\n",
      "909:\tlearn: 0.1407168\ttest: 0.2244814\ttest1: 0.4671382\tbest: 0.4668326 (904)\ttotal: 30.3s\tremaining: 3s\n",
      "910:\tlearn: 0.1405148\ttest: 0.2245261\ttest1: 0.4672800\tbest: 0.4668326 (904)\ttotal: 30.3s\tremaining: 2.96s\n",
      "911:\tlearn: 0.1401537\ttest: 0.2240422\ttest1: 0.4670200\tbest: 0.4668326 (904)\ttotal: 30.4s\tremaining: 2.93s\n",
      "912:\tlearn: 0.1400713\ttest: 0.2239448\ttest1: 0.4670057\tbest: 0.4668326 (904)\ttotal: 30.4s\tremaining: 2.9s\n",
      "913:\tlearn: 0.1399513\ttest: 0.2238797\ttest1: 0.4670201\tbest: 0.4668326 (904)\ttotal: 30.5s\tremaining: 2.87s\n",
      "914:\tlearn: 0.1398758\ttest: 0.2238380\ttest1: 0.4670872\tbest: 0.4668326 (904)\ttotal: 30.5s\tremaining: 2.83s\n",
      "915:\tlearn: 0.1397035\ttest: 0.2238440\ttest1: 0.4672282\tbest: 0.4668326 (904)\ttotal: 30.5s\tremaining: 2.8s\n",
      "916:\tlearn: 0.1395475\ttest: 0.2237601\ttest1: 0.4675077\tbest: 0.4668326 (904)\ttotal: 30.6s\tremaining: 2.77s\n",
      "917:\tlearn: 0.1393142\ttest: 0.2236363\ttest1: 0.4676118\tbest: 0.4668326 (904)\ttotal: 30.6s\tremaining: 2.73s\n",
      "918:\tlearn: 0.1390914\ttest: 0.2235296\ttest1: 0.4675153\tbest: 0.4668326 (904)\ttotal: 30.6s\tremaining: 2.7s\n",
      "919:\tlearn: 0.1390081\ttest: 0.2235417\ttest1: 0.4675562\tbest: 0.4668326 (904)\ttotal: 30.6s\tremaining: 2.66s\n",
      "920:\tlearn: 0.1386848\ttest: 0.2233325\ttest1: 0.4673657\tbest: 0.4668326 (904)\ttotal: 30.7s\tremaining: 2.63s\n",
      "921:\tlearn: 0.1385768\ttest: 0.2232756\ttest1: 0.4673023\tbest: 0.4668326 (904)\ttotal: 30.7s\tremaining: 2.6s\n",
      "922:\tlearn: 0.1381628\ttest: 0.2230210\ttest1: 0.4669908\tbest: 0.4668326 (904)\ttotal: 30.8s\tremaining: 2.56s\n",
      "923:\tlearn: 0.1380579\ttest: 0.2229403\ttest1: 0.4671023\tbest: 0.4668326 (904)\ttotal: 30.8s\tremaining: 2.53s\n",
      "924:\tlearn: 0.1377542\ttest: 0.2227207\ttest1: 0.4666032\tbest: 0.4666032 (924)\ttotal: 30.8s\tremaining: 2.5s\n",
      "925:\tlearn: 0.1376610\ttest: 0.2226768\ttest1: 0.4665622\tbest: 0.4665622 (925)\ttotal: 30.9s\tremaining: 2.46s\n",
      "926:\tlearn: 0.1375557\ttest: 0.2226441\ttest1: 0.4664182\tbest: 0.4664182 (926)\ttotal: 30.9s\tremaining: 2.43s\n",
      "927:\tlearn: 0.1374595\ttest: 0.2225900\ttest1: 0.4663218\tbest: 0.4663218 (927)\ttotal: 30.9s\tremaining: 2.4s\n",
      "928:\tlearn: 0.1372754\ttest: 0.2224608\ttest1: 0.4664898\tbest: 0.4663218 (927)\ttotal: 31s\tremaining: 2.37s\n",
      "929:\tlearn: 0.1372046\ttest: 0.2224020\ttest1: 0.4664471\tbest: 0.4663218 (927)\ttotal: 31s\tremaining: 2.33s\n",
      "930:\tlearn: 0.1371345\ttest: 0.2223603\ttest1: 0.4665501\tbest: 0.4663218 (927)\ttotal: 31s\tremaining: 2.3s\n",
      "931:\tlearn: 0.1371021\ttest: 0.2222992\ttest1: 0.4666295\tbest: 0.4663218 (927)\ttotal: 31s\tremaining: 2.27s\n",
      "932:\tlearn: 0.1370160\ttest: 0.2221738\ttest1: 0.4667152\tbest: 0.4663218 (927)\ttotal: 31.1s\tremaining: 2.23s\n",
      "933:\tlearn: 0.1368194\ttest: 0.2218939\ttest1: 0.4664194\tbest: 0.4663218 (927)\ttotal: 31.1s\tremaining: 2.2s\n",
      "934:\tlearn: 0.1366157\ttest: 0.2218436\ttest1: 0.4665866\tbest: 0.4663218 (927)\ttotal: 31.2s\tremaining: 2.17s\n",
      "935:\tlearn: 0.1365530\ttest: 0.2218328\ttest1: 0.4667089\tbest: 0.4663218 (927)\ttotal: 31.2s\tremaining: 2.13s\n",
      "936:\tlearn: 0.1364535\ttest: 0.2217396\ttest1: 0.4667378\tbest: 0.4663218 (927)\ttotal: 31.2s\tremaining: 2.1s\n",
      "937:\tlearn: 0.1363620\ttest: 0.2217306\ttest1: 0.4668306\tbest: 0.4663218 (927)\ttotal: 31.2s\tremaining: 2.06s\n",
      "938:\tlearn: 0.1361996\ttest: 0.2216082\ttest1: 0.4670774\tbest: 0.4663218 (927)\ttotal: 31.3s\tremaining: 2.03s\n",
      "939:\tlearn: 0.1360729\ttest: 0.2215096\ttest1: 0.4668493\tbest: 0.4663218 (927)\ttotal: 31.3s\tremaining: 2s\n",
      "940:\tlearn: 0.1359905\ttest: 0.2214905\ttest1: 0.4669576\tbest: 0.4663218 (927)\ttotal: 31.4s\tremaining: 1.97s\n",
      "941:\tlearn: 0.1357594\ttest: 0.2211675\ttest1: 0.4668585\tbest: 0.4663218 (927)\ttotal: 31.4s\tremaining: 1.93s\n",
      "942:\tlearn: 0.1354824\ttest: 0.2211101\ttest1: 0.4672540\tbest: 0.4663218 (927)\ttotal: 31.4s\tremaining: 1.9s\n",
      "943:\tlearn: 0.1353532\ttest: 0.2210189\ttest1: 0.4676395\tbest: 0.4663218 (927)\ttotal: 31.5s\tremaining: 1.87s\n",
      "944:\tlearn: 0.1352594\ttest: 0.2209075\ttest1: 0.4675973\tbest: 0.4663218 (927)\ttotal: 31.5s\tremaining: 1.83s\n",
      "945:\tlearn: 0.1351895\ttest: 0.2208699\ttest1: 0.4674871\tbest: 0.4663218 (927)\ttotal: 31.5s\tremaining: 1.8s\n",
      "946:\tlearn: 0.1350143\ttest: 0.2208179\ttest1: 0.4674673\tbest: 0.4663218 (927)\ttotal: 31.6s\tremaining: 1.77s\n",
      "947:\tlearn: 0.1349058\ttest: 0.2208036\ttest1: 0.4672682\tbest: 0.4663218 (927)\ttotal: 31.6s\tremaining: 1.73s\n",
      "948:\tlearn: 0.1346855\ttest: 0.2204936\ttest1: 0.4671858\tbest: 0.4663218 (927)\ttotal: 31.6s\tremaining: 1.7s\n",
      "949:\tlearn: 0.1345545\ttest: 0.2203145\ttest1: 0.4672031\tbest: 0.4663218 (927)\ttotal: 31.6s\tremaining: 1.67s\n",
      "950:\tlearn: 0.1343871\ttest: 0.2200683\ttest1: 0.4673197\tbest: 0.4663218 (927)\ttotal: 31.7s\tremaining: 1.63s\n",
      "951:\tlearn: 0.1343287\ttest: 0.2200032\ttest1: 0.4672729\tbest: 0.4663218 (927)\ttotal: 31.7s\tremaining: 1.6s\n",
      "952:\tlearn: 0.1341837\ttest: 0.2198229\ttest1: 0.4673620\tbest: 0.4663218 (927)\ttotal: 31.7s\tremaining: 1.56s\n",
      "953:\tlearn: 0.1340809\ttest: 0.2197572\ttest1: 0.4674532\tbest: 0.4663218 (927)\ttotal: 31.8s\tremaining: 1.53s\n",
      "954:\tlearn: 0.1338962\ttest: 0.2196308\ttest1: 0.4676692\tbest: 0.4663218 (927)\ttotal: 31.8s\tremaining: 1.5s\n",
      "955:\tlearn: 0.1337490\ttest: 0.2194914\ttest1: 0.4677619\tbest: 0.4663218 (927)\ttotal: 31.8s\tremaining: 1.47s\n",
      "956:\tlearn: 0.1336129\ttest: 0.2192887\ttest1: 0.4678004\tbest: 0.4663218 (927)\ttotal: 31.9s\tremaining: 1.43s\n",
      "957:\tlearn: 0.1335553\ttest: 0.2192083\ttest1: 0.4677933\tbest: 0.4663218 (927)\ttotal: 31.9s\tremaining: 1.4s\n",
      "958:\tlearn: 0.1334972\ttest: 0.2191510\ttest1: 0.4675703\tbest: 0.4663218 (927)\ttotal: 31.9s\tremaining: 1.36s\n",
      "959:\tlearn: 0.1334097\ttest: 0.2190892\ttest1: 0.4675600\tbest: 0.4663218 (927)\ttotal: 31.9s\tremaining: 1.33s\n",
      "960:\tlearn: 0.1333549\ttest: 0.2190617\ttest1: 0.4673653\tbest: 0.4663218 (927)\ttotal: 32s\tremaining: 1.3s\n",
      "961:\tlearn: 0.1332011\ttest: 0.2190328\ttest1: 0.4673508\tbest: 0.4663218 (927)\ttotal: 32s\tremaining: 1.26s\n"
     ]
    },
    {
     "name": "stdout",
     "output_type": "stream",
     "text": [
      "962:\tlearn: 0.1329808\ttest: 0.2187800\ttest1: 0.4672588\tbest: 0.4663218 (927)\ttotal: 32s\tremaining: 1.23s\n",
      "963:\tlearn: 0.1329284\ttest: 0.2187198\ttest1: 0.4672446\tbest: 0.4663218 (927)\ttotal: 32.1s\tremaining: 1.2s\n",
      "964:\tlearn: 0.1328527\ttest: 0.2186757\ttest1: 0.4673714\tbest: 0.4663218 (927)\ttotal: 32.1s\tremaining: 1.16s\n",
      "965:\tlearn: 0.1325558\ttest: 0.2185062\ttest1: 0.4676563\tbest: 0.4663218 (927)\ttotal: 32.1s\tremaining: 1.13s\n",
      "966:\tlearn: 0.1322529\ttest: 0.2182188\ttest1: 0.4681903\tbest: 0.4663218 (927)\ttotal: 32.2s\tremaining: 1.1s\n",
      "967:\tlearn: 0.1320609\ttest: 0.2179079\ttest1: 0.4683604\tbest: 0.4663218 (927)\ttotal: 32.2s\tremaining: 1.06s\n",
      "968:\tlearn: 0.1319924\ttest: 0.2178442\ttest1: 0.4686263\tbest: 0.4663218 (927)\ttotal: 32.2s\tremaining: 1.03s\n",
      "969:\tlearn: 0.1318928\ttest: 0.2178034\ttest1: 0.4687218\tbest: 0.4663218 (927)\ttotal: 32.3s\tremaining: 998ms\n",
      "970:\tlearn: 0.1317644\ttest: 0.2177879\ttest1: 0.4688661\tbest: 0.4663218 (927)\ttotal: 32.3s\tremaining: 965ms\n",
      "971:\tlearn: 0.1316755\ttest: 0.2176245\ttest1: 0.4686254\tbest: 0.4663218 (927)\ttotal: 32.3s\tremaining: 932ms\n",
      "972:\tlearn: 0.1315418\ttest: 0.2174823\ttest1: 0.4687459\tbest: 0.4663218 (927)\ttotal: 32.4s\tremaining: 899ms\n",
      "973:\tlearn: 0.1314138\ttest: 0.2175495\ttest1: 0.4687405\tbest: 0.4663218 (927)\ttotal: 32.4s\tremaining: 865ms\n",
      "974:\tlearn: 0.1311186\ttest: 0.2171482\ttest1: 0.4687097\tbest: 0.4663218 (927)\ttotal: 32.4s\tremaining: 832ms\n",
      "975:\tlearn: 0.1310084\ttest: 0.2171172\ttest1: 0.4686797\tbest: 0.4663218 (927)\ttotal: 32.5s\tremaining: 799ms\n",
      "976:\tlearn: 0.1307956\ttest: 0.2170515\ttest1: 0.4684793\tbest: 0.4663218 (927)\ttotal: 32.5s\tremaining: 765ms\n",
      "977:\tlearn: 0.1306299\ttest: 0.2169930\ttest1: 0.4682821\tbest: 0.4663218 (927)\ttotal: 32.5s\tremaining: 732ms\n",
      "978:\tlearn: 0.1305668\ttest: 0.2169357\ttest1: 0.4684635\tbest: 0.4663218 (927)\ttotal: 32.6s\tremaining: 699ms\n",
      "979:\tlearn: 0.1304981\ttest: 0.2169849\ttest1: 0.4685373\tbest: 0.4663218 (927)\ttotal: 32.6s\tremaining: 665ms\n",
      "980:\tlearn: 0.1303334\ttest: 0.2169746\ttest1: 0.4684844\tbest: 0.4663218 (927)\ttotal: 32.6s\tremaining: 632ms\n",
      "981:\tlearn: 0.1302223\ttest: 0.2169825\ttest1: 0.4679263\tbest: 0.4663218 (927)\ttotal: 32.7s\tremaining: 599ms\n",
      "982:\tlearn: 0.1301154\ttest: 0.2168996\ttest1: 0.4677650\tbest: 0.4663218 (927)\ttotal: 32.7s\tremaining: 566ms\n",
      "983:\tlearn: 0.1300459\ttest: 0.2168173\ttest1: 0.4677572\tbest: 0.4663218 (927)\ttotal: 32.7s\tremaining: 532ms\n",
      "984:\tlearn: 0.1298806\ttest: 0.2167715\ttest1: 0.4677536\tbest: 0.4663218 (927)\ttotal: 32.8s\tremaining: 499ms\n",
      "985:\tlearn: 0.1298239\ttest: 0.2167083\ttest1: 0.4678197\tbest: 0.4663218 (927)\ttotal: 32.8s\tremaining: 466ms\n",
      "986:\tlearn: 0.1296333\ttest: 0.2166664\ttest1: 0.4681834\tbest: 0.4663218 (927)\ttotal: 32.8s\tremaining: 432ms\n",
      "987:\tlearn: 0.1295354\ttest: 0.2165989\ttest1: 0.4682249\tbest: 0.4663218 (927)\ttotal: 32.9s\tremaining: 399ms\n",
      "988:\tlearn: 0.1293186\ttest: 0.2163361\ttest1: 0.4681911\tbest: 0.4663218 (927)\ttotal: 32.9s\tremaining: 366ms\n",
      "989:\tlearn: 0.1291177\ttest: 0.2160410\ttest1: 0.4682072\tbest: 0.4663218 (927)\ttotal: 32.9s\tremaining: 332ms\n",
      "990:\tlearn: 0.1290490\ttest: 0.2159551\ttest1: 0.4683167\tbest: 0.4663218 (927)\ttotal: 33s\tremaining: 299ms\n",
      "991:\tlearn: 0.1289368\ttest: 0.2157649\ttest1: 0.4682342\tbest: 0.4663218 (927)\ttotal: 33s\tremaining: 266ms\n",
      "992:\tlearn: 0.1288252\ttest: 0.2156137\ttest1: 0.4684454\tbest: 0.4663218 (927)\ttotal: 33s\tremaining: 233ms\n",
      "993:\tlearn: 0.1287331\ttest: 0.2155667\ttest1: 0.4685232\tbest: 0.4663218 (927)\ttotal: 33.1s\tremaining: 200ms\n",
      "994:\tlearn: 0.1286846\ttest: 0.2155420\ttest1: 0.4685419\tbest: 0.4663218 (927)\ttotal: 33.1s\tremaining: 166ms\n",
      "995:\tlearn: 0.1286365\ttest: 0.2154367\ttest1: 0.4684031\tbest: 0.4663218 (927)\ttotal: 33.1s\tremaining: 133ms\n",
      "996:\tlearn: 0.1284762\ttest: 0.2154979\ttest1: 0.4682583\tbest: 0.4663218 (927)\ttotal: 33.1s\tremaining: 99.7ms\n",
      "997:\tlearn: 0.1284418\ttest: 0.2154959\ttest1: 0.4683480\tbest: 0.4663218 (927)\ttotal: 33.2s\tremaining: 66.5ms\n",
      "998:\tlearn: 0.1283338\ttest: 0.2153279\ttest1: 0.4684248\tbest: 0.4663218 (927)\ttotal: 33.2s\tremaining: 33.2ms\n",
      "999:\tlearn: 0.1280831\ttest: 0.2150123\ttest1: 0.4680777\tbest: 0.4663218 (927)\ttotal: 33.2s\tremaining: 0us\n",
      "\n",
      "bestTest = 0.4663218303\n",
      "bestIteration = 927\n",
      "\n",
      "Shrink model to first 928 iterations.\n"
     ]
    },
    {
     "data": {
      "text/plain": [
       "<catboost.core.CatBoostClassifier at 0x1831664c520>"
      ]
     },
     "execution_count": 146,
     "metadata": {},
     "output_type": "execute_result"
    }
   ],
   "source": [
    "train_pool = create_train_pool()\n",
    "eval_set, cat_boost_model = define_model_parameters()\n",
    "\n",
    "cat_boost_model.fit( \n",
    "    train_pool,\n",
    "    eval_set = eval_set\n",
    "    )"
   ]
  },
  {
   "cell_type": "code",
   "execution_count": 147,
   "metadata": {
    "colab": {
     "base_uri": "https://localhost:8080/"
    },
    "id": "cLBivnrsUisV",
    "outputId": "bb64286e-acac-414c-f20f-7d417ff97362"
   },
   "outputs": [
    {
     "name": "stdout",
     "output_type": "stream",
     "text": [
      "accuracy_score:  0.7777777777777778\n",
      "classification_report: \n",
      "               precision    recall  f1-score   support\n",
      "\n",
      "           A       0.80      0.89      0.84        72\n",
      "           F       0.71      0.56      0.63        36\n",
      "\n",
      "    accuracy                           0.78       108\n",
      "   macro avg       0.76      0.72      0.73       108\n",
      "weighted avg       0.77      0.78      0.77       108\n",
      "\n"
     ]
    },
    {
     "data": {
      "text/plain": [
       "<matplotlib.axes._subplots.AxesSubplot at 0x183165293d0>"
      ]
     },
     "execution_count": 147,
     "metadata": {},
     "output_type": "execute_result"
    },
    {
     "data": {
      "image/png": "[encoded data removed]",
      "text/plain": [
       "<Figure size 432x288 with 2 Axes>"
      ]
     },
     "metadata": {
      "needs_background": "light"
     },
     "output_type": "display_data"
    }
   ],
   "source": [
    "accuracy, cf_matrix, class_report = get_metrics(cat_boost_model, x_test, y_test)\n",
    "print(\"accuracy_score: \", accuracy)\n",
    "print(\"classification_report: \\n\", class_report)\n",
    "sns.heatmap(cf_matrix, annot = True, xticklabels = grades, yticklabels = grades, cmap = 'Blues')"
   ]
  },
  {
   "cell_type": "markdown",
   "metadata": {
    "id": "r6WkH8VMWP0j"
   },
   "source": [
    "## SVM"
   ]
  },
  {
   "cell_type": "code",
   "execution_count": 136,
   "metadata": {
    "colab": {
     "base_uri": "https://localhost:8080/"
    },
    "id": "XGqeltmsWO6_",
    "outputId": "828d5be2-65a4-4df7-f0da-d26a0cc95692"
   },
   "outputs": [
    {
     "data": {
      "text/plain": [
       "{'C': 1.0,\n",
       " 'break_ties': False,\n",
       " 'cache_size': 200,\n",
       " 'class_weight': None,\n",
       " 'coef0': 0.0,\n",
       " 'decision_function_shape': 'ovr',\n",
       " 'degree': 3,\n",
       " 'gamma': 'scale',\n",
       " 'kernel': 'rbf',\n",
       " 'max_iter': -1,\n",
       " 'probability': False,\n",
       " 'random_state': None,\n",
       " 'shrinking': True,\n",
       " 'tol': 0.001,\n",
       " 'verbose': False}"
      ]
     },
     "execution_count": 136,
     "metadata": {},
     "output_type": "execute_result"
    }
   ],
   "source": [
    "from sklearn import svm\n",
    "\n",
    "clf = svm.SVC()\n",
    "clf.fit(x_train, y_train)\n",
    "clf.get_params()"
   ]
  },
  {
   "cell_type": "code",
   "execution_count": 137,
   "metadata": {
    "colab": {
     "base_uri": "https://localhost:8080/",
     "height": 638
    },
    "id": "gQpDiZH3Ymrk",
    "outputId": "d40f7975-0a34-4ca2-9338-108453566074"
   },
   "outputs": [
    {
     "name": "stdout",
     "output_type": "stream",
     "text": [
      "accuracy_score:  0.6759259259259259\n",
      "classification_report: \n",
      "               precision    recall  f1-score   support\n",
      "\n",
      "           A       0.68      0.99      0.80        72\n",
      "           F       0.67      0.06      0.10        36\n",
      "\n",
      "    accuracy                           0.68       108\n",
      "   macro avg       0.67      0.52      0.45       108\n",
      "weighted avg       0.67      0.68      0.57       108\n",
      "\n"
     ]
    },
    {
     "data": {
      "text/plain": [
       "<matplotlib.axes._subplots.AxesSubplot at 0x1831654a580>"
      ]
     },
     "execution_count": 137,
     "metadata": {},
     "output_type": "execute_result"
    },
    {
     "data": {
      "image/png": "[encoded data removed]",
      "text/plain": [
       "<Figure size 432x288 with 2 Axes>"
      ]
     },
     "metadata": {
      "needs_background": "light"
     },
     "output_type": "display_data"
    }
   ],
   "source": [
    "y_pred = clf.predict(x_test)\n",
    "cf_matrix = confusion_matrix(y_test, y_pred, labels = grades)\n",
    "accuracy = accuracy_score(y_test, y_pred )\n",
    "class_report = classification_report(y_test, y_pred)\n",
    "\n",
    "print(\"accuracy_score: \", accuracy)\n",
    "print(\"classification_report: \\n\", class_report)\n",
    "\n",
    "sns.heatmap(cf_matrix, annot = True, xticklabels = grades, yticklabels = grades, cmap = 'Blues')"
   ]
  },
  {
   "cell_type": "markdown",
   "metadata": {
    "id": "IP9uQoDZX4Ql"
   },
   "source": [
    "## Naive Bayes"
   ]
  },
  {
   "cell_type": "code",
   "execution_count": 138,
   "metadata": {
    "colab": {
     "base_uri": "https://localhost:8080/"
    },
    "id": "e9q1S_-pX3So",
    "outputId": "734333b2-b1fb-4f5f-9740-85874b5ab32a"
   },
   "outputs": [
    {
     "data": {
      "text/plain": [
       "{'priors': None, 'var_smoothing': 1e-09}"
      ]
     },
     "execution_count": 138,
     "metadata": {},
     "output_type": "execute_result"
    }
   ],
   "source": [
    "from sklearn.naive_bayes import GaussianNB\n",
    "\n",
    "gnb = GaussianNB()\n",
    "gnb.fit(x_train, y_train)\n",
    "gnb.get_params()"
   ]
  },
  {
   "cell_type": "code",
   "execution_count": 139,
   "metadata": {
    "colab": {
     "base_uri": "https://localhost:8080/",
     "height": 473
    },
    "id": "OJvpsBX7YKqs",
    "outputId": "974e455c-cb99-4b8c-bdc5-a239867b193d"
   },
   "outputs": [
    {
     "name": "stdout",
     "output_type": "stream",
     "text": [
      "accuracy_score:  0.42592592592592593\n",
      "classification_report: \n",
      "               precision    recall  f1-score   support\n",
      "\n",
      "           A       0.71      0.24      0.35        72\n",
      "           F       0.35      0.81      0.48        36\n",
      "\n",
      "    accuracy                           0.43       108\n",
      "   macro avg       0.53      0.52      0.42       108\n",
      "weighted avg       0.59      0.43      0.40       108\n",
      "\n"
     ]
    },
    {
     "data": {
      "text/plain": [
       "<matplotlib.axes._subplots.AxesSubplot at 0x183165d1970>"
      ]
     },
     "execution_count": 139,
     "metadata": {},
     "output_type": "execute_result"
    },
    {
     "data": {
      "image/png": "[encoded data removed]",
      "text/plain": [
       "<Figure size 432x288 with 2 Axes>"
      ]
     },
     "metadata": {
      "needs_background": "light"
     },
     "output_type": "display_data"
    }
   ],
   "source": [
    "y_pred = gnb.predict(x_test)\n",
    "cf_matrix = confusion_matrix(y_test, y_pred, labels = grades)\n",
    "accuracy = accuracy_score(y_test, y_pred )\n",
    "class_report = classification_report(y_test, y_pred)\n",
    "\n",
    "print(\"accuracy_score: \", accuracy)\n",
    "print(\"classification_report: \\n\", class_report)\n",
    "\n",
    "sns.heatmap(cf_matrix, annot = True, xticklabels = grades, yticklabels = grades, cmap = 'Blues')"
   ]
  },
  {
   "cell_type": "markdown",
   "metadata": {
    "id": "Q6FrlZ53p2k8"
   },
   "source": [
    "## MLP"
   ]
  },
  {
   "cell_type": "code",
   "execution_count": 140,
   "metadata": {
    "colab": {
     "base_uri": "https://localhost:8080/"
    },
    "id": "6rpStwihY3p8",
    "outputId": "a5e5040a-e00c-466f-c940-22aef87de069"
   },
   "outputs": [
    {
     "data": {
      "text/plain": [
       "{'activation': 'relu',\n",
       " 'alpha': 0.0001,\n",
       " 'batch_size': 'auto',\n",
       " 'beta_1': 0.9,\n",
       " 'beta_2': 0.999,\n",
       " 'early_stopping': False,\n",
       " 'epsilon': 1e-08,\n",
       " 'hidden_layer_sizes': (100,),\n",
       " 'learning_rate': 'constant',\n",
       " 'learning_rate_init': 0.001,\n",
       " 'max_fun': 15000,\n",
       " 'max_iter': 200,\n",
       " 'momentum': 0.9,\n",
       " 'n_iter_no_change': 10,\n",
       " 'nesterovs_momentum': True,\n",
       " 'power_t': 0.5,\n",
       " 'random_state': 0,\n",
       " 'shuffle': True,\n",
       " 'solver': 'adam',\n",
       " 'tol': 0.0001,\n",
       " 'validation_fraction': 0.1,\n",
       " 'verbose': False,\n",
       " 'warm_start': False}"
      ]
     },
     "execution_count": 140,
     "metadata": {},
     "output_type": "execute_result"
    }
   ],
   "source": [
    "from sklearn.neural_network import MLPClassifier\n",
    "\n",
    "mlp = MLPClassifier(random_state=seed)\n",
    "mlp.fit(x_train, y_train)\n",
    "mlp.get_params()"
   ]
  },
  {
   "cell_type": "code",
   "execution_count": 141,
   "metadata": {
    "colab": {
     "base_uri": "https://localhost:8080/"
    },
    "id": "h3KYoSJ5p7NE",
    "outputId": "c5ab0ec5-a8a5-4b51-c2df-66762397b0fa"
   },
   "outputs": [
    {
     "name": "stdout",
     "output_type": "stream",
     "text": [
      "accuracy_score:  0.6944444444444444\n",
      "classification_report: \n",
      "               precision    recall  f1-score   support\n",
      "\n",
      "           A       0.73      0.85      0.79        72\n",
      "           F       0.56      0.39      0.46        36\n",
      "\n",
      "    accuracy                           0.69       108\n",
      "   macro avg       0.65      0.62      0.62       108\n",
      "weighted avg       0.68      0.69      0.68       108\n",
      "\n"
     ]
    }
   ],
   "source": [
    "y_pred = mlp.predict(x_test)\n",
    "cf_matrix = confusion_matrix(y_test, y_pred, labels = grades)\n",
    "accuracy = accuracy_score(y_test, y_pred )\n",
    "class_report = classification_report(y_test, y_pred)\n",
    "\n",
    "print(\"accuracy_score: \", accuracy)\n",
    "print(\"classification_report: \\n\", class_report)\n",
    "\n",
    "sns.heatmap(cf_matrix, annot = True, xticklabels = grades, yticklabels = grades, cmap = 'Blues')"
   ]
  }
 ],
 "metadata": {
  "colab": {
   "collapsed_sections": [
    "eAC-ZRKuE3La",
    "vxDI1pmRE_tX",
    "cHFxoRoBFQVe",
    "qxbKCzve6IN5",
    "mEBcRKiF7b_C",
    "WaWhfXpvFhXu",
    "Pp3mO84h8zSx",
    "UH64IeXWlBDo",
    "r6WkH8VMWP0j",
    "IP9uQoDZX4Ql",
    "Q6FrlZ53p2k8"
   ],
   "provenance": []
  },
  "gpuClass": "standard",
  "kernelspec": {
   "display_name": "Python 3",
   "language": "python",
   "name": "python3"
  },
  "language_info": {
   "codemirror_mode": {
    "name": "ipython",
    "version": 3
   },
   "file_extension": ".py",
   "mimetype": "text/x-python",
   "name": "python",
   "nbconvert_exporter": "python",
   "pygments_lexer": "ipython3",
   "version": "3.8.3"
  }
 },
 "nbformat": 4,
 "nbformat_minor": 1
}
