{
 "cells": [
  {
   "cell_type": "code",
   "execution_count": 1,
   "metadata": {
    "id": "O0SD8G7BLvcp"
   },
   "outputs": [],
   "source": [
    "import pandas as pd\n",
    "import numpy as np\n",
    "import seaborn as sns\n",
    "import matplotlib.pyplot as plt\n",
    "pd.set_option('display.max_columns', 55)"
   ]
  },
  {
   "attachments": {},
   "cell_type": "markdown",
   "metadata": {
    "id": "dHkAVa_l57ug"
   },
   "source": [
    "## Data loading"
   ]
  },
  {
   "cell_type": "code",
   "execution_count": 2,
   "metadata": {
    "id": "pPDo24szL92e"
   },
   "outputs": [],
   "source": [
    "def load_data():\n",
    "    df = pd.read_csv(\"540_data.csv\")\n",
    "    convert_dict = {\n",
    "                    \"pH\": float,\n",
    "                    'Catalyst Loading (mg/cm2)': float,\n",
    "                    \"Presence of atoms (other than TMs)\" : float,\n",
    "                    \"Average d electrons\": float,\n",
    "                    'Overpotential (mV)': float\n",
    "                }\n",
    "\n",
    "    df = df.astype(convert_dict)\n",
    "    df = df.drop([\"Compound\"], axis=1)\n",
    "    return df"
   ]
  },
  {
   "attachments": {},
   "cell_type": "markdown",
   "metadata": {
    "id": "eAC-ZRKuE3La"
   },
   "source": [
    "## Pre *processing*"
   ]
  },
  {
   "cell_type": "code",
   "execution_count": 3,
   "metadata": {
    "id": "isFKVTg8L3qo"
   },
   "outputs": [],
   "source": [
    "atomicMassMap = {\n",
    "    'cobalt': 64,\n",
    "    'nickel': 59,\n",
    "    'iron': 56,\n",
    "    \"molybdenum\": 96,\n",
    "    'manganese': 55,\n",
    "    \"copper\": 64,\n",
    "    \"zinc\": 65,\n",
    "    \"chromium\": 52,\n",
    "    \"vanadium\": 51,\n",
    "    \"tungsten\": 184,\n",
    "    \"titanium\": 48,\n",
    "    \"iridium\": 192\n",
    "}"
   ]
  },
  {
   "cell_type": "code",
   "execution_count": 4,
   "metadata": {
    "id": "Lr12m2yNL_yC"
   },
   "outputs": [],
   "source": [
    "def mulitply_number_of_atoms_to_its_mass_number():\n",
    "    for col in df.columns:\n",
    "        if col.lower().split(' ')[0] in atomicMassMap:\n",
    "            df[col] = df[col].values.astype(float) * atomicMassMap[col.lower().split(' ')[0]]"
   ]
  },
  {
   "cell_type": "code",
   "execution_count": 5,
   "metadata": {
    "id": "4NxKB8JqFEZb"
   },
   "outputs": [],
   "source": [
    "def find_and_handle_missing_values(model_name):\n",
    "    print(\"Missing values columns:\", list(df.columns[df.isnull().any()]))\n",
    "\n",
    "    if model_name != \"catboost\":\n",
    "        df['Catalyst Loading (mg/cm2)'].fillna(df['Catalyst Loading (mg/cm2)'].mean() , inplace = True)\n",
    "        df[\"Average d electrons\"].fillna(df['Average d electrons'].mean() , inplace = True)"
   ]
  },
  {
   "attachments": {},
   "cell_type": "markdown",
   "metadata": {
    "id": "vxDI1pmRE_tX"
   },
   "source": [
    "## Data analysis"
   ]
  },
  {
   "cell_type": "code",
   "execution_count": 6,
   "metadata": {
    "id": "NxrZC6fyE4bN"
   },
   "outputs": [],
   "source": [
    "def get_number_of_features():\n",
    "\n",
    "    training_features = df.columns[0:-1]\n",
    "    continuous_features = []\n",
    "    categorical_features = []\n",
    "\n",
    "    for col in training_features:\n",
    "        if df[col].dtypes == float:\n",
    "            continuous_features.append(col)\n",
    "        else:\n",
    "            categorical_features.append(col)\n",
    "\n",
    "    total_number_of_features = len(training_features)\n",
    "    print(\"Total number of training features: \", total_number_of_features) \n",
    "\n",
    "    print(\"Number of continuous variables:\", len(continuous_features))\n",
    "    print(\"Continuous features:\", continuous_features)\n",
    "\n",
    "    print(\"Number of categorical variables: \", len(categorical_features))\n",
    "    print(\"Categorical features:\", categorical_features)\n",
    "\n",
    "    return training_features, continuous_features, categorical_features"
   ]
  },
  {
   "cell_type": "code",
   "execution_count": 7,
   "metadata": {
    "id": "J-tXhEq9Bdff"
   },
   "outputs": [],
   "source": [
    "def plot_correlation(data):\n",
    "    plt.subplots(figsize=(16,16))\n",
    "    dataplot = sns.heatmap(data.corr(), cmap=\"YlGnBu\", annot=True)\n",
    "    plt.show()"
   ]
  },
  {
   "attachments": {},
   "cell_type": "markdown",
   "metadata": {
    "id": "cHFxoRoBFQVe"
   },
   "source": [
    "## Train test split"
   ]
  },
  {
   "cell_type": "code",
   "execution_count": 8,
   "metadata": {
    "id": "-ArMhgzqMFFn"
   },
   "outputs": [],
   "source": [
    "from sklearn.model_selection import train_test_split"
   ]
  },
  {
   "cell_type": "code",
   "execution_count": 9,
   "metadata": {
    "id": "UxGWkEBtFXth"
   },
   "outputs": [],
   "source": [
    "def split_data_into_train_test():\n",
    "    x = df.values[:, 0:-1]\n",
    "    y = df.values[:, -1]\n",
    "\n",
    "    x_train, x_test, y_train, y_test = train_test_split(\n",
    "        x, y, test_size=0.2, random_state = 0, shuffle=True\n",
    "    )\n",
    "    return x_train, x_test, y_train, y_test"
   ]
  },
  {
   "cell_type": "code",
   "execution_count": 10,
   "metadata": {
    "id": "vozGgnFg4iKt"
   },
   "outputs": [],
   "source": [
    "def train_and_test_split():\n",
    "    x_train, x_test, y_train, y_test = split_data_into_train_test()\n",
    "\n",
    "    print(x_train[0])\n",
    "    print(y_train[0])\n",
    "    print(type(x_train), type(y_train))\n",
    "    print(\"number of train data: \", len(y_train))\n",
    "    print(\"number of test data: \", len(y_test))\n",
    "\n",
    "    return x_train, y_train, x_test, y_test"
   ]
  },
  {
   "attachments": {},
   "cell_type": "markdown",
   "metadata": {
    "id": "qxbKCzve6IN5"
   },
   "source": [
    "## Error **analysis**"
   ]
  },
  {
   "cell_type": "code",
   "execution_count": 11,
   "metadata": {
    "id": "E8rzCBdwGFIf"
   },
   "outputs": [],
   "source": [
    "from sklearn.metrics import mean_squared_error\n",
    "from sklearn.metrics import mean_absolute_error\n",
    "from sklearn.metrics import mean_absolute_percentage_error \n",
    "\n",
    "def getMetrics(x_test, y_test, model):\n",
    "    y_pred = model.predict(x_test)\n",
    "    print('MSE: ', mean_squared_error(y_test, y_pred))\n",
    "    print('RMSE = ', mean_squared_error(y_test, y_pred) ** 0.5)\n",
    "    print('MAE: ', mean_absolute_error(y_test, y_pred))\n",
    "    print( \"MAPE = \", mean_absolute_percentage_error(y_test, y_pred))"
   ]
  },
  {
   "cell_type": "code",
   "execution_count": 12,
   "metadata": {
    "id": "loVc0V8wUreX"
   },
   "outputs": [],
   "source": [
    "def get_feature_importance_from_trained_model(model):\n",
    "\n",
    "    feature_importance = model.feature_importances_\n",
    "    sorted_idx = np.argsort(feature_importance)\n",
    "\n",
    "    return feature_importance, sorted_idx"
   ]
  },
  {
   "cell_type": "code",
   "execution_count": 13,
   "metadata": {
    "id": "J70CeGW85aaP"
   },
   "outputs": [],
   "source": [
    "def plot_feature_importance(feature_importance, sorted_idx):\n",
    "    fig = plt.figure(figsize=(20, 10))\n",
    "    plt.barh(range(len(sorted_idx)), feature_importance[sorted_idx], align='center')\n",
    "    plt.yticks(range(len(sorted_idx)), training_features[sorted_idx])\n",
    "    plt.title('Feature Importance')"
   ]
  },
  {
   "attachments": {},
   "cell_type": "markdown",
   "metadata": {
    "id": "mEBcRKiF7b_C"
   },
   "source": [
    "## Encoding cat_features"
   ]
  },
  {
   "cell_type": "code",
   "execution_count": 14,
   "metadata": {
    "id": "SVJinVhX34t6"
   },
   "outputs": [],
   "source": [
    "from sklearn.preprocessing import LabelEncoder\n",
    "\n",
    "def encode_categorical_features(df):\n",
    "    types_of_compounds = list(df['Compound Class'].value_counts().keys())\n",
    "    types_of_substrates = list(df['Substrates'].value_counts().keys())\n",
    "    \n",
    "    labelencoder = LabelEncoder()\n",
    "    df['Compound Class']= labelencoder.fit_transform(df['Compound Class'])\n",
    "    df['Substrates']= labelencoder.fit_transform(df['Substrates'])\n",
    "\n",
    "    compound_encoding_labels = {}\n",
    "    a1 = list(df['Compound Class'].value_counts().keys())\n",
    "    for i in range(len(a1)):\n",
    "        compound_encoding_labels[types_of_compounds[i]] = a1[i]\n",
    "\n",
    "    substrate_encoding_labels = {}\n",
    "    a2 = list(df['Substrates'].value_counts().keys())\n",
    "    for i in range(len(a2)):\n",
    "        substrate_encoding_labels[types_of_substrates[i]] = a2[i]\n",
    "\n",
    "    return compound_encoding_labels, substrate_encoding_labels"
   ]
  },
  {
   "attachments": {},
   "cell_type": "markdown",
   "metadata": {
    "id": "VL34Im9U7EV0"
   },
   "source": [
    "## Random forest"
   ]
  },
  {
   "cell_type": "code",
   "execution_count": 15,
   "metadata": {
    "colab": {
     "base_uri": "https://localhost:8080/",
     "height": 626
    },
    "id": "dJQFjo-c7GnB",
    "outputId": "51591bc1-b8f4-489d-abb0-0aaa1a4a3f8b"
   },
   "outputs": [
    {
     "name": "stdout",
     "output_type": "stream",
     "text": [
      "Shape of data: (305, 26)\n",
      "{'Co': 0, 'Ni': 2, 'Fe': 1, 'Other TMs': 3} {'GC': 0, 'NF': 1, 'carbon_based': 3, 'TM_based': 2}\n",
      "Total number of training features:  25\n",
      "Number of continuous variables: 15\n",
      "Continuous features: ['Presence of atoms (other than TMs)', 'Cobalt atoms', 'Nickel atoms', 'Iron atoms', 'Molybdenum atoms', 'Manganese atoms', 'Copper atoms', 'Zinc atoms', 'Chromium Atoms', 'Vanadium Atoms', 'Tungsten atoms', 'Titanium atoms', 'Average d electrons', 'pH', 'Catalyst Loading (mg/cm2)']\n",
      "Number of categorical variables:  10\n",
      "Categorical features: ['Compound Class', 'Composite (Y or N)', 'Presence of Carbon', 'Carbon Structures', 'N-doped Carbon Structure (0 or 1)', 'Doping (other than TMs)', 'Morphology Category', 'Grown on', 'Porous - 1, Non-Porous - 0', 'Substrates']\n",
      "Missing values columns: ['Average d electrons', 'Catalyst Loading (mg/cm2)']\n"
     ]
    }
   ],
   "source": [
    "df = load_data()\n",
    "\n",
    "print(\"Shape of data:\", df.shape)\n",
    "\n",
    "mulitply_number_of_atoms_to_its_mass_number()\n",
    "\n",
    "compound_encoding_labels, substrate_encoding_labels = encode_categorical_features(df)\n",
    "print(compound_encoding_labels, substrate_encoding_labels)\n",
    "\n",
    "training_features, continuous_features, categorical_features = get_number_of_features()\n",
    "\n",
    "model_name = \"random_forest\"\n",
    "find_and_handle_missing_values(model_name)"
   ]
  },
  {
   "cell_type": "code",
   "execution_count": 16,
   "metadata": {
    "colab": {
     "base_uri": "https://localhost:8080/"
    },
    "id": "14ZFnr0f-7MG",
    "outputId": "afc265f0-4a9a-44aa-dce2-c12afc2f32d0"
   },
   "outputs": [
    {
     "name": "stdout",
     "output_type": "stream",
     "text": [
      "[ 2.     0.     0.     0.     0.     0.     6.     0.     1.     0.\n",
      "  0.     0.    59.     0.     0.     0.     0.     0.     0.     0.\n",
      "  0.     0.     3.5   14.     0.203]\n",
      "415.0\n",
      "<class 'numpy.ndarray'> <class 'numpy.ndarray'>\n",
      "number of train data:  244\n",
      "number of test data:  61\n"
     ]
    }
   ],
   "source": [
    "x_train, y_train, x_test, y_test = train_and_test_split()"
   ]
  },
  {
   "cell_type": "code",
   "execution_count": 17,
   "metadata": {
    "colab": {
     "base_uri": "https://localhost:8080/",
     "height": 164
    },
    "id": "8jq6CXwJ82rM",
    "outputId": "0cab48f9-08c7-4825-ebeb-e8b76e5ff165"
   },
   "outputs": [
    {
     "data": {
      "text/plain": [
       "RandomForestRegressor(max_features='sqrt', random_state=0)"
      ]
     },
     "execution_count": 17,
     "metadata": {},
     "output_type": "execute_result"
    }
   ],
   "source": [
    "from sklearn.ensemble import RandomForestRegressor\n",
    "\n",
    "rf = RandomForestRegressor(random_state = 0, max_features=\"sqrt\")\n",
    "rf.fit(x_train, y_train)"
   ]
  },
  {
   "cell_type": "code",
   "execution_count": 18,
   "metadata": {
    "colab": {
     "base_uri": "https://localhost:8080/"
    },
    "id": "GSEmD0fk_ZBw",
    "outputId": "459df3da-014a-4af1-cb0f-6a91f4a055c1"
   },
   "outputs": [
    {
     "name": "stdout",
     "output_type": "stream",
     "text": [
      "\n",
      "Test error:\n",
      "MSE:  2683.173317828334\n",
      "RMSE =  51.799356345695394\n",
      "MAE:  42.60773614363779\n",
      "MAPE =  0.1393612832270068\n"
     ]
    }
   ],
   "source": [
    "print(\"\\nTest error:\")\n",
    "getMetrics(x_test, y_test, rf)"
   ]
  },
  {
   "cell_type": "code",
   "execution_count": 20,
   "metadata": {},
   "outputs": [
    {
     "data": {
      "image/png": "[encoded data removed]",
      "text/plain": [
       "<Figure size 432x288 with 1 Axes>"
      ]
     },
     "metadata": {
      "needs_background": "light"
     },
     "output_type": "display_data"
    }
   ],
   "source": [
    "y_test_pred = rf.predict(x_test)\n",
    "y_train_pred = rf.predict(x_train)\n",
    "\n",
    "Y_max = max(y_train_pred.max(), y_test_pred.max()) + 75\n",
    "Y_min = min(y_train_pred.min(), y_test_pred.min()) - 75\n",
    "\n",
    "ax = sns.scatterplot(x=y_train, y=y_train_pred, label = \"Train\")\n",
    "ax = sns.scatterplot(x=y_test, y=y_test_pred, label = \"Test\")\n",
    "ax.set(ylim=(Y_min, Y_max))\n",
    "ax.set(xlim=(Y_min, Y_max))\n",
    "ax.set_xlabel(\"Actual value (mV)\")\n",
    "ax.set_ylabel(\"Predicted value (mV)\")\n",
    "\n",
    "X_ref = Y_ref = np.linspace(Y_min, Y_max, 100)\n",
    "plt.plot(X_ref, Y_ref, color='red', linewidth=1)\n",
    "plt.savefig(\"QQ_plot.png\")\n",
    "plt.show()\n",
    "\n",
    "np.savetxt(\"y_test_pred.csv\", y_test_pred)\n",
    "np.savetxt(\"y_test.csv\", y_test)\n",
    "np.savetxt(\"y_train_pred.csv\", y_train_pred)\n",
    "np.savetxt(\"y_train.csv\", y_train)"
   ]
  },
  {
   "cell_type": "code",
   "execution_count": 69,
   "metadata": {},
   "outputs": [
    {
     "name": "stdout",
     "output_type": "stream",
     "text": [
      "[0.03403733 0.03378621 0.03217721 0.01581431 0.03109742 0.01276209\n",
      " 0.01572333 0.06496824 0.04693618 0.04787386 0.04570196 0.02313808\n",
      " 0.06291949 0.07098606 0.08127053 0.01006846 0.01226747 0.00448984\n",
      " 0.01170659 0.01318049 0.00482198 0.00163477 0.00114915 0.14067569\n",
      " 0.04165128 0.13916197] [22 21 17 20 15 18 16  5 19  6  3 11  4  2  1  0 24 10  8  9 12  7 13 14\n",
      " 25 23]\n"
     ]
    },
    {
     "data": {
      "image/png": "[encoded data removed]",
      "text/plain": [
       "<Figure size 1440x720 with 1 Axes>"
      ]
     },
     "metadata": {
      "needs_background": "light"
     },
     "output_type": "display_data"
    }
   ],
   "source": [
    "feature_importance, sorted_idx = get_feature_importance_from_trained_model(rf)\n",
    "plot_feature_importance(feature_importance, sorted_idx)\n",
    "print(feature_importance, sorted_idx)"
   ]
  },
  {
   "attachments": {},
   "cell_type": "markdown",
   "metadata": {
    "id": "r6WkH8VMWP0j"
   },
   "source": [
    "## SVM"
   ]
  },
  {
   "cell_type": "code",
   "execution_count": 74,
   "metadata": {
    "colab": {
     "base_uri": "https://localhost:8080/"
    },
    "id": "XGqeltmsWO6_",
    "outputId": "828d5be2-65a4-4df7-f0da-d26a0cc95692"
   },
   "outputs": [
    {
     "data": {
      "text/plain": [
       "SVR()"
      ]
     },
     "execution_count": 74,
     "metadata": {},
     "output_type": "execute_result"
    }
   ],
   "source": [
    "from sklearn import svm\n",
    "\n",
    "clf = svm.SVR()\n",
    "clf.fit(x_train, y_train)"
   ]
  },
  {
   "cell_type": "code",
   "execution_count": 75,
   "metadata": {
    "colab": {
     "base_uri": "https://localhost:8080/",
     "height": 638
    },
    "id": "gQpDiZH3Ymrk",
    "outputId": "d40f7975-0a34-4ca2-9338-108453566074"
   },
   "outputs": [
    {
     "name": "stdout",
     "output_type": "stream",
     "text": [
      "\n",
      "Test error:\n",
      "MSE:  3174.74876550592\n",
      "RMSE =  56.344908958182906\n",
      "MAE:  46.450045851569854\n",
      "MAPE =  0.14655297213038046\n"
     ]
    }
   ],
   "source": [
    "print(\"\\nTest error:\")\n",
    "getMetrics(x_test, y_test, clf)"
   ]
  },
  {
   "attachments": {},
   "cell_type": "markdown",
   "metadata": {
    "id": "IP9uQoDZX4Ql"
   },
   "source": [
    "## Naive Bayes"
   ]
  },
  {
   "cell_type": "code",
   "execution_count": 76,
   "metadata": {
    "colab": {
     "base_uri": "https://localhost:8080/"
    },
    "id": "e9q1S_-pX3So",
    "outputId": "734333b2-b1fb-4f5f-9740-85874b5ab32a"
   },
   "outputs": [
    {
     "data": {
      "text/plain": [
       "GaussianNB()"
      ]
     },
     "execution_count": 76,
     "metadata": {},
     "output_type": "execute_result"
    }
   ],
   "source": [
    "from sklearn.naive_bayes import GaussianNB\n",
    "\n",
    "gnb = GaussianNB()\n",
    "gnb.fit(x_train, y_train)"
   ]
  },
  {
   "cell_type": "code",
   "execution_count": 77,
   "metadata": {
    "colab": {
     "base_uri": "https://localhost:8080/",
     "height": 473
    },
    "id": "OJvpsBX7YKqs",
    "outputId": "974e455c-cb99-4b8c-bdc5-a239867b193d"
   },
   "outputs": [
    {
     "name": "stdout",
     "output_type": "stream",
     "text": [
      "\n",
      "Test error:\n",
      "MSE:  4565.7962962962965\n",
      "RMSE =  67.57067630486095\n",
      "MAE:  52.96296296296296\n",
      "MAPE =  0.16659167796114852\n"
     ]
    }
   ],
   "source": [
    "print(\"\\nTest error:\")\n",
    "getMetrics(x_test, y_test, gnb)"
   ]
  },
  {
   "attachments": {},
   "cell_type": "markdown",
   "metadata": {
    "id": "Q6FrlZ53p2k8"
   },
   "source": [
    "## MLP"
   ]
  },
  {
   "cell_type": "code",
   "execution_count": 78,
   "metadata": {
    "colab": {
     "base_uri": "https://localhost:8080/"
    },
    "id": "6rpStwihY3p8",
    "outputId": "a5e5040a-e00c-466f-c940-22aef87de069"
   },
   "outputs": [
    {
     "name": "stderr",
     "output_type": "stream",
     "text": [
      "Stochastic Optimizer: Maximum iterations (200) reached and the optimization hasn't converged yet.\n"
     ]
    },
    {
     "data": {
      "text/plain": [
       "MLPRegressor(random_state=0)"
      ]
     },
     "execution_count": 78,
     "metadata": {},
     "output_type": "execute_result"
    }
   ],
   "source": [
    "from sklearn.neural_network import MLPRegressor\n",
    "\n",
    "mlp = MLPRegressor(random_state=0)\n",
    "mlp.fit(x_train, y_train)"
   ]
  },
  {
   "cell_type": "code",
   "execution_count": 79,
   "metadata": {
    "colab": {
     "base_uri": "https://localhost:8080/"
    },
    "id": "h3KYoSJ5p7NE",
    "outputId": "c5ab0ec5-a8a5-4b51-c2df-66762397b0fa"
   },
   "outputs": [
    {
     "name": "stdout",
     "output_type": "stream",
     "text": [
      "\n",
      "Test error:\n",
      "MSE:  7015.994481482457\n",
      "RMSE =  83.76153342365728\n",
      "MAE:  67.44443322034873\n",
      "MAPE =  0.20555351582992712\n"
     ]
    }
   ],
   "source": [
    "print(\"\\nTest error:\")\n",
    "getMetrics(x_test, y_test, mlp)"
   ]
  },
  {
   "cell_type": "code",
   "execution_count": null,
   "metadata": {},
   "outputs": [],
   "source": []
  }
 ],
 "metadata": {
  "colab": {
   "collapsed_sections": [
    "eAC-ZRKuE3La",
    "vxDI1pmRE_tX",
    "cHFxoRoBFQVe",
    "qxbKCzve6IN5",
    "mEBcRKiF7b_C",
    "WaWhfXpvFhXu",
    "Pp3mO84h8zSx",
    "UH64IeXWlBDo",
    "r6WkH8VMWP0j",
    "IP9uQoDZX4Ql",
    "Q6FrlZ53p2k8"
   ],
   "provenance": []
  },
  "gpuClass": "standard",
  "kernelspec": {
   "display_name": "Python 3",
   "language": "python",
   "name": "python3"
  },
  "language_info": {
   "codemirror_mode": {
    "name": "ipython",
    "version": 3
   },
   "file_extension": ".py",
   "mimetype": "text/x-python",
   "name": "python",
   "nbconvert_exporter": "python",
   "pygments_lexer": "ipython3",
   "version": "3.8.3"
  }
 },
 "nbformat": 4,
 "nbformat_minor": 1
}
