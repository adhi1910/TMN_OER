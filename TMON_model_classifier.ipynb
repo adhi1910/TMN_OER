{
 "cells": [
  {
   "cell_type": "code",
   "execution_count": 2,
   "metadata": {
    "id": "O0SD8G7BLvcp"
   },
   "outputs": [],
   "source": [
    "import pandas as pd\n",
    "import numpy as np\n",
    "import seaborn as sns\n",
    "import matplotlib.pyplot as plt\n",
    "pd.set_option('display.max_columns', 55)"
   ]
  },
  {
   "attachments": {},
   "cell_type": "markdown",
   "metadata": {
    "id": "dHkAVa_l57ug"
   },
   "source": [
    "## Data loading"
   ]
  },
  {
   "cell_type": "code",
   "execution_count": 3,
   "metadata": {
    "id": "pPDo24szL92e"
   },
   "outputs": [],
   "source": [
    "def load_data():\n",
    "    df = pd.read_csv(\"TM(O)N_dataset.csv\")\n",
    "    convert_dict = {\n",
    "                    \"pH\": float,\n",
    "                    'Catalyst Loading (mg/cm2)': float,\n",
    "                    \"Presence of atoms (other than TMs)\" : float,\n",
    "                    \"Average d electrons\": float,\n",
    "                    'Overpotential (mV)': float\n",
    "                }\n",
    "\n",
    "    df = df.astype(convert_dict)\n",
    "    df = df.drop([\"Compound\"], axis=1)\n",
    "    return df"
   ]
  },
  {
   "attachments": {},
   "cell_type": "markdown",
   "metadata": {
    "id": "eAC-ZRKuE3La"
   },
   "source": [
    "## Pre *processing*"
   ]
  },
  {
   "cell_type": "code",
   "execution_count": 4,
   "metadata": {
    "id": "isFKVTg8L3qo"
   },
   "outputs": [],
   "source": [
    "atomicMassMap = {\n",
    "    'cobalt': 64,\n",
    "    'nickel': 59,\n",
    "    'iron': 56,\n",
    "    \"molybdenum\": 96,\n",
    "    'manganese': 55,\n",
    "    \"copper\": 64,\n",
    "    \"zinc\": 65,\n",
    "    \"chromium\": 52,\n",
    "    \"vanadium\": 51,\n",
    "    \"tungsten\": 184,\n",
    "    \"titanium\": 48,\n",
    "    \"iridium\": 192\n",
    "}"
   ]
  },
  {
   "cell_type": "code",
   "execution_count": 5,
   "metadata": {
    "id": "Lr12m2yNL_yC"
   },
   "outputs": [],
   "source": [
    "def mulitply_number_of_atoms_to_its_mass_number():\n",
    "    for col in df.columns:\n",
    "        if col.lower().split(' ')[0] in atomicMassMap:\n",
    "            df[col] = df[col].values.astype(float) * atomicMassMap[col.lower().split(' ')[0]]"
   ]
  },
  {
   "cell_type": "code",
   "execution_count": 6,
   "metadata": {
    "id": "4NxKB8JqFEZb"
   },
   "outputs": [],
   "source": [
    "def find_and_handle_missing_values(model_name):\n",
    "    print(\"Missing values columns:\", list(df.columns[df.isnull().any()]))\n",
    "\n",
    "    if model_name != \"catboost\":\n",
    "        df['Catalyst Loading (mg/cm2)'].fillna(df['Catalyst Loading (mg/cm2)'].mean() , inplace = True)\n",
    "        df[\"Average d electrons\"].fillna(df['Average d electrons'].mean() , inplace = True)"
   ]
  },
  {
   "attachments": {},
   "cell_type": "markdown",
   "metadata": {
    "id": "vxDI1pmRE_tX"
   },
   "source": [
    "## Data analysis"
   ]
  },
  {
   "cell_type": "code",
   "execution_count": 7,
   "metadata": {
    "id": "NxrZC6fyE4bN"
   },
   "outputs": [],
   "source": [
    "def get_number_of_features():\n",
    "\n",
    "    training_features = df.columns[0:-1]\n",
    "    continuous_features = []\n",
    "    categorical_features = []\n",
    "\n",
    "    for col in training_features:\n",
    "        if df[col].dtypes == float:\n",
    "            continuous_features.append(col)\n",
    "        else:\n",
    "            categorical_features.append(col)\n",
    "\n",
    "    total_number_of_features = len(training_features)\n",
    "    print(\"Total number of training features: \", total_number_of_features) \n",
    "\n",
    "    print(\"Number of continuous variables:\", len(continuous_features))\n",
    "    print(\"Continuous features:\", continuous_features)\n",
    "\n",
    "    print(\"Number of categorical variables: \", len(categorical_features))\n",
    "    print(\"Categorical features:\", categorical_features)\n",
    "\n",
    "    return training_features, continuous_features, categorical_features"
   ]
  },
  {
   "cell_type": "code",
   "execution_count": 8,
   "metadata": {
    "id": "Iqk-FX14FCp_"
   },
   "outputs": [],
   "source": [
    "def categorical_features_count_plot(categorical_features):\n",
    "    unique, counts = np.unique(df['overpotential_grades'].values, return_counts=True)\n",
    "    sns.countplot(x=\"overpotential_grades\", data=df)"
   ]
  },
  {
   "cell_type": "code",
   "execution_count": 9,
   "metadata": {
    "id": "J-tXhEq9Bdff"
   },
   "outputs": [],
   "source": [
    "def plot_correlation(data):\n",
    "    plt.subplots(figsize=(16,16))\n",
    "    dataplot = sns.heatmap(data.corr(), cmap=\"YlGnBu\", annot=True)\n",
    "    plt.show()"
   ]
  },
  {
   "attachments": {},
   "cell_type": "markdown",
   "metadata": {
    "id": "cHFxoRoBFQVe"
   },
   "source": [
    "## Train test split"
   ]
  },
  {
   "cell_type": "code",
   "execution_count": 10,
   "metadata": {
    "id": "-ArMhgzqMFFn"
   },
   "outputs": [],
   "source": [
    "from sklearn.model_selection import train_test_split"
   ]
  },
  {
   "cell_type": "code",
   "execution_count": 11,
   "metadata": {
    "id": "UxGWkEBtFXth"
   },
   "outputs": [],
   "source": [
    "def split_data_into_train_test():\n",
    "    x = df.values[:, 0:-1]\n",
    "    y = df.values[:, -1]\n",
    "\n",
    "    x_train, x_test, y_train, y_test = train_test_split(\n",
    "        x, y, test_size=0.2, random_state = 0, stratify=y\n",
    "    )\n",
    "    return x_train, x_test, y_train, y_test"
   ]
  },
  {
   "cell_type": "code",
   "execution_count": 12,
   "metadata": {
    "id": "vozGgnFg4iKt"
   },
   "outputs": [],
   "source": [
    "def train_and_test_split():\n",
    "    x_train, x_test, y_train, y_test = split_data_into_train_test()\n",
    "\n",
    "    print(x_train[0])\n",
    "    print(y_train[0])\n",
    "    print(type(x_train), type(y_train))\n",
    "    print(\"number of train data: \", len(y_train))\n",
    "    print(\"number of test data: \", len(y_test))\n",
    "\n",
    "    return x_train, y_train, x_test, y_test"
   ]
  },
  {
   "attachments": {},
   "cell_type": "markdown",
   "metadata": {
    "id": "qxbKCzve6IN5"
   },
   "source": [
    "## Error **analysis**"
   ]
  },
  {
   "cell_type": "code",
   "execution_count": 13,
   "metadata": {
    "id": "E8rzCBdwGFIf"
   },
   "outputs": [],
   "source": [
    "from sklearn.metrics import accuracy_score, classification_report, confusion_matrix\n",
    "\n",
    "\n",
    "def get_metrics(model, x_test, y_test):\n",
    "\n",
    "    y_pred = model.predict(x_test)\n",
    "    y_prob_pred = model.predict_proba(x_test)\n",
    "    cf_matrix = confusion_matrix(y_test, y_pred, labels = grades)\n",
    "    accuracy = accuracy_score(y_test, y_pred )\n",
    "    class_report = classification_report(y_test, y_pred)\n",
    "    \n",
    "    return accuracy, cf_matrix, class_report"
   ]
  },
  {
   "cell_type": "code",
   "execution_count": 14,
   "metadata": {
    "id": "loVc0V8wUreX"
   },
   "outputs": [],
   "source": [
    "def get_feature_importance_from_trained_model(model):\n",
    "\n",
    "    feature_importance = model.feature_importances_\n",
    "    sorted_idx = np.argsort(feature_importance)\n",
    "\n",
    "    return feature_importance, sorted_idx"
   ]
  },
  {
   "cell_type": "code",
   "execution_count": 15,
   "metadata": {
    "id": "J70CeGW85aaP"
   },
   "outputs": [],
   "source": [
    "def plot_feature_importance(feature_importance, sorted_idx):\n",
    "    fig = plt.figure(figsize=(20, 10))\n",
    "    plt.barh(range(len(sorted_idx)), feature_importance[sorted_idx], align='center')\n",
    "    plt.yticks(range(len(sorted_idx)), training_features[sorted_idx])\n",
    "    plt.title('Feature Importance')"
   ]
  },
  {
   "attachments": {},
   "cell_type": "markdown",
   "metadata": {
    "id": "mEBcRKiF7b_C"
   },
   "source": [
    "## Encoding cat_features"
   ]
  },
  {
   "cell_type": "code",
   "execution_count": 16,
   "metadata": {
    "id": "SVJinVhX34t6"
   },
   "outputs": [],
   "source": [
    "from sklearn.preprocessing import LabelEncoder\n",
    "\n",
    "def encode_categorical_features(df):\n",
    "    types_of_compounds = list(df['Compound Class'].value_counts().keys())\n",
    "    types_of_substrates = list(df['Substrates'].value_counts().keys())\n",
    "    \n",
    "    labelencoder = LabelEncoder()\n",
    "    df['Compound Class']= labelencoder.fit_transform(df['Compound Class'])\n",
    "    df['Substrates']= labelencoder.fit_transform(df['Substrates'])\n",
    "\n",
    "    compound_encoding_labels = {}\n",
    "    a1 = list(df['Compound Class'].value_counts().keys())\n",
    "    for i in range(len(a1)):\n",
    "        compound_encoding_labels[types_of_compounds[i]] = a1[i]\n",
    "\n",
    "    substrate_encoding_labels = {}\n",
    "    a2 = list(df['Substrates'].value_counts().keys())\n",
    "    for i in range(len(a2)):\n",
    "        substrate_encoding_labels[types_of_substrates[i]] = a2[i]\n",
    "\n",
    "    return compound_encoding_labels, substrate_encoding_labels"
   ]
  },
  {
   "cell_type": "code",
   "execution_count": 17,
   "metadata": {
    "id": "C5JdAr7ZUDyy"
   },
   "outputs": [],
   "source": [
    "def get_overpotential_grades(overpotential):\n",
    "\n",
    "    overpotential_grades = []\n",
    "    grades = [\"A\", \"F\"]\n",
    "\n",
    "    for potential in overpotential:\n",
    "        if potential < 351:\n",
    "            overpotential_grades.append('A')\n",
    "\n",
    "        else:\n",
    "            overpotential_grades.append('F')\n",
    "\n",
    "    return overpotential_grades, grades"
   ]
  },
  {
   "attachments": {},
   "cell_type": "markdown",
   "metadata": {
    "id": "VL34Im9U7EV0"
   },
   "source": [
    "## Random forest"
   ]
  },
  {
   "cell_type": "code",
   "execution_count": 18,
   "metadata": {
    "colab": {
     "base_uri": "https://localhost:8080/",
     "height": 626
    },
    "id": "dJQFjo-c7GnB",
    "outputId": "51591bc1-b8f4-489d-abb0-0aaa1a4a3f8b"
   },
   "outputs": [
    {
     "name": "stdout",
     "output_type": "stream",
     "text": [
      "Shape of data: (305, 26)\n",
      "(array(['A', 'F'], dtype=object), array([181, 124], dtype=int64))\n",
      "{'Co': 0, 'Ni': 2, 'Fe': 1, 'Other TMs': 3} {'GC': 0, 'NF': 1, 'carbon_based': 3, 'TM_based': 2}\n",
      "Total number of training features:  25\n",
      "Number of continuous variables: 15\n",
      "Continuous features: ['Presence of atoms (other than TMs)', 'Cobalt atoms', 'Nickel atoms', 'Iron atoms', 'Molybdenum atoms', 'Manganese atoms', 'Copper atoms', 'Zinc atoms', 'Chromium Atoms', 'Vanadium Atoms', 'Tungsten atoms', 'Titanium atoms', 'Average d electrons', 'pH', 'Catalyst Loading (mg/cm2)']\n",
      "Number of categorical variables:  10\n",
      "Categorical features: ['Compound Class', 'Composite (Y or N)', 'Presence of Carbon', 'Carbon Structures', 'N-doped Carbon Structure (0 or 1)', 'Doping (other than TMs)', 'Morphology Category', 'Grown on', 'Porous - 1, Non-Porous - 0', 'Substrates']\n",
      "Missing values columns: ['Average d electrons', 'Catalyst Loading (mg/cm2)']\n"
     ]
    },
    {
     "data": {
      "image/png": "[encoded data removed]",
      "text/plain": [
       "<Figure size 432x288 with 1 Axes>"
      ]
     },
     "metadata": {
      "needs_background": "light"
     },
     "output_type": "display_data"
    }
   ],
   "source": [
    "df = load_data()\n",
    "\n",
    "print(\"Shape of data:\", df.shape)\n",
    "\n",
    "mulitply_number_of_atoms_to_its_mass_number()\n",
    "\n",
    "overpotential_grades, grades = get_overpotential_grades(df[\"Overpotential (mV)\"])\n",
    "\n",
    "df['overpotential_grades'] = overpotential_grades\n",
    "df = df.drop([\"Overpotential (mV)\"], axis=1)\n",
    "print(np.unique(df['overpotential_grades'].values, return_counts=True))\n",
    "\n",
    "compound_encoding_labels, substrate_encoding_labels = encode_categorical_features(df)\n",
    "print(compound_encoding_labels, substrate_encoding_labels)\n",
    "\n",
    "training_features, continuous_features, categorical_features = get_number_of_features()\n",
    "\n",
    "model_name = \"random_forest\"\n",
    "find_and_handle_missing_values(model_name)\n",
    "\n",
    "categorical_features_count_plot(categorical_features)"
   ]
  },
  {
   "cell_type": "code",
   "execution_count": 19,
   "metadata": {
    "colab": {
     "base_uri": "https://localhost:8080/"
    },
    "id": "14ZFnr0f-7MG",
    "outputId": "afc265f0-4a9a-44aa-dce2-c12afc2f32d0"
   },
   "outputs": [
    {
     "name": "stdout",
     "output_type": "stream",
     "text": [
      "[0 0 0 0 0 0 3 0 0 0 0.0 192.0 0.0 0.0 0.0 0.0 0.0 0.0 0.0 0.0 0.0 0.0\n",
      " 2.4285714290000002 14.0 0.14]\n",
      "F\n",
      "<class 'numpy.ndarray'> <class 'numpy.ndarray'>\n",
      "number of train data:  244\n",
      "number of test data:  61\n"
     ]
    }
   ],
   "source": [
    "x_train, y_train, x_test, y_test = train_and_test_split()"
   ]
  },
  {
   "cell_type": "code",
   "execution_count": 20,
   "metadata": {
    "colab": {
     "base_uri": "https://localhost:8080/",
     "height": 164
    },
    "id": "8jq6CXwJ82rM",
    "outputId": "0cab48f9-08c7-4825-ebeb-e8b76e5ff165"
   },
   "outputs": [
    {
     "data": {
      "text/plain": [
       "RandomForestClassifier(class_weight='balanced', max_features='log2',\n",
       "                       random_state=0)"
      ]
     },
     "execution_count": 20,
     "metadata": {},
     "output_type": "execute_result"
    }
   ],
   "source": [
    "from sklearn.ensemble import RandomForestClassifier\n",
    "from sklearn.model_selection import GridSearchCV\n",
    "\n",
    "rf = RandomForestClassifier(random_state = 0, n_estimators=100, class_weight=\"balanced\", max_features = \"log2\")\n",
    "rf.fit(x_train, y_train)"
   ]
  },
  {
   "cell_type": "code",
   "execution_count": 21,
   "metadata": {
    "colab": {
     "base_uri": "https://localhost:8080/"
    },
    "id": "GSEmD0fk_ZBw",
    "outputId": "459df3da-014a-4af1-cb0f-6a91f4a055c1"
   },
   "outputs": [
    {
     "name": "stdout",
     "output_type": "stream",
     "text": [
      "accuracy_score:  0.7868852459016393\n",
      "classification_report: \n",
      "               precision    recall  f1-score   support\n",
      "\n",
      "           A       0.81      0.83      0.82        36\n",
      "           F       0.75      0.72      0.73        25\n",
      "\n",
      "    accuracy                           0.79        61\n",
      "   macro avg       0.78      0.78      0.78        61\n",
      "weighted avg       0.79      0.79      0.79        61\n",
      "\n"
     ]
    },
    {
     "data": {
      "text/plain": [
       "<matplotlib.axes._subplots.AxesSubplot at 0x182f5e134f0>"
      ]
     },
     "execution_count": 21,
     "metadata": {},
     "output_type": "execute_result"
    },
    {
     "data": {
      "image/png": "[encoded data removed]",
      "text/plain": [
       "<Figure size 432x288 with 2 Axes>"
      ]
     },
     "metadata": {
      "needs_background": "light"
     },
     "output_type": "display_data"
    }
   ],
   "source": [
    "accuracy, cf_matrix, class_report = get_metrics(rf, x_test, y_test)\n",
    "print(\"accuracy_score: \", accuracy)\n",
    "print(\"classification_report: \\n\", class_report)\n",
    "sns.heatmap(cf_matrix, annot = True, xticklabels = grades, yticklabels = grades, cmap = 'Blues')"
   ]
  },
  {
   "cell_type": "code",
   "execution_count": 22,
   "metadata": {},
   "outputs": [
    {
     "name": "stdout",
     "output_type": "stream",
     "text": [
      "[0.02746655 0.02766605 0.01453975 0.02377356 0.01436935 0.02665493\n",
      " 0.07305179 0.05334266 0.03434663 0.09110222 0.02899415 0.07243636\n",
      " 0.04105345 0.06270224 0.00497373 0.00732102 0.0072163  0.01527052\n",
      " 0.01973949 0.00566186 0.00117333 0.00125166 0.15005024 0.03115778\n",
      " 0.16468441] [20 21 14 19 16 15  4  2 17 18  3  5  0  1 10 23  8 12  7 13 11  6  9 22\n",
      " 24]\n"
     ]
    },
    {
     "data": {
      "image/png": "[encoded data removed]",
      "text/plain": [
       "<Figure size 1440x720 with 1 Axes>"
      ]
     },
     "metadata": {
      "needs_background": "light"
     },
     "output_type": "display_data"
    }
   ],
   "source": [
    "feature_importance, sorted_idx = get_feature_importance_from_trained_model(rf)\n",
    "plot_feature_importance(feature_importance, sorted_idx)\n",
    "print(feature_importance, sorted_idx)"
   ]
  },
  {
   "cell_type": "code",
   "execution_count": 23,
   "metadata": {},
   "outputs": [],
   "source": [
    "a,b = [], []\n",
    "for i in range(len(sorted_idx)-1, -1, -1):\n",
    "    a.append(training_features[sorted_idx[i]])\n",
    "    b.append(feature_importance[sorted_idx[i]])\n",
    "    \n",
    "df_feature_importance = pd.DataFrame({'Features':a, 'Values': b})\n",
    "df_feature_importance.to_csv(\"feature_importance.csv\")"
   ]
  },
  {
   "cell_type": "code",
   "execution_count": 24,
   "metadata": {},
   "outputs": [
    {
     "data": {
      "image/png": "[encoded data removed]",
      "text/plain": [
       "<Figure size 576x684 with 1 Axes>"
      ]
     },
     "metadata": {
      "needs_background": "light"
     },
     "output_type": "display_data"
    }
   ],
   "source": [
    "import shap\n",
    "\n",
    "explainer = shap.TreeExplainer(rf)\n",
    "shap_values = explainer.shap_values(x_test)\n",
    "shap.summary_plot(shap_values, x_test, feature_names = training_features)"
   ]
  },
  {
   "cell_type": "code",
   "execution_count": 25,
   "metadata": {},
   "outputs": [],
   "source": [
    "rf_resultX = pd.DataFrame(shap_values[0], columns = training_features)\n",
    "\n",
    "vals = np.abs(rf_resultX.values).mean(0)\n",
    "\n",
    "df_shap = pd.DataFrame(list(zip(training_features, vals)),\n",
    "                                  columns=['col_name','feature_importance_vals'])\n",
    "df_shap.sort_values(by=['feature_importance_vals'],\n",
    "                               ascending=False, inplace=True)\n",
    "df_shap.to_csv(\"shap_values.csv\")"
   ]
  },
  {
   "attachments": {},
   "cell_type": "markdown",
   "metadata": {
    "id": "r6WkH8VMWP0j"
   },
   "source": [
    "## SVM"
   ]
  },
  {
   "cell_type": "code",
   "execution_count": 26,
   "metadata": {
    "colab": {
     "base_uri": "https://localhost:8080/"
    },
    "id": "XGqeltmsWO6_",
    "outputId": "828d5be2-65a4-4df7-f0da-d26a0cc95692"
   },
   "outputs": [
    {
     "data": {
      "text/plain": [
       "SVC(random_state=0)"
      ]
     },
     "execution_count": 26,
     "metadata": {},
     "output_type": "execute_result"
    }
   ],
   "source": [
    "from sklearn import svm\n",
    "\n",
    "clf = svm.SVC(random_state=0)\n",
    "clf.fit(x_train, y_train)"
   ]
  },
  {
   "cell_type": "code",
   "execution_count": 27,
   "metadata": {
    "colab": {
     "base_uri": "https://localhost:8080/",
     "height": 638
    },
    "id": "gQpDiZH3Ymrk",
    "outputId": "d40f7975-0a34-4ca2-9338-108453566074"
   },
   "outputs": [
    {
     "name": "stdout",
     "output_type": "stream",
     "text": [
      "accuracy_score:  0.5901639344262295\n",
      "classification_report: \n",
      "               precision    recall  f1-score   support\n",
      "\n",
      "           A       0.59      0.97      0.74        36\n",
      "           F       0.50      0.04      0.07        25\n",
      "\n",
      "    accuracy                           0.59        61\n",
      "   macro avg       0.55      0.51      0.41        61\n",
      "weighted avg       0.56      0.59      0.47        61\n",
      "\n"
     ]
    }
   ],
   "source": [
    "y_pred = clf.predict(x_test)\n",
    "cf_matrix = confusion_matrix(y_test, y_pred, labels = grades)\n",
    "accuracy = accuracy_score(y_test, y_pred )\n",
    "class_report = classification_report(y_test, y_pred)\n",
    "\n",
    "print(\"accuracy_score: \", accuracy)\n",
    "print(\"classification_report: \\n\", class_report)"
   ]
  },
  {
   "attachments": {},
   "cell_type": "markdown",
   "metadata": {
    "id": "IP9uQoDZX4Ql"
   },
   "source": [
    "## Naive Bayes"
   ]
  },
  {
   "cell_type": "code",
   "execution_count": 28,
   "metadata": {
    "colab": {
     "base_uri": "https://localhost:8080/"
    },
    "id": "e9q1S_-pX3So",
    "outputId": "734333b2-b1fb-4f5f-9740-85874b5ab32a"
   },
   "outputs": [
    {
     "data": {
      "text/plain": [
       "GaussianNB()"
      ]
     },
     "execution_count": 28,
     "metadata": {},
     "output_type": "execute_result"
    }
   ],
   "source": [
    "from sklearn.naive_bayes import GaussianNB\n",
    "\n",
    "gnb = GaussianNB()\n",
    "gnb.fit(x_train, y_train)"
   ]
  },
  {
   "cell_type": "code",
   "execution_count": 29,
   "metadata": {
    "colab": {
     "base_uri": "https://localhost:8080/",
     "height": 473
    },
    "id": "OJvpsBX7YKqs",
    "outputId": "974e455c-cb99-4b8c-bdc5-a239867b193d"
   },
   "outputs": [
    {
     "name": "stdout",
     "output_type": "stream",
     "text": [
      "accuracy_score:  0.7213114754098361\n",
      "classification_report: \n",
      "               precision    recall  f1-score   support\n",
      "\n",
      "           A       0.72      0.86      0.78        36\n",
      "           F       0.72      0.52      0.60        25\n",
      "\n",
      "    accuracy                           0.72        61\n",
      "   macro avg       0.72      0.69      0.69        61\n",
      "weighted avg       0.72      0.72      0.71        61\n",
      "\n"
     ]
    }
   ],
   "source": [
    "y_pred = gnb.predict(x_test)\n",
    "cf_matrix = confusion_matrix(y_test, y_pred, labels = grades)\n",
    "accuracy = accuracy_score(y_test, y_pred )\n",
    "class_report = classification_report(y_test, y_pred)\n",
    "\n",
    "print(\"accuracy_score: \", accuracy)\n",
    "print(\"classification_report: \\n\", class_report)"
   ]
  },
  {
   "attachments": {},
   "cell_type": "markdown",
   "metadata": {
    "id": "Q6FrlZ53p2k8"
   },
   "source": [
    "## MLP"
   ]
  },
  {
   "cell_type": "code",
   "execution_count": 30,
   "metadata": {
    "colab": {
     "base_uri": "https://localhost:8080/"
    },
    "id": "6rpStwihY3p8",
    "outputId": "a5e5040a-e00c-466f-c940-22aef87de069"
   },
   "outputs": [
    {
     "name": "stderr",
     "output_type": "stream",
     "text": [
      "Stochastic Optimizer: Maximum iterations (200) reached and the optimization hasn't converged yet.\n"
     ]
    },
    {
     "data": {
      "text/plain": [
       "MLPClassifier(random_state=0)"
      ]
     },
     "execution_count": 30,
     "metadata": {},
     "output_type": "execute_result"
    }
   ],
   "source": [
    "from sklearn.neural_network import MLPClassifier\n",
    "\n",
    "mlp = MLPClassifier(random_state=0)\n",
    "mlp.fit(x_train, y_train)"
   ]
  },
  {
   "cell_type": "code",
   "execution_count": 31,
   "metadata": {
    "colab": {
     "base_uri": "https://localhost:8080/"
    },
    "id": "h3KYoSJ5p7NE",
    "outputId": "c5ab0ec5-a8a5-4b51-c2df-66762397b0fa"
   },
   "outputs": [
    {
     "name": "stdout",
     "output_type": "stream",
     "text": [
      "accuracy_score:  0.7049180327868853\n",
      "classification_report: \n",
      "               precision    recall  f1-score   support\n",
      "\n",
      "           A       0.71      0.83      0.77        36\n",
      "           F       0.68      0.52      0.59        25\n",
      "\n",
      "    accuracy                           0.70        61\n",
      "   macro avg       0.70      0.68      0.68        61\n",
      "weighted avg       0.70      0.70      0.70        61\n",
      "\n"
     ]
    }
   ],
   "source": [
    "y_pred = mlp.predict(x_test)\n",
    "cf_matrix = confusion_matrix(y_test, y_pred, labels = grades)\n",
    "accuracy = accuracy_score(y_test, y_pred )\n",
    "class_report = classification_report(y_test, y_pred)\n",
    "\n",
    "print(\"accuracy_score: \", accuracy)\n",
    "print(\"classification_report: \\n\", class_report)"
   ]
  },
  {
   "attachments": {},
   "cell_type": "markdown",
   "metadata": {},
   "source": [
    "## CatBoost"
   ]
  },
  {
   "cell_type": "code",
   "execution_count": 32,
   "metadata": {
    "id": "PjsM-H6jMG-7"
   },
   "outputs": [],
   "source": [
    "from catboost import CatBoostClassifier, Pool"
   ]
  },
  {
   "cell_type": "code",
   "execution_count": 33,
   "metadata": {
    "id": "afZukLj797eZ"
   },
   "outputs": [],
   "source": [
    "def create_train_pool():\n",
    "    cat_cols = [0,1,2,3,4,5,6,7,8,9]  \n",
    "\n",
    "    train_pool = Pool(\n",
    "            x_train,\n",
    "            y_train,\n",
    "            cat_features=cat_cols\n",
    "    )\n",
    "    return train_pool"
   ]
  },
  {
   "cell_type": "code",
   "execution_count": 34,
   "metadata": {
    "id": "5ZdicRZ10xJ5"
   },
   "outputs": [],
   "source": [
    "def define_model_parameters():\n",
    "\n",
    "    model = CatBoostClassifier(\n",
    "    iterations=500,\n",
    "    depth=5,\n",
    "    random_seed= 0,\n",
    "    )\n",
    "\n",
    "    eval_set = [(x_train, y_train), (x_test, y_test)]\n",
    "    return eval_set, model"
   ]
  },
  {
   "cell_type": "code",
   "execution_count": 35,
   "metadata": {
    "colab": {
     "base_uri": "https://localhost:8080/"
    },
    "id": "N_Hb_-6J2zUm",
    "outputId": "8fcc77cb-4e36-4370-ea09-e4aed4af0ba2"
   },
   "outputs": [
    {
     "name": "stdout",
     "output_type": "stream",
     "text": [
      "Learning rate set to 0.030237\n",
      "0:\tlearn: 0.6818947\ttest: 0.6820835\ttest1: 0.6828794\tbest: 0.6828794 (0)\ttotal: 184ms\tremaining: 1m 31s\n",
      "1:\tlearn: 0.6745092\ttest: 0.6746109\ttest1: 0.6753278\tbest: 0.6753278 (1)\ttotal: 220ms\tremaining: 54.9s\n",
      "2:\tlearn: 0.6678141\ttest: 0.6677132\ttest1: 0.6718132\tbest: 0.6718132 (2)\ttotal: 270ms\tremaining: 44.7s\n",
      "3:\tlearn: 0.6586368\ttest: 0.6582642\ttest1: 0.6660009\tbest: 0.6660009 (3)\ttotal: 305ms\tremaining: 37.8s\n",
      "4:\tlearn: 0.6504542\ttest: 0.6496998\ttest1: 0.6635828\tbest: 0.6635828 (4)\ttotal: 341ms\tremaining: 33.7s\n",
      "5:\tlearn: 0.6431973\ttest: 0.6418075\ttest1: 0.6550382\tbest: 0.6550382 (5)\ttotal: 372ms\tremaining: 30.6s\n",
      "6:\tlearn: 0.6374739\ttest: 0.6368630\ttest1: 0.6502712\tbest: 0.6502712 (6)\ttotal: 400ms\tremaining: 28.1s\n",
      "7:\tlearn: 0.6311660\ttest: 0.6306580\ttest1: 0.6471665\tbest: 0.6471665 (7)\ttotal: 424ms\tremaining: 26.1s\n",
      "8:\tlearn: 0.6255979\ttest: 0.6248058\ttest1: 0.6437326\tbest: 0.6437326 (8)\ttotal: 444ms\tremaining: 24.2s\n",
      "9:\tlearn: 0.6204357\ttest: 0.6192100\ttest1: 0.6390490\tbest: 0.6390490 (9)\ttotal: 486ms\tremaining: 23.8s\n",
      "10:\tlearn: 0.6130431\ttest: 0.6118905\ttest1: 0.6323253\tbest: 0.6323253 (10)\ttotal: 526ms\tremaining: 23.4s\n",
      "11:\tlearn: 0.6077411\ttest: 0.6066712\ttest1: 0.6292700\tbest: 0.6292700 (11)\ttotal: 563ms\tremaining: 22.9s\n",
      "12:\tlearn: 0.6021342\ttest: 0.6025660\ttest1: 0.6257558\tbest: 0.6257558 (12)\ttotal: 602ms\tremaining: 22.6s\n",
      "13:\tlearn: 0.6001829\ttest: 0.6006968\ttest1: 0.6229282\tbest: 0.6229282 (13)\ttotal: 620ms\tremaining: 21.5s\n",
      "14:\tlearn: 0.5952092\ttest: 0.5963718\ttest1: 0.6209380\tbest: 0.6209380 (14)\ttotal: 659ms\tremaining: 21.3s\n",
      "15:\tlearn: 0.5912749\ttest: 0.5928997\ttest1: 0.6182352\tbest: 0.6182352 (15)\ttotal: 697ms\tremaining: 21.1s\n",
      "16:\tlearn: 0.5889328\ttest: 0.5914933\ttest1: 0.6163470\tbest: 0.6163470 (16)\ttotal: 736ms\tremaining: 20.9s\n",
      "17:\tlearn: 0.5857401\ttest: 0.5882389\ttest1: 0.6157417\tbest: 0.6157417 (17)\ttotal: 764ms\tremaining: 20.5s\n",
      "18:\tlearn: 0.5795803\ttest: 0.5823858\ttest1: 0.6105611\tbest: 0.6105611 (18)\ttotal: 805ms\tremaining: 20.4s\n",
      "19:\tlearn: 0.5755470\ttest: 0.5787675\ttest1: 0.6071403\tbest: 0.6071403 (19)\ttotal: 844ms\tremaining: 20.3s\n",
      "20:\tlearn: 0.5706729\ttest: 0.5744742\ttest1: 0.6045665\tbest: 0.6045665 (20)\ttotal: 888ms\tremaining: 20.3s\n",
      "21:\tlearn: 0.5644309\ttest: 0.5710678\ttest1: 0.6041085\tbest: 0.6041085 (21)\ttotal: 920ms\tremaining: 20s\n",
      "22:\tlearn: 0.5606591\ttest: 0.5677004\ttest1: 0.6031849\tbest: 0.6031849 (22)\ttotal: 949ms\tremaining: 19.7s\n",
      "23:\tlearn: 0.5574946\ttest: 0.5651687\ttest1: 0.6003810\tbest: 0.6003810 (23)\ttotal: 983ms\tremaining: 19.5s\n",
      "24:\tlearn: 0.5547234\ttest: 0.5626831\ttest1: 0.5986278\tbest: 0.5986278 (24)\ttotal: 1.03s\tremaining: 19.5s\n",
      "25:\tlearn: 0.5504539\ttest: 0.5589324\ttest1: 0.5942417\tbest: 0.5942417 (25)\ttotal: 1.07s\tremaining: 19.5s\n",
      "26:\tlearn: 0.5465412\ttest: 0.5551252\ttest1: 0.5915254\tbest: 0.5915254 (26)\ttotal: 1.11s\tremaining: 19.5s\n",
      "27:\tlearn: 0.5419673\ttest: 0.5532201\ttest1: 0.5888049\tbest: 0.5888049 (27)\ttotal: 1.15s\tremaining: 19.4s\n",
      "28:\tlearn: 0.5381684\ttest: 0.5508511\ttest1: 0.5861178\tbest: 0.5861178 (28)\ttotal: 1.19s\tremaining: 19.4s\n",
      "29:\tlearn: 0.5333863\ttest: 0.5460738\ttest1: 0.5839329\tbest: 0.5839329 (29)\ttotal: 1.23s\tremaining: 19.3s\n",
      "30:\tlearn: 0.5299794\ttest: 0.5423440\ttest1: 0.5834186\tbest: 0.5834186 (30)\ttotal: 1.29s\tremaining: 19.6s\n",
      "31:\tlearn: 0.5264365\ttest: 0.5388772\ttest1: 0.5804554\tbest: 0.5804554 (31)\ttotal: 1.33s\tremaining: 19.4s\n",
      "32:\tlearn: 0.5224346\ttest: 0.5360046\ttest1: 0.5785831\tbest: 0.5785831 (32)\ttotal: 1.37s\tremaining: 19.4s\n",
      "33:\tlearn: 0.5185930\ttest: 0.5329871\ttest1: 0.5748645\tbest: 0.5748645 (33)\ttotal: 1.42s\tremaining: 19.4s\n",
      "34:\tlearn: 0.5136891\ttest: 0.5281072\ttest1: 0.5690120\tbest: 0.5690120 (34)\ttotal: 1.46s\tremaining: 19.3s\n",
      "35:\tlearn: 0.5111012\ttest: 0.5258651\ttest1: 0.5671269\tbest: 0.5671269 (35)\ttotal: 1.5s\tremaining: 19.3s\n",
      "36:\tlearn: 0.5074801\ttest: 0.5226151\ttest1: 0.5642432\tbest: 0.5642432 (36)\ttotal: 1.55s\tremaining: 19.4s\n",
      "37:\tlearn: 0.5035883\ttest: 0.5200772\ttest1: 0.5603038\tbest: 0.5603038 (37)\ttotal: 1.59s\tremaining: 19.3s\n",
      "38:\tlearn: 0.5017370\ttest: 0.5188554\ttest1: 0.5590519\tbest: 0.5590519 (38)\ttotal: 1.63s\tremaining: 19.3s\n",
      "39:\tlearn: 0.4992368\ttest: 0.5169762\ttest1: 0.5576846\tbest: 0.5576846 (39)\ttotal: 1.68s\tremaining: 19.3s\n",
      "40:\tlearn: 0.4987487\ttest: 0.5165718\ttest1: 0.5564785\tbest: 0.5564785 (40)\ttotal: 1.7s\tremaining: 19s\n",
      "41:\tlearn: 0.4962304\ttest: 0.5145513\ttest1: 0.5570749\tbest: 0.5564785 (40)\ttotal: 1.74s\tremaining: 19s\n",
      "42:\tlearn: 0.4940298\ttest: 0.5123178\ttest1: 0.5558247\tbest: 0.5558247 (42)\ttotal: 1.78s\tremaining: 18.9s\n",
      "43:\tlearn: 0.4921813\ttest: 0.5112115\ttest1: 0.5539852\tbest: 0.5539852 (43)\ttotal: 1.81s\tremaining: 18.8s\n",
      "44:\tlearn: 0.4907700\ttest: 0.5105045\ttest1: 0.5528185\tbest: 0.5528185 (44)\ttotal: 1.85s\tremaining: 18.7s\n",
      "45:\tlearn: 0.4855481\ttest: 0.5086230\ttest1: 0.5487344\tbest: 0.5487344 (45)\ttotal: 1.88s\tremaining: 18.6s\n",
      "46:\tlearn: 0.4843426\ttest: 0.5080292\ttest1: 0.5481779\tbest: 0.5481779 (46)\ttotal: 1.92s\tremaining: 18.5s\n",
      "47:\tlearn: 0.4831486\ttest: 0.5071438\ttest1: 0.5467040\tbest: 0.5467040 (47)\ttotal: 1.96s\tremaining: 18.4s\n",
      "48:\tlearn: 0.4812595\ttest: 0.5056999\ttest1: 0.5468972\tbest: 0.5467040 (47)\ttotal: 2s\tremaining: 18.4s\n",
      "49:\tlearn: 0.4790881\ttest: 0.5040167\ttest1: 0.5460017\tbest: 0.5460017 (49)\ttotal: 2.04s\tremaining: 18.3s\n",
      "50:\tlearn: 0.4774722\ttest: 0.5025823\ttest1: 0.5431555\tbest: 0.5431555 (50)\ttotal: 2.08s\tremaining: 18.3s\n",
      "51:\tlearn: 0.4746306\ttest: 0.4997687\ttest1: 0.5416494\tbest: 0.5416494 (51)\ttotal: 2.11s\tremaining: 18.2s\n",
      "52:\tlearn: 0.4735328\ttest: 0.4987365\ttest1: 0.5414928\tbest: 0.5414928 (52)\ttotal: 2.15s\tremaining: 18.1s\n",
      "53:\tlearn: 0.4703384\ttest: 0.4955744\ttest1: 0.5404883\tbest: 0.5404883 (53)\ttotal: 2.18s\tremaining: 18s\n",
      "54:\tlearn: 0.4698048\ttest: 0.4951126\ttest1: 0.5402171\tbest: 0.5402171 (54)\ttotal: 2.21s\tremaining: 17.9s\n",
      "55:\tlearn: 0.4675573\ttest: 0.4933361\ttest1: 0.5377069\tbest: 0.5377069 (55)\ttotal: 2.25s\tremaining: 17.9s\n",
      "56:\tlearn: 0.4672923\ttest: 0.4931217\ttest1: 0.5372710\tbest: 0.5372710 (56)\ttotal: 2.27s\tremaining: 17.7s\n",
      "57:\tlearn: 0.4663851\ttest: 0.4930530\ttest1: 0.5372744\tbest: 0.5372710 (56)\ttotal: 2.31s\tremaining: 17.6s\n",
      "58:\tlearn: 0.4630843\ttest: 0.4898954\ttest1: 0.5362062\tbest: 0.5362062 (58)\ttotal: 2.34s\tremaining: 17.5s\n",
      "59:\tlearn: 0.4595642\ttest: 0.4865369\ttest1: 0.5354415\tbest: 0.5354415 (59)\ttotal: 2.38s\tremaining: 17.4s\n",
      "60:\tlearn: 0.4585387\ttest: 0.4860069\ttest1: 0.5342935\tbest: 0.5342935 (60)\ttotal: 2.43s\tremaining: 17.5s\n",
      "61:\tlearn: 0.4578090\ttest: 0.4859891\ttest1: 0.5340945\tbest: 0.5340945 (61)\ttotal: 2.47s\tremaining: 17.5s\n",
      "62:\tlearn: 0.4543846\ttest: 0.4831268\ttest1: 0.5329252\tbest: 0.5329252 (62)\ttotal: 2.52s\tremaining: 17.5s\n",
      "63:\tlearn: 0.4523456\ttest: 0.4820636\ttest1: 0.5311055\tbest: 0.5311055 (63)\ttotal: 2.58s\tremaining: 17.5s\n",
      "64:\tlearn: 0.4513860\ttest: 0.4810245\ttest1: 0.5313684\tbest: 0.5311055 (63)\ttotal: 2.61s\tremaining: 17.4s\n",
      "65:\tlearn: 0.4500707\ttest: 0.4802817\ttest1: 0.5303093\tbest: 0.5303093 (65)\ttotal: 2.64s\tremaining: 17.4s\n",
      "66:\tlearn: 0.4495066\ttest: 0.4801905\ttest1: 0.5307316\tbest: 0.5303093 (65)\ttotal: 2.67s\tremaining: 17.3s\n",
      "67:\tlearn: 0.4482696\ttest: 0.4790156\ttest1: 0.5297554\tbest: 0.5297554 (67)\ttotal: 2.7s\tremaining: 17.1s\n",
      "68:\tlearn: 0.4473181\ttest: 0.4787454\ttest1: 0.5292399\tbest: 0.5292399 (68)\ttotal: 2.72s\tremaining: 17s\n",
      "69:\tlearn: 0.4453862\ttest: 0.4774138\ttest1: 0.5287779\tbest: 0.5287779 (69)\ttotal: 2.75s\tremaining: 16.9s\n",
      "70:\tlearn: 0.4443036\ttest: 0.4769297\ttest1: 0.5293304\tbest: 0.5287779 (69)\ttotal: 2.77s\tremaining: 16.8s\n",
      "71:\tlearn: 0.4422535\ttest: 0.4747313\ttest1: 0.5295355\tbest: 0.5287779 (69)\ttotal: 2.8s\tremaining: 16.7s\n",
      "72:\tlearn: 0.4389025\ttest: 0.4722959\ttest1: 0.5283913\tbest: 0.5283913 (72)\ttotal: 2.84s\tremaining: 16.6s\n",
      "73:\tlearn: 0.4370219\ttest: 0.4702838\ttest1: 0.5284966\tbest: 0.5283913 (72)\ttotal: 2.88s\tremaining: 16.6s\n",
      "74:\tlearn: 0.4356142\ttest: 0.4694911\ttest1: 0.5291071\tbest: 0.5283913 (72)\ttotal: 2.92s\tremaining: 16.5s\n",
      "75:\tlearn: 0.4341354\ttest: 0.4686802\ttest1: 0.5291860\tbest: 0.5283913 (72)\ttotal: 2.95s\tremaining: 16.5s\n",
      "76:\tlearn: 0.4318727\ttest: 0.4663490\ttest1: 0.5274373\tbest: 0.5274373 (76)\ttotal: 2.99s\tremaining: 16.4s\n",
      "77:\tlearn: 0.4303519\ttest: 0.4652641\ttest1: 0.5275527\tbest: 0.5274373 (76)\ttotal: 3.03s\tremaining: 16.4s\n",
      "78:\tlearn: 0.4282380\ttest: 0.4636649\ttest1: 0.5278039\tbest: 0.5274373 (76)\ttotal: 3.06s\tremaining: 16.3s\n",
      "79:\tlearn: 0.4267533\ttest: 0.4630012\ttest1: 0.5262229\tbest: 0.5262229 (79)\ttotal: 3.09s\tremaining: 16.2s\n",
      "80:\tlearn: 0.4241690\ttest: 0.4605347\ttest1: 0.5239938\tbest: 0.5239938 (80)\ttotal: 3.13s\tremaining: 16.2s\n",
      "81:\tlearn: 0.4230193\ttest: 0.4597897\ttest1: 0.5239317\tbest: 0.5239317 (81)\ttotal: 3.16s\tremaining: 16.1s\n"
     ]
    },
    {
     "name": "stdout",
     "output_type": "stream",
     "text": [
      "82:\tlearn: 0.4220375\ttest: 0.4587376\ttest1: 0.5244239\tbest: 0.5239317 (81)\ttotal: 3.19s\tremaining: 16s\n",
      "83:\tlearn: 0.4203164\ttest: 0.4586534\ttest1: 0.5256078\tbest: 0.5239317 (81)\ttotal: 3.22s\tremaining: 15.9s\n",
      "84:\tlearn: 0.4182493\ttest: 0.4577880\ttest1: 0.5255087\tbest: 0.5239317 (81)\ttotal: 3.25s\tremaining: 15.8s\n",
      "85:\tlearn: 0.4164333\ttest: 0.4562532\ttest1: 0.5243210\tbest: 0.5239317 (81)\ttotal: 3.28s\tremaining: 15.8s\n",
      "86:\tlearn: 0.4149802\ttest: 0.4551411\ttest1: 0.5241652\tbest: 0.5239317 (81)\ttotal: 3.33s\tremaining: 15.8s\n",
      "87:\tlearn: 0.4142295\ttest: 0.4549400\ttest1: 0.5237465\tbest: 0.5237465 (87)\ttotal: 3.37s\tremaining: 15.8s\n",
      "88:\tlearn: 0.4142079\ttest: 0.4549568\ttest1: 0.5237533\tbest: 0.5237465 (87)\ttotal: 3.38s\tremaining: 15.6s\n",
      "89:\tlearn: 0.4127062\ttest: 0.4535324\ttest1: 0.5249121\tbest: 0.5237465 (87)\ttotal: 3.42s\tremaining: 15.6s\n",
      "90:\tlearn: 0.4111967\ttest: 0.4521748\ttest1: 0.5247012\tbest: 0.5237465 (87)\ttotal: 3.47s\tremaining: 15.6s\n",
      "91:\tlearn: 0.4099324\ttest: 0.4507766\ttest1: 0.5236002\tbest: 0.5236002 (91)\ttotal: 3.51s\tremaining: 15.6s\n",
      "92:\tlearn: 0.4081794\ttest: 0.4501318\ttest1: 0.5234096\tbest: 0.5234096 (92)\ttotal: 3.56s\tremaining: 15.6s\n",
      "93:\tlearn: 0.4062338\ttest: 0.4481541\ttest1: 0.5226458\tbest: 0.5226458 (93)\ttotal: 3.59s\tremaining: 15.5s\n",
      "94:\tlearn: 0.4046477\ttest: 0.4467085\ttest1: 0.5200483\tbest: 0.5200483 (94)\ttotal: 3.64s\tremaining: 15.5s\n",
      "95:\tlearn: 0.4032479\ttest: 0.4453428\ttest1: 0.5200160\tbest: 0.5200160 (95)\ttotal: 3.68s\tremaining: 15.5s\n",
      "96:\tlearn: 0.4028830\ttest: 0.4449817\ttest1: 0.5196407\tbest: 0.5196407 (96)\ttotal: 3.72s\tremaining: 15.4s\n",
      "97:\tlearn: 0.4012075\ttest: 0.4440123\ttest1: 0.5191693\tbest: 0.5191693 (97)\ttotal: 3.76s\tremaining: 15.4s\n",
      "98:\tlearn: 0.3994767\ttest: 0.4429008\ttest1: 0.5185569\tbest: 0.5185569 (98)\ttotal: 3.81s\tremaining: 15.4s\n",
      "99:\tlearn: 0.3991775\ttest: 0.4426600\ttest1: 0.5178597\tbest: 0.5178597 (99)\ttotal: 3.83s\tremaining: 15.3s\n",
      "100:\tlearn: 0.3979160\ttest: 0.4421192\ttest1: 0.5169862\tbest: 0.5169862 (100)\ttotal: 3.87s\tremaining: 15.3s\n",
      "101:\tlearn: 0.3960061\ttest: 0.4404543\ttest1: 0.5169574\tbest: 0.5169574 (101)\ttotal: 3.91s\tremaining: 15.3s\n",
      "102:\tlearn: 0.3946895\ttest: 0.4393383\ttest1: 0.5170368\tbest: 0.5169574 (101)\ttotal: 3.95s\tremaining: 15.2s\n",
      "103:\tlearn: 0.3941388\ttest: 0.4389975\ttest1: 0.5166635\tbest: 0.5166635 (103)\ttotal: 3.99s\tremaining: 15.2s\n",
      "104:\tlearn: 0.3908380\ttest: 0.4357158\ttest1: 0.5138063\tbest: 0.5138063 (104)\ttotal: 4.03s\tremaining: 15.2s\n",
      "105:\tlearn: 0.3897164\ttest: 0.4351730\ttest1: 0.5139038\tbest: 0.5138063 (104)\ttotal: 4.08s\tremaining: 15.1s\n",
      "106:\tlearn: 0.3882506\ttest: 0.4349876\ttest1: 0.5139667\tbest: 0.5138063 (104)\ttotal: 4.12s\tremaining: 15.1s\n",
      "107:\tlearn: 0.3870447\ttest: 0.4335824\ttest1: 0.5140404\tbest: 0.5138063 (104)\ttotal: 4.16s\tremaining: 15.1s\n",
      "108:\tlearn: 0.3868219\ttest: 0.4334841\ttest1: 0.5147047\tbest: 0.5138063 (104)\ttotal: 4.19s\tremaining: 15s\n",
      "109:\tlearn: 0.3850283\ttest: 0.4326724\ttest1: 0.5142977\tbest: 0.5138063 (104)\ttotal: 4.24s\tremaining: 15s\n",
      "110:\tlearn: 0.3841220\ttest: 0.4331043\ttest1: 0.5146270\tbest: 0.5138063 (104)\ttotal: 4.26s\tremaining: 14.9s\n",
      "111:\tlearn: 0.3831055\ttest: 0.4321015\ttest1: 0.5134975\tbest: 0.5134975 (111)\ttotal: 4.3s\tremaining: 14.9s\n",
      "112:\tlearn: 0.3818089\ttest: 0.4310652\ttest1: 0.5137106\tbest: 0.5134975 (111)\ttotal: 4.34s\tremaining: 14.9s\n",
      "113:\tlearn: 0.3809111\ttest: 0.4303391\ttest1: 0.5135400\tbest: 0.5134975 (111)\ttotal: 4.38s\tremaining: 14.8s\n",
      "114:\tlearn: 0.3783461\ttest: 0.4276409\ttest1: 0.5142787\tbest: 0.5134975 (111)\ttotal: 4.42s\tremaining: 14.8s\n",
      "115:\tlearn: 0.3773592\ttest: 0.4270036\ttest1: 0.5146583\tbest: 0.5134975 (111)\ttotal: 4.45s\tremaining: 14.7s\n",
      "116:\tlearn: 0.3766695\ttest: 0.4264162\ttest1: 0.5141911\tbest: 0.5134975 (111)\ttotal: 4.48s\tremaining: 14.7s\n",
      "117:\tlearn: 0.3758107\ttest: 0.4254916\ttest1: 0.5130177\tbest: 0.5130177 (117)\ttotal: 4.52s\tremaining: 14.6s\n",
      "118:\tlearn: 0.3752034\ttest: 0.4248692\ttest1: 0.5120479\tbest: 0.5120479 (118)\ttotal: 4.56s\tremaining: 14.6s\n",
      "119:\tlearn: 0.3737366\ttest: 0.4243291\ttest1: 0.5112364\tbest: 0.5112364 (119)\ttotal: 4.6s\tremaining: 14.6s\n",
      "120:\tlearn: 0.3729805\ttest: 0.4238234\ttest1: 0.5105602\tbest: 0.5105602 (120)\ttotal: 4.63s\tremaining: 14.5s\n",
      "121:\tlearn: 0.3721832\ttest: 0.4235088\ttest1: 0.5110122\tbest: 0.5105602 (120)\ttotal: 4.67s\tremaining: 14.5s\n",
      "122:\tlearn: 0.3715017\ttest: 0.4235570\ttest1: 0.5114233\tbest: 0.5105602 (120)\ttotal: 4.71s\tremaining: 14.4s\n",
      "123:\tlearn: 0.3711965\ttest: 0.4234702\ttest1: 0.5113277\tbest: 0.5105602 (120)\ttotal: 4.74s\tremaining: 14.4s\n",
      "124:\tlearn: 0.3689998\ttest: 0.4225978\ttest1: 0.5125016\tbest: 0.5105602 (120)\ttotal: 4.79s\tremaining: 14.4s\n",
      "125:\tlearn: 0.3683963\ttest: 0.4221552\ttest1: 0.5115793\tbest: 0.5105602 (120)\ttotal: 4.84s\tremaining: 14.4s\n",
      "126:\tlearn: 0.3681509\ttest: 0.4219795\ttest1: 0.5118754\tbest: 0.5105602 (120)\ttotal: 4.88s\tremaining: 14.3s\n",
      "127:\tlearn: 0.3679207\ttest: 0.4217379\ttest1: 0.5123268\tbest: 0.5105602 (120)\ttotal: 4.9s\tremaining: 14.2s\n",
      "128:\tlearn: 0.3657006\ttest: 0.4199814\ttest1: 0.5100567\tbest: 0.5100567 (128)\ttotal: 4.93s\tremaining: 14.2s\n",
      "129:\tlearn: 0.3634241\ttest: 0.4174078\ttest1: 0.5101760\tbest: 0.5100567 (128)\ttotal: 4.97s\tremaining: 14.1s\n",
      "130:\tlearn: 0.3622208\ttest: 0.4159937\ttest1: 0.5092241\tbest: 0.5092241 (130)\ttotal: 5.01s\tremaining: 14.1s\n",
      "131:\tlearn: 0.3610462\ttest: 0.4157982\ttest1: 0.5099600\tbest: 0.5092241 (130)\ttotal: 5.05s\tremaining: 14.1s\n",
      "132:\tlearn: 0.3603674\ttest: 0.4150790\ttest1: 0.5104010\tbest: 0.5092241 (130)\ttotal: 5.09s\tremaining: 14s\n",
      "133:\tlearn: 0.3586495\ttest: 0.4141665\ttest1: 0.5114949\tbest: 0.5092241 (130)\ttotal: 5.12s\tremaining: 14s\n",
      "134:\tlearn: 0.3579388\ttest: 0.4140030\ttest1: 0.5109071\tbest: 0.5092241 (130)\ttotal: 5.15s\tremaining: 13.9s\n",
      "135:\tlearn: 0.3574661\ttest: 0.4139996\ttest1: 0.5108668\tbest: 0.5092241 (130)\ttotal: 5.18s\tremaining: 13.9s\n",
      "136:\tlearn: 0.3563086\ttest: 0.4130742\ttest1: 0.5094670\tbest: 0.5092241 (130)\ttotal: 5.22s\tremaining: 13.8s\n",
      "137:\tlearn: 0.3555473\ttest: 0.4123585\ttest1: 0.5093387\tbest: 0.5092241 (130)\ttotal: 5.25s\tremaining: 13.8s\n",
      "138:\tlearn: 0.3539194\ttest: 0.4113615\ttest1: 0.5087528\tbest: 0.5087528 (138)\ttotal: 5.3s\tremaining: 13.8s\n",
      "139:\tlearn: 0.3528536\ttest: 0.4111235\ttest1: 0.5083188\tbest: 0.5083188 (139)\ttotal: 5.33s\tremaining: 13.7s\n",
      "140:\tlearn: 0.3526058\ttest: 0.4108541\ttest1: 0.5089615\tbest: 0.5083188 (139)\ttotal: 5.36s\tremaining: 13.6s\n",
      "141:\tlearn: 0.3519119\ttest: 0.4104954\ttest1: 0.5080997\tbest: 0.5080997 (141)\ttotal: 5.39s\tremaining: 13.6s\n",
      "142:\tlearn: 0.3509300\ttest: 0.4108490\ttest1: 0.5083891\tbest: 0.5080997 (141)\ttotal: 5.44s\tremaining: 13.6s\n",
      "143:\tlearn: 0.3490306\ttest: 0.4090483\ttest1: 0.5096650\tbest: 0.5080997 (141)\ttotal: 5.48s\tremaining: 13.5s\n",
      "144:\tlearn: 0.3481550\ttest: 0.4086163\ttest1: 0.5098580\tbest: 0.5080997 (141)\ttotal: 5.52s\tremaining: 13.5s\n",
      "145:\tlearn: 0.3476745\ttest: 0.4083388\ttest1: 0.5088153\tbest: 0.5080997 (141)\ttotal: 5.55s\tremaining: 13.5s\n",
      "146:\tlearn: 0.3469350\ttest: 0.4074682\ttest1: 0.5087571\tbest: 0.5080997 (141)\ttotal: 5.58s\tremaining: 13.4s\n",
      "147:\tlearn: 0.3459385\ttest: 0.4065258\ttest1: 0.5092018\tbest: 0.5080997 (141)\ttotal: 5.61s\tremaining: 13.4s\n",
      "148:\tlearn: 0.3453783\ttest: 0.4061245\ttest1: 0.5086549\tbest: 0.5080997 (141)\ttotal: 5.65s\tremaining: 13.3s\n",
      "149:\tlearn: 0.3439630\ttest: 0.4051104\ttest1: 0.5094352\tbest: 0.5080997 (141)\ttotal: 5.69s\tremaining: 13.3s\n",
      "150:\tlearn: 0.3434993\ttest: 0.4048106\ttest1: 0.5099250\tbest: 0.5080997 (141)\ttotal: 5.73s\tremaining: 13.2s\n",
      "151:\tlearn: 0.3421280\ttest: 0.4044328\ttest1: 0.5095066\tbest: 0.5080997 (141)\ttotal: 5.76s\tremaining: 13.2s\n",
      "152:\tlearn: 0.3413255\ttest: 0.4043722\ttest1: 0.5100338\tbest: 0.5080997 (141)\ttotal: 5.8s\tremaining: 13.2s\n",
      "153:\tlearn: 0.3406146\ttest: 0.4040357\ttest1: 0.5101939\tbest: 0.5080997 (141)\ttotal: 5.83s\tremaining: 13.1s\n",
      "154:\tlearn: 0.3388471\ttest: 0.4035546\ttest1: 0.5104948\tbest: 0.5080997 (141)\ttotal: 5.87s\tremaining: 13.1s\n",
      "155:\tlearn: 0.3381465\ttest: 0.4029664\ttest1: 0.5100922\tbest: 0.5080997 (141)\ttotal: 5.91s\tremaining: 13s\n",
      "156:\tlearn: 0.3376641\ttest: 0.4026389\ttest1: 0.5092746\tbest: 0.5080997 (141)\ttotal: 5.94s\tremaining: 13s\n",
      "157:\tlearn: 0.3363845\ttest: 0.4016159\ttest1: 0.5091224\tbest: 0.5080997 (141)\ttotal: 5.98s\tremaining: 13s\n",
      "158:\tlearn: 0.3354717\ttest: 0.4018008\ttest1: 0.5097443\tbest: 0.5080997 (141)\ttotal: 6.02s\tremaining: 12.9s\n",
      "159:\tlearn: 0.3339311\ttest: 0.4001583\ttest1: 0.5080861\tbest: 0.5080861 (159)\ttotal: 6.06s\tremaining: 12.9s\n",
      "160:\tlearn: 0.3320494\ttest: 0.3986538\ttest1: 0.5083350\tbest: 0.5080861 (159)\ttotal: 6.09s\tremaining: 12.8s\n"
     ]
    },
    {
     "name": "stdout",
     "output_type": "stream",
     "text": [
      "161:\tlearn: 0.3298780\ttest: 0.3974905\ttest1: 0.5091260\tbest: 0.5080861 (159)\ttotal: 6.13s\tremaining: 12.8s\n",
      "162:\tlearn: 0.3297043\ttest: 0.3974885\ttest1: 0.5092776\tbest: 0.5080861 (159)\ttotal: 6.17s\tremaining: 12.8s\n",
      "163:\tlearn: 0.3289382\ttest: 0.3975438\ttest1: 0.5087629\tbest: 0.5080861 (159)\ttotal: 6.21s\tremaining: 12.7s\n",
      "164:\tlearn: 0.3272836\ttest: 0.3960016\ttest1: 0.5073717\tbest: 0.5073717 (164)\ttotal: 6.25s\tremaining: 12.7s\n",
      "165:\tlearn: 0.3266169\ttest: 0.3959321\ttest1: 0.5077177\tbest: 0.5073717 (164)\ttotal: 6.29s\tremaining: 12.7s\n",
      "166:\tlearn: 0.3249425\ttest: 0.3944967\ttest1: 0.5072617\tbest: 0.5072617 (166)\ttotal: 6.32s\tremaining: 12.6s\n",
      "167:\tlearn: 0.3236305\ttest: 0.3930003\ttest1: 0.5072292\tbest: 0.5072292 (167)\ttotal: 6.36s\tremaining: 12.6s\n",
      "168:\tlearn: 0.3229483\ttest: 0.3923899\ttest1: 0.5077136\tbest: 0.5072292 (167)\ttotal: 6.39s\tremaining: 12.5s\n",
      "169:\tlearn: 0.3216182\ttest: 0.3921853\ttest1: 0.5076100\tbest: 0.5072292 (167)\ttotal: 6.43s\tremaining: 12.5s\n",
      "170:\tlearn: 0.3211308\ttest: 0.3920002\ttest1: 0.5079034\tbest: 0.5072292 (167)\ttotal: 6.46s\tremaining: 12.4s\n",
      "171:\tlearn: 0.3202319\ttest: 0.3918676\ttest1: 0.5069420\tbest: 0.5069420 (171)\ttotal: 6.49s\tremaining: 12.4s\n",
      "172:\tlearn: 0.3195412\ttest: 0.3915525\ttest1: 0.5065183\tbest: 0.5065183 (172)\ttotal: 6.53s\tremaining: 12.3s\n",
      "173:\tlearn: 0.3183707\ttest: 0.3900267\ttest1: 0.5057115\tbest: 0.5057115 (173)\ttotal: 6.56s\tremaining: 12.3s\n",
      "174:\tlearn: 0.3178521\ttest: 0.3897177\ttest1: 0.5059290\tbest: 0.5057115 (173)\ttotal: 6.59s\tremaining: 12.2s\n",
      "175:\tlearn: 0.3177364\ttest: 0.3897364\ttest1: 0.5059411\tbest: 0.5057115 (173)\ttotal: 6.61s\tremaining: 12.2s\n",
      "176:\tlearn: 0.3176268\ttest: 0.3897546\ttest1: 0.5059530\tbest: 0.5057115 (173)\ttotal: 6.62s\tremaining: 12.1s\n",
      "177:\tlearn: 0.3167952\ttest: 0.3888538\ttest1: 0.5059805\tbest: 0.5057115 (173)\ttotal: 6.66s\tremaining: 12s\n",
      "178:\tlearn: 0.3164681\ttest: 0.3888633\ttest1: 0.5061504\tbest: 0.5057115 (173)\ttotal: 6.69s\tremaining: 12s\n",
      "179:\tlearn: 0.3156087\ttest: 0.3885795\ttest1: 0.5055378\tbest: 0.5055378 (179)\ttotal: 6.71s\tremaining: 11.9s\n",
      "180:\tlearn: 0.3153545\ttest: 0.3884687\ttest1: 0.5060442\tbest: 0.5055378 (179)\ttotal: 6.75s\tremaining: 11.9s\n",
      "181:\tlearn: 0.3138628\ttest: 0.3873538\ttest1: 0.5049931\tbest: 0.5049931 (181)\ttotal: 6.79s\tremaining: 11.9s\n",
      "182:\tlearn: 0.3133632\ttest: 0.3870550\ttest1: 0.5050277\tbest: 0.5049931 (181)\ttotal: 6.83s\tremaining: 11.8s\n",
      "183:\tlearn: 0.3129265\ttest: 0.3868460\ttest1: 0.5042460\tbest: 0.5042460 (183)\ttotal: 6.87s\tremaining: 11.8s\n",
      "184:\tlearn: 0.3121938\ttest: 0.3861154\ttest1: 0.5043255\tbest: 0.5042460 (183)\ttotal: 6.91s\tremaining: 11.8s\n",
      "185:\tlearn: 0.3112279\ttest: 0.3857209\ttest1: 0.5034500\tbest: 0.5034500 (185)\ttotal: 6.96s\tremaining: 11.7s\n",
      "186:\tlearn: 0.3109173\ttest: 0.3853751\ttest1: 0.5039274\tbest: 0.5034500 (185)\ttotal: 6.99s\tremaining: 11.7s\n",
      "187:\tlearn: 0.3104729\ttest: 0.3850140\ttest1: 0.5026882\tbest: 0.5026882 (187)\ttotal: 7.03s\tremaining: 11.7s\n",
      "188:\tlearn: 0.3102850\ttest: 0.3849464\ttest1: 0.5031164\tbest: 0.5026882 (187)\ttotal: 7.06s\tremaining: 11.6s\n",
      "189:\tlearn: 0.3100128\ttest: 0.3849783\ttest1: 0.5033235\tbest: 0.5026882 (187)\ttotal: 7.09s\tremaining: 11.6s\n",
      "190:\tlearn: 0.3096803\ttest: 0.3847627\ttest1: 0.5030635\tbest: 0.5026882 (187)\ttotal: 7.13s\tremaining: 11.5s\n",
      "191:\tlearn: 0.3092242\ttest: 0.3847434\ttest1: 0.5026402\tbest: 0.5026402 (191)\ttotal: 7.15s\tremaining: 11.5s\n",
      "192:\tlearn: 0.3078655\ttest: 0.3843827\ttest1: 0.5037633\tbest: 0.5026402 (191)\ttotal: 7.19s\tremaining: 11.4s\n",
      "193:\tlearn: 0.3071523\ttest: 0.3835874\ttest1: 0.5036481\tbest: 0.5026402 (191)\ttotal: 7.23s\tremaining: 11.4s\n",
      "194:\tlearn: 0.3063283\ttest: 0.3828075\ttest1: 0.5020347\tbest: 0.5020347 (194)\ttotal: 7.28s\tremaining: 11.4s\n",
      "195:\tlearn: 0.3050891\ttest: 0.3819318\ttest1: 0.5018273\tbest: 0.5018273 (195)\ttotal: 7.32s\tremaining: 11.4s\n",
      "196:\tlearn: 0.3046407\ttest: 0.3816160\ttest1: 0.5016408\tbest: 0.5016408 (196)\ttotal: 7.37s\tremaining: 11.3s\n",
      "197:\tlearn: 0.3044807\ttest: 0.3816634\ttest1: 0.5016238\tbest: 0.5016238 (197)\ttotal: 7.42s\tremaining: 11.3s\n",
      "198:\tlearn: 0.3032971\ttest: 0.3805450\ttest1: 0.5012486\tbest: 0.5012486 (198)\ttotal: 7.46s\tremaining: 11.3s\n",
      "199:\tlearn: 0.3017798\ttest: 0.3791435\ttest1: 0.5004611\tbest: 0.5004611 (199)\ttotal: 7.5s\tremaining: 11.3s\n",
      "200:\tlearn: 0.3000979\ttest: 0.3778364\ttest1: 0.5019108\tbest: 0.5004611 (199)\ttotal: 7.55s\tremaining: 11.2s\n",
      "201:\tlearn: 0.2998398\ttest: 0.3779025\ttest1: 0.5019395\tbest: 0.5004611 (199)\ttotal: 7.58s\tremaining: 11.2s\n",
      "202:\tlearn: 0.2997496\ttest: 0.3779171\ttest1: 0.5019482\tbest: 0.5004611 (199)\ttotal: 7.6s\tremaining: 11.1s\n",
      "203:\tlearn: 0.2984410\ttest: 0.3768669\ttest1: 0.5024337\tbest: 0.5004611 (199)\ttotal: 7.64s\tremaining: 11.1s\n",
      "204:\tlearn: 0.2973973\ttest: 0.3760018\ttest1: 0.5021628\tbest: 0.5004611 (199)\ttotal: 7.68s\tremaining: 11.1s\n",
      "205:\tlearn: 0.2971435\ttest: 0.3760546\ttest1: 0.5023058\tbest: 0.5004611 (199)\ttotal: 7.71s\tremaining: 11s\n",
      "206:\tlearn: 0.2960447\ttest: 0.3753536\ttest1: 0.5006000\tbest: 0.5004611 (199)\ttotal: 7.76s\tremaining: 11s\n",
      "207:\tlearn: 0.2956863\ttest: 0.3749584\ttest1: 0.5002391\tbest: 0.5002391 (207)\ttotal: 7.81s\tremaining: 11s\n",
      "208:\tlearn: 0.2950731\ttest: 0.3743960\ttest1: 0.5000025\tbest: 0.5000025 (208)\ttotal: 7.86s\tremaining: 10.9s\n",
      "209:\tlearn: 0.2942367\ttest: 0.3747062\ttest1: 0.5004690\tbest: 0.5000025 (208)\ttotal: 7.89s\tremaining: 10.9s\n",
      "210:\tlearn: 0.2938888\ttest: 0.3747505\ttest1: 0.5001641\tbest: 0.5000025 (208)\ttotal: 7.93s\tremaining: 10.9s\n",
      "211:\tlearn: 0.2926539\ttest: 0.3738067\ttest1: 0.4990321\tbest: 0.4990321 (211)\ttotal: 7.98s\tremaining: 10.8s\n",
      "212:\tlearn: 0.2923598\ttest: 0.3737001\ttest1: 0.4984150\tbest: 0.4984150 (212)\ttotal: 8.03s\tremaining: 10.8s\n",
      "213:\tlearn: 0.2920751\ttest: 0.3735204\ttest1: 0.4980601\tbest: 0.4980601 (213)\ttotal: 8.07s\tremaining: 10.8s\n",
      "214:\tlearn: 0.2913431\ttest: 0.3725909\ttest1: 0.4988659\tbest: 0.4980601 (213)\ttotal: 8.12s\tremaining: 10.8s\n",
      "215:\tlearn: 0.2901717\ttest: 0.3722224\ttest1: 0.4978045\tbest: 0.4978045 (215)\ttotal: 8.15s\tremaining: 10.7s\n",
      "216:\tlearn: 0.2894916\ttest: 0.3714082\ttest1: 0.4980498\tbest: 0.4978045 (215)\ttotal: 8.2s\tremaining: 10.7s\n",
      "217:\tlearn: 0.2888894\ttest: 0.3710010\ttest1: 0.4980652\tbest: 0.4978045 (215)\ttotal: 8.24s\tremaining: 10.7s\n",
      "218:\tlearn: 0.2888449\ttest: 0.3709918\ttest1: 0.4980591\tbest: 0.4978045 (215)\ttotal: 8.26s\tremaining: 10.6s\n",
      "219:\tlearn: 0.2881361\ttest: 0.3706168\ttest1: 0.4979169\tbest: 0.4978045 (215)\ttotal: 8.31s\tremaining: 10.6s\n",
      "220:\tlearn: 0.2879695\ttest: 0.3705166\ttest1: 0.4982631\tbest: 0.4978045 (215)\ttotal: 8.35s\tremaining: 10.5s\n",
      "221:\tlearn: 0.2863556\ttest: 0.3693416\ttest1: 0.4995563\tbest: 0.4978045 (215)\ttotal: 8.39s\tremaining: 10.5s\n",
      "222:\tlearn: 0.2856108\ttest: 0.3687565\ttest1: 0.4995586\tbest: 0.4978045 (215)\ttotal: 8.43s\tremaining: 10.5s\n",
      "223:\tlearn: 0.2841918\ttest: 0.3679037\ttest1: 0.5010215\tbest: 0.4978045 (215)\ttotal: 8.48s\tremaining: 10.4s\n",
      "224:\tlearn: 0.2838902\ttest: 0.3678685\ttest1: 0.5013109\tbest: 0.4978045 (215)\ttotal: 8.52s\tremaining: 10.4s\n",
      "225:\tlearn: 0.2829685\ttest: 0.3676486\ttest1: 0.5018076\tbest: 0.4978045 (215)\ttotal: 8.56s\tremaining: 10.4s\n",
      "226:\tlearn: 0.2825325\ttest: 0.3674440\ttest1: 0.5021740\tbest: 0.4978045 (215)\ttotal: 8.59s\tremaining: 10.3s\n",
      "227:\tlearn: 0.2821131\ttest: 0.3672900\ttest1: 0.5022547\tbest: 0.4978045 (215)\ttotal: 8.63s\tremaining: 10.3s\n",
      "228:\tlearn: 0.2813467\ttest: 0.3669311\ttest1: 0.5020146\tbest: 0.4978045 (215)\ttotal: 8.68s\tremaining: 10.3s\n",
      "229:\tlearn: 0.2804487\ttest: 0.3666907\ttest1: 0.5016094\tbest: 0.4978045 (215)\ttotal: 8.72s\tremaining: 10.2s\n",
      "230:\tlearn: 0.2787704\ttest: 0.3647737\ttest1: 0.5000553\tbest: 0.4978045 (215)\ttotal: 8.77s\tremaining: 10.2s\n",
      "231:\tlearn: 0.2774776\ttest: 0.3640016\ttest1: 0.4996072\tbest: 0.4978045 (215)\ttotal: 8.81s\tremaining: 10.2s\n",
      "232:\tlearn: 0.2772133\ttest: 0.3639033\ttest1: 0.4998612\tbest: 0.4978045 (215)\ttotal: 8.86s\tremaining: 10.2s\n",
      "233:\tlearn: 0.2767981\ttest: 0.3635362\ttest1: 0.4994739\tbest: 0.4978045 (215)\ttotal: 8.9s\tremaining: 10.1s\n",
      "234:\tlearn: 0.2764794\ttest: 0.3632101\ttest1: 0.4996176\tbest: 0.4978045 (215)\ttotal: 8.93s\tremaining: 10.1s\n",
      "235:\tlearn: 0.2762470\ttest: 0.3630996\ttest1: 0.4996801\tbest: 0.4978045 (215)\ttotal: 8.97s\tremaining: 10s\n",
      "236:\tlearn: 0.2758529\ttest: 0.3630787\ttest1: 0.4993996\tbest: 0.4978045 (215)\ttotal: 9.02s\tremaining: 10s\n",
      "237:\tlearn: 0.2753064\ttest: 0.3628408\ttest1: 0.4994027\tbest: 0.4978045 (215)\ttotal: 9.06s\tremaining: 9.97s\n",
      "238:\tlearn: 0.2748506\ttest: 0.3624355\ttest1: 0.4995883\tbest: 0.4978045 (215)\ttotal: 9.11s\tremaining: 9.95s\n",
      "239:\tlearn: 0.2736967\ttest: 0.3612405\ttest1: 0.4989450\tbest: 0.4978045 (215)\ttotal: 9.15s\tremaining: 9.91s\n",
      "240:\tlearn: 0.2728584\ttest: 0.3603643\ttest1: 0.4984159\tbest: 0.4978045 (215)\ttotal: 9.18s\tremaining: 9.87s\n",
      "241:\tlearn: 0.2722135\ttest: 0.3599638\ttest1: 0.4980707\tbest: 0.4978045 (215)\ttotal: 9.21s\tremaining: 9.82s\n",
      "242:\tlearn: 0.2712905\ttest: 0.3595190\ttest1: 0.4970657\tbest: 0.4970657 (242)\ttotal: 9.25s\tremaining: 9.78s\n"
     ]
    },
    {
     "name": "stdout",
     "output_type": "stream",
     "text": [
      "243:\tlearn: 0.2706901\ttest: 0.3588785\ttest1: 0.4973856\tbest: 0.4970657 (242)\ttotal: 9.29s\tremaining: 9.74s\n",
      "244:\tlearn: 0.2705677\ttest: 0.3588390\ttest1: 0.4973684\tbest: 0.4970657 (242)\ttotal: 9.32s\tremaining: 9.7s\n",
      "245:\tlearn: 0.2697488\ttest: 0.3579572\ttest1: 0.4969710\tbest: 0.4969710 (245)\ttotal: 9.37s\tremaining: 9.67s\n",
      "246:\tlearn: 0.2692904\ttest: 0.3574938\ttest1: 0.4964464\tbest: 0.4964464 (246)\ttotal: 9.41s\tremaining: 9.64s\n",
      "247:\tlearn: 0.2690412\ttest: 0.3573089\ttest1: 0.4971008\tbest: 0.4964464 (246)\ttotal: 9.46s\tremaining: 9.61s\n",
      "248:\tlearn: 0.2678537\ttest: 0.3562635\ttest1: 0.4972226\tbest: 0.4964464 (246)\ttotal: 9.49s\tremaining: 9.57s\n",
      "249:\tlearn: 0.2676485\ttest: 0.3562553\ttest1: 0.4971229\tbest: 0.4964464 (246)\ttotal: 9.53s\tremaining: 9.53s\n",
      "250:\tlearn: 0.2667229\ttest: 0.3554657\ttest1: 0.4961642\tbest: 0.4961642 (250)\ttotal: 9.57s\tremaining: 9.49s\n",
      "251:\tlearn: 0.2658686\ttest: 0.3549019\ttest1: 0.4955213\tbest: 0.4955213 (251)\ttotal: 9.61s\tremaining: 9.45s\n",
      "252:\tlearn: 0.2652012\ttest: 0.3544805\ttest1: 0.4957509\tbest: 0.4955213 (251)\ttotal: 9.64s\tremaining: 9.41s\n",
      "253:\tlearn: 0.2648995\ttest: 0.3543162\ttest1: 0.4958151\tbest: 0.4955213 (251)\ttotal: 9.67s\tremaining: 9.37s\n",
      "254:\tlearn: 0.2642324\ttest: 0.3538869\ttest1: 0.4955084\tbest: 0.4955084 (254)\ttotal: 9.71s\tremaining: 9.33s\n",
      "255:\tlearn: 0.2633640\ttest: 0.3531663\ttest1: 0.4948167\tbest: 0.4948167 (255)\ttotal: 9.74s\tremaining: 9.29s\n",
      "256:\tlearn: 0.2632534\ttest: 0.3531586\ttest1: 0.4947935\tbest: 0.4947935 (256)\ttotal: 9.78s\tremaining: 9.25s\n",
      "257:\tlearn: 0.2627691\ttest: 0.3528108\ttest1: 0.4938470\tbest: 0.4938470 (257)\ttotal: 9.82s\tremaining: 9.21s\n",
      "258:\tlearn: 0.2614047\ttest: 0.3513101\ttest1: 0.4938025\tbest: 0.4938025 (258)\ttotal: 9.87s\tremaining: 9.18s\n",
      "259:\tlearn: 0.2610223\ttest: 0.3510769\ttest1: 0.4941310\tbest: 0.4938025 (258)\ttotal: 9.9s\tremaining: 9.14s\n",
      "260:\tlearn: 0.2598830\ttest: 0.3503589\ttest1: 0.4937283\tbest: 0.4937283 (260)\ttotal: 9.94s\tremaining: 9.1s\n",
      "261:\tlearn: 0.2596694\ttest: 0.3501238\ttest1: 0.4938970\tbest: 0.4937283 (260)\ttotal: 9.99s\tremaining: 9.07s\n",
      "262:\tlearn: 0.2590884\ttest: 0.3500770\ttest1: 0.4940249\tbest: 0.4937283 (260)\ttotal: 10s\tremaining: 9.04s\n",
      "263:\tlearn: 0.2589561\ttest: 0.3500572\ttest1: 0.4940186\tbest: 0.4937283 (260)\ttotal: 10.1s\tremaining: 9.01s\n",
      "264:\tlearn: 0.2588233\ttest: 0.3500930\ttest1: 0.4939170\tbest: 0.4937283 (260)\ttotal: 10.1s\tremaining: 8.98s\n",
      "265:\tlearn: 0.2578787\ttest: 0.3495220\ttest1: 0.4935629\tbest: 0.4935629 (265)\ttotal: 10.2s\tremaining: 8.95s\n",
      "266:\tlearn: 0.2573842\ttest: 0.3489843\ttest1: 0.4943821\tbest: 0.4935629 (265)\ttotal: 10.2s\tremaining: 8.91s\n",
      "267:\tlearn: 0.2561948\ttest: 0.3485562\ttest1: 0.4953072\tbest: 0.4935629 (265)\ttotal: 10.3s\tremaining: 8.88s\n",
      "268:\tlearn: 0.2553990\ttest: 0.3480157\ttest1: 0.4946368\tbest: 0.4935629 (265)\ttotal: 10.3s\tremaining: 8.84s\n",
      "269:\tlearn: 0.2547614\ttest: 0.3479308\ttest1: 0.4942215\tbest: 0.4935629 (265)\ttotal: 10.3s\tremaining: 8.79s\n",
      "270:\tlearn: 0.2535245\ttest: 0.3471360\ttest1: 0.4929667\tbest: 0.4929667 (270)\ttotal: 10.4s\tremaining: 8.75s\n",
      "271:\tlearn: 0.2517569\ttest: 0.3457674\ttest1: 0.4902064\tbest: 0.4902064 (271)\ttotal: 10.4s\tremaining: 8.72s\n",
      "272:\tlearn: 0.2509983\ttest: 0.3448873\ttest1: 0.4898695\tbest: 0.4898695 (272)\ttotal: 10.4s\tremaining: 8.69s\n",
      "273:\tlearn: 0.2500540\ttest: 0.3439522\ttest1: 0.4895046\tbest: 0.4895046 (273)\ttotal: 10.5s\tremaining: 8.65s\n",
      "274:\tlearn: 0.2493006\ttest: 0.3433955\ttest1: 0.4892848\tbest: 0.4892848 (274)\ttotal: 10.5s\tremaining: 8.62s\n",
      "275:\tlearn: 0.2487983\ttest: 0.3428547\ttest1: 0.4895164\tbest: 0.4892848 (274)\ttotal: 10.6s\tremaining: 8.58s\n",
      "276:\tlearn: 0.2479020\ttest: 0.3416028\ttest1: 0.4905933\tbest: 0.4892848 (274)\ttotal: 10.6s\tremaining: 8.54s\n",
      "277:\tlearn: 0.2472652\ttest: 0.3413261\ttest1: 0.4902778\tbest: 0.4892848 (274)\ttotal: 10.6s\tremaining: 8.5s\n",
      "278:\tlearn: 0.2468911\ttest: 0.3409584\ttest1: 0.4905799\tbest: 0.4892848 (274)\ttotal: 10.7s\tremaining: 8.47s\n",
      "279:\tlearn: 0.2458169\ttest: 0.3401608\ttest1: 0.4904359\tbest: 0.4892848 (274)\ttotal: 10.7s\tremaining: 8.42s\n",
      "280:\tlearn: 0.2450111\ttest: 0.3396238\ttest1: 0.4916550\tbest: 0.4892848 (274)\ttotal: 10.8s\tremaining: 8.38s\n",
      "281:\tlearn: 0.2439123\ttest: 0.3392230\ttest1: 0.4916475\tbest: 0.4892848 (274)\ttotal: 10.8s\tremaining: 8.34s\n",
      "282:\tlearn: 0.2433735\ttest: 0.3383833\ttest1: 0.4926762\tbest: 0.4892848 (274)\ttotal: 10.8s\tremaining: 8.3s\n",
      "283:\tlearn: 0.2429947\ttest: 0.3380582\ttest1: 0.4926456\tbest: 0.4892848 (274)\ttotal: 10.9s\tremaining: 8.26s\n",
      "284:\tlearn: 0.2426292\ttest: 0.3375587\ttest1: 0.4933095\tbest: 0.4892848 (274)\ttotal: 10.9s\tremaining: 8.22s\n",
      "285:\tlearn: 0.2422049\ttest: 0.3374868\ttest1: 0.4939955\tbest: 0.4892848 (274)\ttotal: 10.9s\tremaining: 8.18s\n",
      "286:\tlearn: 0.2414915\ttest: 0.3374283\ttest1: 0.4940399\tbest: 0.4892848 (274)\ttotal: 11s\tremaining: 8.13s\n",
      "287:\tlearn: 0.2411548\ttest: 0.3369375\ttest1: 0.4942748\tbest: 0.4892848 (274)\ttotal: 11s\tremaining: 8.09s\n",
      "288:\tlearn: 0.2402054\ttest: 0.3365146\ttest1: 0.4932780\tbest: 0.4892848 (274)\ttotal: 11s\tremaining: 8.05s\n",
      "289:\tlearn: 0.2389857\ttest: 0.3350970\ttest1: 0.4935580\tbest: 0.4892848 (274)\ttotal: 11.1s\tremaining: 8.01s\n",
      "290:\tlearn: 0.2387808\ttest: 0.3350340\ttest1: 0.4935142\tbest: 0.4892848 (274)\ttotal: 11.1s\tremaining: 7.96s\n",
      "291:\tlearn: 0.2383890\ttest: 0.3351585\ttest1: 0.4934212\tbest: 0.4892848 (274)\ttotal: 11.1s\tremaining: 7.93s\n",
      "292:\tlearn: 0.2377039\ttest: 0.3345941\ttest1: 0.4946106\tbest: 0.4892848 (274)\ttotal: 11.2s\tremaining: 7.89s\n",
      "293:\tlearn: 0.2371151\ttest: 0.3338485\ttest1: 0.4952776\tbest: 0.4892848 (274)\ttotal: 11.2s\tremaining: 7.86s\n",
      "294:\tlearn: 0.2365816\ttest: 0.3334655\ttest1: 0.4944545\tbest: 0.4892848 (274)\ttotal: 11.3s\tremaining: 7.83s\n",
      "295:\tlearn: 0.2360282\ttest: 0.3329352\ttest1: 0.4944684\tbest: 0.4892848 (274)\ttotal: 11.3s\tremaining: 7.79s\n",
      "296:\tlearn: 0.2353920\ttest: 0.3324949\ttest1: 0.4941552\tbest: 0.4892848 (274)\ttotal: 11.3s\tremaining: 7.75s\n",
      "297:\tlearn: 0.2350918\ttest: 0.3321689\ttest1: 0.4953683\tbest: 0.4892848 (274)\ttotal: 11.4s\tremaining: 7.71s\n",
      "298:\tlearn: 0.2347753\ttest: 0.3319620\ttest1: 0.4954613\tbest: 0.4892848 (274)\ttotal: 11.4s\tremaining: 7.67s\n",
      "299:\tlearn: 0.2340593\ttest: 0.3313808\ttest1: 0.4955502\tbest: 0.4892848 (274)\ttotal: 11.5s\tremaining: 7.64s\n",
      "300:\tlearn: 0.2330831\ttest: 0.3305879\ttest1: 0.4955737\tbest: 0.4892848 (274)\ttotal: 11.5s\tremaining: 7.6s\n",
      "301:\tlearn: 0.2320956\ttest: 0.3292746\ttest1: 0.4923384\tbest: 0.4892848 (274)\ttotal: 11.5s\tremaining: 7.56s\n",
      "302:\tlearn: 0.2315976\ttest: 0.3287535\ttest1: 0.4922759\tbest: 0.4892848 (274)\ttotal: 11.6s\tremaining: 7.53s\n",
      "303:\tlearn: 0.2314559\ttest: 0.3285754\ttest1: 0.4931072\tbest: 0.4892848 (274)\ttotal: 11.6s\tremaining: 7.49s\n",
      "304:\tlearn: 0.2312936\ttest: 0.3283913\ttest1: 0.4936714\tbest: 0.4892848 (274)\ttotal: 11.7s\tremaining: 7.46s\n",
      "305:\tlearn: 0.2304417\ttest: 0.3271670\ttest1: 0.4926877\tbest: 0.4892848 (274)\ttotal: 11.7s\tremaining: 7.42s\n",
      "306:\tlearn: 0.2292149\ttest: 0.3258676\ttest1: 0.4908872\tbest: 0.4892848 (274)\ttotal: 11.7s\tremaining: 7.38s\n",
      "307:\tlearn: 0.2283322\ttest: 0.3255113\ttest1: 0.4908505\tbest: 0.4892848 (274)\ttotal: 11.8s\tremaining: 7.35s\n",
      "308:\tlearn: 0.2277685\ttest: 0.3251982\ttest1: 0.4907130\tbest: 0.4892848 (274)\ttotal: 11.8s\tremaining: 7.31s\n",
      "309:\tlearn: 0.2267289\ttest: 0.3241350\ttest1: 0.4909731\tbest: 0.4892848 (274)\ttotal: 11.9s\tremaining: 7.28s\n",
      "310:\tlearn: 0.2257799\ttest: 0.3234302\ttest1: 0.4911972\tbest: 0.4892848 (274)\ttotal: 11.9s\tremaining: 7.24s\n",
      "311:\tlearn: 0.2250711\ttest: 0.3230473\ttest1: 0.4910346\tbest: 0.4892848 (274)\ttotal: 12s\tremaining: 7.2s\n",
      "312:\tlearn: 0.2248954\ttest: 0.3229318\ttest1: 0.4913641\tbest: 0.4892848 (274)\ttotal: 12s\tremaining: 7.16s\n",
      "313:\tlearn: 0.2243810\ttest: 0.3221546\ttest1: 0.4908210\tbest: 0.4892848 (274)\ttotal: 12s\tremaining: 7.13s\n",
      "314:\tlearn: 0.2234646\ttest: 0.3219798\ttest1: 0.4905002\tbest: 0.4892848 (274)\ttotal: 12.1s\tremaining: 7.09s\n",
      "315:\tlearn: 0.2233243\ttest: 0.3218313\ttest1: 0.4907161\tbest: 0.4892848 (274)\ttotal: 12.1s\tremaining: 7.05s\n",
      "316:\tlearn: 0.2228363\ttest: 0.3213667\ttest1: 0.4912130\tbest: 0.4892848 (274)\ttotal: 12.1s\tremaining: 7.01s\n",
      "317:\tlearn: 0.2226469\ttest: 0.3211893\ttest1: 0.4911660\tbest: 0.4892848 (274)\ttotal: 12.2s\tremaining: 6.97s\n",
      "318:\tlearn: 0.2223823\ttest: 0.3209276\ttest1: 0.4916464\tbest: 0.4892848 (274)\ttotal: 12.2s\tremaining: 6.94s\n",
      "319:\tlearn: 0.2220697\ttest: 0.3208991\ttest1: 0.4913757\tbest: 0.4892848 (274)\ttotal: 12.3s\tremaining: 6.9s\n"
     ]
    },
    {
     "name": "stdout",
     "output_type": "stream",
     "text": [
      "320:\tlearn: 0.2218804\ttest: 0.3206148\ttest1: 0.4920900\tbest: 0.4892848 (274)\ttotal: 12.3s\tremaining: 6.87s\n",
      "321:\tlearn: 0.2208845\ttest: 0.3202244\ttest1: 0.4927366\tbest: 0.4892848 (274)\ttotal: 12.4s\tremaining: 6.83s\n",
      "322:\tlearn: 0.2195341\ttest: 0.3185063\ttest1: 0.4921652\tbest: 0.4892848 (274)\ttotal: 12.4s\tremaining: 6.8s\n",
      "323:\tlearn: 0.2178558\ttest: 0.3179016\ttest1: 0.4924967\tbest: 0.4892848 (274)\ttotal: 12.4s\tremaining: 6.76s\n",
      "324:\tlearn: 0.2171482\ttest: 0.3174648\ttest1: 0.4927082\tbest: 0.4892848 (274)\ttotal: 12.5s\tremaining: 6.73s\n",
      "325:\tlearn: 0.2168105\ttest: 0.3173670\ttest1: 0.4925987\tbest: 0.4892848 (274)\ttotal: 12.5s\tremaining: 6.69s\n",
      "326:\tlearn: 0.2163187\ttest: 0.3172643\ttest1: 0.4926525\tbest: 0.4892848 (274)\ttotal: 12.6s\tremaining: 6.65s\n",
      "327:\tlearn: 0.2162196\ttest: 0.3172329\ttest1: 0.4928217\tbest: 0.4892848 (274)\ttotal: 12.6s\tremaining: 6.62s\n",
      "328:\tlearn: 0.2149524\ttest: 0.3164430\ttest1: 0.4935164\tbest: 0.4892848 (274)\ttotal: 12.7s\tremaining: 6.58s\n",
      "329:\tlearn: 0.2146387\ttest: 0.3163962\ttest1: 0.4939298\tbest: 0.4892848 (274)\ttotal: 12.7s\tremaining: 6.54s\n",
      "330:\tlearn: 0.2140241\ttest: 0.3158847\ttest1: 0.4940194\tbest: 0.4892848 (274)\ttotal: 12.7s\tremaining: 6.5s\n",
      "331:\tlearn: 0.2135154\ttest: 0.3157810\ttest1: 0.4944371\tbest: 0.4892848 (274)\ttotal: 12.8s\tremaining: 6.47s\n",
      "332:\tlearn: 0.2131034\ttest: 0.3151669\ttest1: 0.4944158\tbest: 0.4892848 (274)\ttotal: 12.8s\tremaining: 6.43s\n",
      "333:\tlearn: 0.2123061\ttest: 0.3149214\ttest1: 0.4940676\tbest: 0.4892848 (274)\ttotal: 12.9s\tremaining: 6.4s\n",
      "334:\tlearn: 0.2120649\ttest: 0.3146631\ttest1: 0.4951750\tbest: 0.4892848 (274)\ttotal: 12.9s\tremaining: 6.36s\n",
      "335:\tlearn: 0.2119474\ttest: 0.3145824\ttest1: 0.4954547\tbest: 0.4892848 (274)\ttotal: 13s\tremaining: 6.32s\n",
      "336:\tlearn: 0.2115683\ttest: 0.3143129\ttest1: 0.4953046\tbest: 0.4892848 (274)\ttotal: 13s\tremaining: 6.29s\n",
      "337:\tlearn: 0.2114347\ttest: 0.3141419\ttest1: 0.4961797\tbest: 0.4892848 (274)\ttotal: 13s\tremaining: 6.25s\n",
      "338:\tlearn: 0.2112100\ttest: 0.3140933\ttest1: 0.4967601\tbest: 0.4892848 (274)\ttotal: 13.1s\tremaining: 6.21s\n",
      "339:\tlearn: 0.2106795\ttest: 0.3135152\ttest1: 0.4960477\tbest: 0.4892848 (274)\ttotal: 13.1s\tremaining: 6.17s\n",
      "340:\tlearn: 0.2098576\ttest: 0.3128142\ttest1: 0.4975502\tbest: 0.4892848 (274)\ttotal: 13.2s\tremaining: 6.13s\n",
      "341:\tlearn: 0.2086126\ttest: 0.3121579\ttest1: 0.4967474\tbest: 0.4892848 (274)\ttotal: 13.2s\tremaining: 6.1s\n",
      "342:\tlearn: 0.2084473\ttest: 0.3119670\ttest1: 0.4976527\tbest: 0.4892848 (274)\ttotal: 13.2s\tremaining: 6.06s\n",
      "343:\tlearn: 0.2077685\ttest: 0.3116048\ttest1: 0.4979294\tbest: 0.4892848 (274)\ttotal: 13.3s\tremaining: 6.02s\n",
      "344:\tlearn: 0.2076819\ttest: 0.3115367\ttest1: 0.4981324\tbest: 0.4892848 (274)\ttotal: 13.3s\tremaining: 5.99s\n",
      "345:\tlearn: 0.2071367\ttest: 0.3111074\ttest1: 0.4976106\tbest: 0.4892848 (274)\ttotal: 13.4s\tremaining: 5.95s\n",
      "346:\tlearn: 0.2070131\ttest: 0.3110584\ttest1: 0.4978870\tbest: 0.4892848 (274)\ttotal: 13.4s\tremaining: 5.91s\n",
      "347:\tlearn: 0.2063064\ttest: 0.3107908\ttest1: 0.4976274\tbest: 0.4892848 (274)\ttotal: 13.5s\tremaining: 5.88s\n",
      "348:\tlearn: 0.2049678\ttest: 0.3091718\ttest1: 0.4995077\tbest: 0.4892848 (274)\ttotal: 13.5s\tremaining: 5.84s\n",
      "349:\tlearn: 0.2048254\ttest: 0.3090371\ttest1: 0.4995374\tbest: 0.4892848 (274)\ttotal: 13.5s\tremaining: 5.8s\n",
      "350:\tlearn: 0.2046176\ttest: 0.3088332\ttest1: 0.5001285\tbest: 0.4892848 (274)\ttotal: 13.6s\tremaining: 5.76s\n",
      "351:\tlearn: 0.2044738\ttest: 0.3089035\ttest1: 0.5001703\tbest: 0.4892848 (274)\ttotal: 13.6s\tremaining: 5.72s\n",
      "352:\tlearn: 0.2039660\ttest: 0.3085015\ttest1: 0.4996712\tbest: 0.4892848 (274)\ttotal: 13.7s\tremaining: 5.69s\n",
      "353:\tlearn: 0.2036495\ttest: 0.3082673\ttest1: 0.5001890\tbest: 0.4892848 (274)\ttotal: 13.7s\tremaining: 5.65s\n",
      "354:\tlearn: 0.2028006\ttest: 0.3070799\ttest1: 0.5015106\tbest: 0.4892848 (274)\ttotal: 13.7s\tremaining: 5.61s\n",
      "355:\tlearn: 0.2024702\ttest: 0.3067671\ttest1: 0.5018633\tbest: 0.4892848 (274)\ttotal: 13.8s\tremaining: 5.57s\n",
      "356:\tlearn: 0.2022297\ttest: 0.3066233\ttest1: 0.5012101\tbest: 0.4892848 (274)\ttotal: 13.8s\tremaining: 5.53s\n",
      "357:\tlearn: 0.2014431\ttest: 0.3058409\ttest1: 0.5018521\tbest: 0.4892848 (274)\ttotal: 13.8s\tremaining: 5.49s\n",
      "358:\tlearn: 0.2008372\ttest: 0.3052372\ttest1: 0.5014525\tbest: 0.4892848 (274)\ttotal: 13.9s\tremaining: 5.45s\n",
      "359:\tlearn: 0.1996180\ttest: 0.3037357\ttest1: 0.5033367\tbest: 0.4892848 (274)\ttotal: 13.9s\tremaining: 5.41s\n",
      "360:\tlearn: 0.1991177\ttest: 0.3033579\ttest1: 0.5048158\tbest: 0.4892848 (274)\ttotal: 14s\tremaining: 5.37s\n",
      "361:\tlearn: 0.1989820\ttest: 0.3032341\ttest1: 0.5052682\tbest: 0.4892848 (274)\ttotal: 14s\tremaining: 5.34s\n",
      "362:\tlearn: 0.1988453\ttest: 0.3033334\ttest1: 0.5053245\tbest: 0.4892848 (274)\ttotal: 14s\tremaining: 5.3s\n",
      "363:\tlearn: 0.1974128\ttest: 0.3026358\ttest1: 0.5045056\tbest: 0.4892848 (274)\ttotal: 14.1s\tremaining: 5.26s\n",
      "364:\tlearn: 0.1971600\ttest: 0.3025245\ttest1: 0.5052871\tbest: 0.4892848 (274)\ttotal: 14.1s\tremaining: 5.22s\n",
      "365:\tlearn: 0.1963216\ttest: 0.3018861\ttest1: 0.5056725\tbest: 0.4892848 (274)\ttotal: 14.2s\tremaining: 5.19s\n",
      "366:\tlearn: 0.1956402\ttest: 0.3009368\ttest1: 0.5052887\tbest: 0.4892848 (274)\ttotal: 14.2s\tremaining: 5.15s\n",
      "367:\tlearn: 0.1953351\ttest: 0.3008750\ttest1: 0.5049986\tbest: 0.4892848 (274)\ttotal: 14.3s\tremaining: 5.12s\n",
      "368:\tlearn: 0.1948378\ttest: 0.3005848\ttest1: 0.5044651\tbest: 0.4892848 (274)\ttotal: 14.3s\tremaining: 5.08s\n",
      "369:\tlearn: 0.1946818\ttest: 0.3004016\ttest1: 0.5053283\tbest: 0.4892848 (274)\ttotal: 14.4s\tremaining: 5.04s\n",
      "370:\tlearn: 0.1946032\ttest: 0.3002604\ttest1: 0.5061861\tbest: 0.4892848 (274)\ttotal: 14.4s\tremaining: 5.01s\n",
      "371:\tlearn: 0.1944943\ttest: 0.3001556\ttest1: 0.5061874\tbest: 0.4892848 (274)\ttotal: 14.4s\tremaining: 4.97s\n",
      "372:\tlearn: 0.1941338\ttest: 0.2998620\ttest1: 0.5059238\tbest: 0.4892848 (274)\ttotal: 14.5s\tremaining: 4.93s\n",
      "373:\tlearn: 0.1934711\ttest: 0.2992003\ttest1: 0.5053393\tbest: 0.4892848 (274)\ttotal: 14.5s\tremaining: 4.89s\n",
      "374:\tlearn: 0.1933392\ttest: 0.2990842\ttest1: 0.5053286\tbest: 0.4892848 (274)\ttotal: 14.6s\tremaining: 4.86s\n",
      "375:\tlearn: 0.1931517\ttest: 0.2990056\ttest1: 0.5051829\tbest: 0.4892848 (274)\ttotal: 14.6s\tremaining: 4.82s\n",
      "376:\tlearn: 0.1930514\ttest: 0.2989513\ttest1: 0.5053040\tbest: 0.4892848 (274)\ttotal: 14.7s\tremaining: 4.79s\n",
      "377:\tlearn: 0.1929333\ttest: 0.2989920\ttest1: 0.5053033\tbest: 0.4892848 (274)\ttotal: 14.7s\tremaining: 4.75s\n",
      "378:\tlearn: 0.1928744\ttest: 0.2989457\ttest1: 0.5052683\tbest: 0.4892848 (274)\ttotal: 14.8s\tremaining: 4.71s\n",
      "379:\tlearn: 0.1923681\ttest: 0.2987249\ttest1: 0.5055691\tbest: 0.4892848 (274)\ttotal: 14.8s\tremaining: 4.67s\n",
      "380:\tlearn: 0.1922177\ttest: 0.2985907\ttest1: 0.5060304\tbest: 0.4892848 (274)\ttotal: 14.8s\tremaining: 4.64s\n",
      "381:\tlearn: 0.1920786\ttest: 0.2984324\ttest1: 0.5061167\tbest: 0.4892848 (274)\ttotal: 14.9s\tremaining: 4.6s\n",
      "382:\tlearn: 0.1913993\ttest: 0.2974607\ttest1: 0.5054714\tbest: 0.4892848 (274)\ttotal: 15s\tremaining: 4.57s\n",
      "383:\tlearn: 0.1904003\ttest: 0.2967061\ttest1: 0.5061834\tbest: 0.4892848 (274)\ttotal: 15s\tremaining: 4.53s\n",
      "384:\tlearn: 0.1901608\ttest: 0.2965245\ttest1: 0.5062000\tbest: 0.4892848 (274)\ttotal: 15s\tremaining: 4.49s\n",
      "385:\tlearn: 0.1892879\ttest: 0.2963163\ttest1: 0.5059670\tbest: 0.4892848 (274)\ttotal: 15.1s\tremaining: 4.45s\n",
      "386:\tlearn: 0.1891092\ttest: 0.2961824\ttest1: 0.5055083\tbest: 0.4892848 (274)\ttotal: 15.1s\tremaining: 4.41s\n",
      "387:\tlearn: 0.1884390\ttest: 0.2958826\ttest1: 0.5062951\tbest: 0.4892848 (274)\ttotal: 15.2s\tremaining: 4.37s\n",
      "388:\tlearn: 0.1879826\ttest: 0.2956094\ttest1: 0.5072325\tbest: 0.4892848 (274)\ttotal: 15.2s\tremaining: 4.34s\n",
      "389:\tlearn: 0.1879004\ttest: 0.2954762\ttest1: 0.5072557\tbest: 0.4892848 (274)\ttotal: 15.2s\tremaining: 4.3s\n",
      "390:\tlearn: 0.1877704\ttest: 0.2953162\ttest1: 0.5081263\tbest: 0.4892848 (274)\ttotal: 15.3s\tremaining: 4.26s\n",
      "391:\tlearn: 0.1873794\ttest: 0.2952100\ttest1: 0.5083294\tbest: 0.4892848 (274)\ttotal: 15.3s\tremaining: 4.22s\n",
      "392:\tlearn: 0.1870156\ttest: 0.2949810\ttest1: 0.5086070\tbest: 0.4892848 (274)\ttotal: 15.4s\tremaining: 4.18s\n",
      "393:\tlearn: 0.1864528\ttest: 0.2944652\ttest1: 0.5085850\tbest: 0.4892848 (274)\ttotal: 15.4s\tremaining: 4.15s\n",
      "394:\tlearn: 0.1863782\ttest: 0.2944043\ttest1: 0.5091103\tbest: 0.4892848 (274)\ttotal: 15.5s\tremaining: 4.11s\n",
      "395:\tlearn: 0.1863235\ttest: 0.2943026\ttest1: 0.5090044\tbest: 0.4892848 (274)\ttotal: 15.5s\tremaining: 4.07s\n",
      "396:\tlearn: 0.1860327\ttest: 0.2942139\ttest1: 0.5092998\tbest: 0.4892848 (274)\ttotal: 15.5s\tremaining: 4.03s\n"
     ]
    },
    {
     "name": "stdout",
     "output_type": "stream",
     "text": [
      "397:\tlearn: 0.1859433\ttest: 0.2941436\ttest1: 0.5094228\tbest: 0.4892848 (274)\ttotal: 15.6s\tremaining: 3.99s\n",
      "398:\tlearn: 0.1855705\ttest: 0.2939797\ttest1: 0.5093674\tbest: 0.4892848 (274)\ttotal: 15.6s\tremaining: 3.96s\n",
      "399:\tlearn: 0.1852091\ttest: 0.2936505\ttest1: 0.5090868\tbest: 0.4892848 (274)\ttotal: 15.7s\tremaining: 3.92s\n",
      "400:\tlearn: 0.1851442\ttest: 0.2934703\ttest1: 0.5089166\tbest: 0.4892848 (274)\ttotal: 15.7s\tremaining: 3.88s\n",
      "401:\tlearn: 0.1839633\ttest: 0.2919396\ttest1: 0.5100426\tbest: 0.4892848 (274)\ttotal: 15.7s\tremaining: 3.84s\n",
      "402:\tlearn: 0.1827275\ttest: 0.2908143\ttest1: 0.5092643\tbest: 0.4892848 (274)\ttotal: 15.8s\tremaining: 3.8s\n",
      "403:\tlearn: 0.1823886\ttest: 0.2903813\ttest1: 0.5089315\tbest: 0.4892848 (274)\ttotal: 15.8s\tremaining: 3.76s\n",
      "404:\tlearn: 0.1820333\ttest: 0.2901571\ttest1: 0.5082837\tbest: 0.4892848 (274)\ttotal: 15.9s\tremaining: 3.72s\n",
      "405:\tlearn: 0.1816782\ttest: 0.2902367\ttest1: 0.5083539\tbest: 0.4892848 (274)\ttotal: 15.9s\tremaining: 3.68s\n",
      "406:\tlearn: 0.1808877\ttest: 0.2893732\ttest1: 0.5098293\tbest: 0.4892848 (274)\ttotal: 15.9s\tremaining: 3.64s\n",
      "407:\tlearn: 0.1799658\ttest: 0.2883920\ttest1: 0.5075731\tbest: 0.4892848 (274)\ttotal: 16s\tremaining: 3.6s\n",
      "408:\tlearn: 0.1797787\ttest: 0.2883263\ttest1: 0.5075519\tbest: 0.4892848 (274)\ttotal: 16s\tremaining: 3.56s\n",
      "409:\tlearn: 0.1797208\ttest: 0.2882547\ttest1: 0.5076424\tbest: 0.4892848 (274)\ttotal: 16s\tremaining: 3.52s\n",
      "410:\tlearn: 0.1796526\ttest: 0.2882276\ttest1: 0.5078466\tbest: 0.4892848 (274)\ttotal: 16.1s\tremaining: 3.48s\n",
      "411:\tlearn: 0.1792880\ttest: 0.2883508\ttest1: 0.5077633\tbest: 0.4892848 (274)\ttotal: 16.1s\tremaining: 3.44s\n",
      "412:\tlearn: 0.1789377\ttest: 0.2880723\ttest1: 0.5081477\tbest: 0.4892848 (274)\ttotal: 16.2s\tremaining: 3.4s\n",
      "413:\tlearn: 0.1788089\ttest: 0.2878687\ttest1: 0.5089896\tbest: 0.4892848 (274)\ttotal: 16.2s\tremaining: 3.37s\n",
      "414:\tlearn: 0.1782343\ttest: 0.2876249\ttest1: 0.5084805\tbest: 0.4892848 (274)\ttotal: 16.2s\tremaining: 3.33s\n",
      "415:\tlearn: 0.1778543\ttest: 0.2875149\ttest1: 0.5076980\tbest: 0.4892848 (274)\ttotal: 16.3s\tremaining: 3.29s\n",
      "416:\tlearn: 0.1776248\ttest: 0.2873411\ttest1: 0.5076008\tbest: 0.4892848 (274)\ttotal: 16.3s\tremaining: 3.25s\n",
      "417:\tlearn: 0.1770660\ttest: 0.2869119\ttest1: 0.5084068\tbest: 0.4892848 (274)\ttotal: 16.4s\tremaining: 3.21s\n",
      "418:\tlearn: 0.1769121\ttest: 0.2869372\ttest1: 0.5081304\tbest: 0.4892848 (274)\ttotal: 16.4s\tremaining: 3.17s\n",
      "419:\tlearn: 0.1766159\ttest: 0.2867385\ttest1: 0.5081794\tbest: 0.4892848 (274)\ttotal: 16.5s\tremaining: 3.13s\n",
      "420:\tlearn: 0.1763295\ttest: 0.2863212\ttest1: 0.5080434\tbest: 0.4892848 (274)\ttotal: 16.5s\tremaining: 3.1s\n",
      "421:\tlearn: 0.1762790\ttest: 0.2862325\ttest1: 0.5080565\tbest: 0.4892848 (274)\ttotal: 16.5s\tremaining: 3.06s\n",
      "422:\tlearn: 0.1760859\ttest: 0.2858772\ttest1: 0.5088110\tbest: 0.4892848 (274)\ttotal: 16.6s\tremaining: 3.02s\n",
      "423:\tlearn: 0.1759516\ttest: 0.2857317\ttest1: 0.5098132\tbest: 0.4892848 (274)\ttotal: 16.6s\tremaining: 2.98s\n",
      "424:\tlearn: 0.1753062\ttest: 0.2851483\ttest1: 0.5095249\tbest: 0.4892848 (274)\ttotal: 16.6s\tremaining: 2.94s\n",
      "425:\tlearn: 0.1751969\ttest: 0.2850436\ttest1: 0.5100844\tbest: 0.4892848 (274)\ttotal: 16.7s\tremaining: 2.9s\n",
      "426:\tlearn: 0.1742646\ttest: 0.2840704\ttest1: 0.5107682\tbest: 0.4892848 (274)\ttotal: 16.7s\tremaining: 2.86s\n",
      "427:\tlearn: 0.1732962\ttest: 0.2829740\ttest1: 0.5102260\tbest: 0.4892848 (274)\ttotal: 16.8s\tremaining: 2.82s\n",
      "428:\tlearn: 0.1731273\ttest: 0.2826993\ttest1: 0.5098680\tbest: 0.4892848 (274)\ttotal: 16.8s\tremaining: 2.78s\n",
      "429:\tlearn: 0.1728554\ttest: 0.2824764\ttest1: 0.5103532\tbest: 0.4892848 (274)\ttotal: 16.8s\tremaining: 2.74s\n",
      "430:\tlearn: 0.1717325\ttest: 0.2816987\ttest1: 0.5116507\tbest: 0.4892848 (274)\ttotal: 16.9s\tremaining: 2.7s\n",
      "431:\tlearn: 0.1716261\ttest: 0.2816218\ttest1: 0.5117278\tbest: 0.4892848 (274)\ttotal: 16.9s\tremaining: 2.66s\n",
      "432:\tlearn: 0.1706182\ttest: 0.2809404\ttest1: 0.5133963\tbest: 0.4892848 (274)\ttotal: 17s\tremaining: 2.63s\n",
      "433:\tlearn: 0.1703316\ttest: 0.2810564\ttest1: 0.5129141\tbest: 0.4892848 (274)\ttotal: 17s\tremaining: 2.59s\n",
      "434:\tlearn: 0.1702410\ttest: 0.2809816\ttest1: 0.5129515\tbest: 0.4892848 (274)\ttotal: 17s\tremaining: 2.55s\n",
      "435:\tlearn: 0.1697149\ttest: 0.2809852\ttest1: 0.5128354\tbest: 0.4892848 (274)\ttotal: 17.1s\tremaining: 2.51s\n",
      "436:\tlearn: 0.1693477\ttest: 0.2807708\ttest1: 0.5130690\tbest: 0.4892848 (274)\ttotal: 17.1s\tremaining: 2.47s\n",
      "437:\tlearn: 0.1692176\ttest: 0.2805624\ttest1: 0.5132037\tbest: 0.4892848 (274)\ttotal: 17.2s\tremaining: 2.43s\n",
      "438:\tlearn: 0.1691402\ttest: 0.2805015\ttest1: 0.5132412\tbest: 0.4892848 (274)\ttotal: 17.2s\tremaining: 2.39s\n",
      "439:\tlearn: 0.1686090\ttest: 0.2797156\ttest1: 0.5129205\tbest: 0.4892848 (274)\ttotal: 17.3s\tremaining: 2.35s\n",
      "440:\tlearn: 0.1683715\ttest: 0.2799825\ttest1: 0.5129857\tbest: 0.4892848 (274)\ttotal: 17.3s\tremaining: 2.32s\n",
      "441:\tlearn: 0.1676776\ttest: 0.2792663\ttest1: 0.5122236\tbest: 0.4892848 (274)\ttotal: 17.4s\tremaining: 2.28s\n",
      "442:\tlearn: 0.1671079\ttest: 0.2786786\ttest1: 0.5126976\tbest: 0.4892848 (274)\ttotal: 17.4s\tremaining: 2.24s\n",
      "443:\tlearn: 0.1668196\ttest: 0.2786036\ttest1: 0.5129770\tbest: 0.4892848 (274)\ttotal: 17.4s\tremaining: 2.2s\n",
      "444:\tlearn: 0.1666108\ttest: 0.2785060\ttest1: 0.5124693\tbest: 0.4892848 (274)\ttotal: 17.5s\tremaining: 2.16s\n",
      "445:\tlearn: 0.1665024\ttest: 0.2785079\ttest1: 0.5123391\tbest: 0.4892848 (274)\ttotal: 17.5s\tremaining: 2.12s\n",
      "446:\tlearn: 0.1660513\ttest: 0.2782466\ttest1: 0.5126958\tbest: 0.4892848 (274)\ttotal: 17.6s\tremaining: 2.08s\n",
      "447:\tlearn: 0.1658780\ttest: 0.2783454\ttest1: 0.5124323\tbest: 0.4892848 (274)\ttotal: 17.6s\tremaining: 2.05s\n",
      "448:\tlearn: 0.1653109\ttest: 0.2777294\ttest1: 0.5132395\tbest: 0.4892848 (274)\ttotal: 17.7s\tremaining: 2.01s\n",
      "449:\tlearn: 0.1643123\ttest: 0.2766598\ttest1: 0.5144270\tbest: 0.4892848 (274)\ttotal: 17.7s\tremaining: 1.97s\n",
      "450:\tlearn: 0.1640935\ttest: 0.2764190\ttest1: 0.5143951\tbest: 0.4892848 (274)\ttotal: 17.7s\tremaining: 1.93s\n",
      "451:\tlearn: 0.1634330\ttest: 0.2757250\ttest1: 0.5141701\tbest: 0.4892848 (274)\ttotal: 17.8s\tremaining: 1.89s\n",
      "452:\tlearn: 0.1632548\ttest: 0.2756232\ttest1: 0.5136750\tbest: 0.4892848 (274)\ttotal: 17.8s\tremaining: 1.85s\n",
      "453:\tlearn: 0.1626990\ttest: 0.2753519\ttest1: 0.5130111\tbest: 0.4892848 (274)\ttotal: 17.9s\tremaining: 1.81s\n",
      "454:\tlearn: 0.1623388\ttest: 0.2751397\ttest1: 0.5134162\tbest: 0.4892848 (274)\ttotal: 17.9s\tremaining: 1.77s\n",
      "455:\tlearn: 0.1618911\ttest: 0.2748196\ttest1: 0.5122706\tbest: 0.4892848 (274)\ttotal: 18s\tremaining: 1.73s\n",
      "456:\tlearn: 0.1615736\ttest: 0.2744618\ttest1: 0.5116340\tbest: 0.4892848 (274)\ttotal: 18s\tremaining: 1.7s\n",
      "457:\tlearn: 0.1611973\ttest: 0.2742340\ttest1: 0.5116351\tbest: 0.4892848 (274)\ttotal: 18.1s\tremaining: 1.66s\n",
      "458:\tlearn: 0.1606491\ttest: 0.2737442\ttest1: 0.5114402\tbest: 0.4892848 (274)\ttotal: 18.1s\tremaining: 1.62s\n",
      "459:\tlearn: 0.1603361\ttest: 0.2736216\ttest1: 0.5120002\tbest: 0.4892848 (274)\ttotal: 18.2s\tremaining: 1.58s\n",
      "460:\tlearn: 0.1601986\ttest: 0.2735036\ttest1: 0.5121139\tbest: 0.4892848 (274)\ttotal: 18.2s\tremaining: 1.54s\n",
      "461:\tlearn: 0.1601032\ttest: 0.2734022\ttest1: 0.5128827\tbest: 0.4892848 (274)\ttotal: 18.3s\tremaining: 1.51s\n",
      "462:\tlearn: 0.1599249\ttest: 0.2732405\ttest1: 0.5125417\tbest: 0.4892848 (274)\ttotal: 18.4s\tremaining: 1.47s\n",
      "463:\tlearn: 0.1592521\ttest: 0.2720331\ttest1: 0.5126399\tbest: 0.4892848 (274)\ttotal: 18.5s\tremaining: 1.44s\n",
      "464:\tlearn: 0.1590256\ttest: 0.2718467\ttest1: 0.5131174\tbest: 0.4892848 (274)\ttotal: 18.5s\tremaining: 1.4s\n",
      "465:\tlearn: 0.1587143\ttest: 0.2716231\ttest1: 0.5130802\tbest: 0.4892848 (274)\ttotal: 18.6s\tremaining: 1.36s\n",
      "466:\tlearn: 0.1584801\ttest: 0.2711820\ttest1: 0.5126774\tbest: 0.4892848 (274)\ttotal: 18.6s\tremaining: 1.32s\n",
      "467:\tlearn: 0.1583981\ttest: 0.2710166\ttest1: 0.5124412\tbest: 0.4892848 (274)\ttotal: 18.7s\tremaining: 1.28s\n",
      "468:\tlearn: 0.1582028\ttest: 0.2709406\ttest1: 0.5131025\tbest: 0.4892848 (274)\ttotal: 18.7s\tremaining: 1.24s\n",
      "469:\tlearn: 0.1580735\ttest: 0.2707349\ttest1: 0.5133907\tbest: 0.4892848 (274)\ttotal: 18.8s\tremaining: 1.2s\n",
      "470:\tlearn: 0.1577761\ttest: 0.2706632\ttest1: 0.5132664\tbest: 0.4892848 (274)\ttotal: 18.8s\tremaining: 1.16s\n",
      "471:\tlearn: 0.1576753\ttest: 0.2707268\ttest1: 0.5130550\tbest: 0.4892848 (274)\ttotal: 18.8s\tremaining: 1.11s\n",
      "472:\tlearn: 0.1574106\ttest: 0.2706323\ttest1: 0.5130858\tbest: 0.4892848 (274)\ttotal: 18.9s\tremaining: 1.08s\n",
      "473:\tlearn: 0.1573413\ttest: 0.2705202\ttest1: 0.5135626\tbest: 0.4892848 (274)\ttotal: 18.9s\tremaining: 1.04s\n",
      "474:\tlearn: 0.1567451\ttest: 0.2701504\ttest1: 0.5128915\tbest: 0.4892848 (274)\ttotal: 18.9s\tremaining: 997ms\n",
      "475:\tlearn: 0.1566786\ttest: 0.2700937\ttest1: 0.5129445\tbest: 0.4892848 (274)\ttotal: 19s\tremaining: 957ms\n",
      "476:\tlearn: 0.1564149\ttest: 0.2698182\ttest1: 0.5129369\tbest: 0.4892848 (274)\ttotal: 19s\tremaining: 917ms\n",
      "477:\tlearn: 0.1563760\ttest: 0.2698291\ttest1: 0.5129361\tbest: 0.4892848 (274)\ttotal: 19.1s\tremaining: 877ms\n"
     ]
    },
    {
     "name": "stdout",
     "output_type": "stream",
     "text": [
      "478:\tlearn: 0.1562251\ttest: 0.2698958\ttest1: 0.5132206\tbest: 0.4892848 (274)\ttotal: 19.1s\tremaining: 837ms\n",
      "479:\tlearn: 0.1560638\ttest: 0.2696250\ttest1: 0.5133843\tbest: 0.4892848 (274)\ttotal: 19.1s\tremaining: 797ms\n",
      "480:\tlearn: 0.1560014\ttest: 0.2696391\ttest1: 0.5132877\tbest: 0.4892848 (274)\ttotal: 19.2s\tremaining: 757ms\n",
      "481:\tlearn: 0.1557931\ttest: 0.2696500\ttest1: 0.5139180\tbest: 0.4892848 (274)\ttotal: 19.2s\tremaining: 717ms\n",
      "482:\tlearn: 0.1553306\ttest: 0.2698648\ttest1: 0.5145111\tbest: 0.4892848 (274)\ttotal: 19.2s\tremaining: 677ms\n",
      "483:\tlearn: 0.1550302\ttest: 0.2699154\ttest1: 0.5148882\tbest: 0.4892848 (274)\ttotal: 19.3s\tremaining: 637ms\n",
      "484:\tlearn: 0.1541863\ttest: 0.2693593\ttest1: 0.5165651\tbest: 0.4892848 (274)\ttotal: 19.3s\tremaining: 597ms\n",
      "485:\tlearn: 0.1539204\ttest: 0.2693097\ttest1: 0.5165435\tbest: 0.4892848 (274)\ttotal: 19.3s\tremaining: 557ms\n",
      "486:\tlearn: 0.1535368\ttest: 0.2694316\ttest1: 0.5161344\tbest: 0.4892848 (274)\ttotal: 19.4s\tremaining: 517ms\n",
      "487:\tlearn: 0.1527414\ttest: 0.2688406\ttest1: 0.5166797\tbest: 0.4892848 (274)\ttotal: 19.4s\tremaining: 478ms\n",
      "488:\tlearn: 0.1526907\ttest: 0.2687795\ttest1: 0.5170335\tbest: 0.4892848 (274)\ttotal: 19.5s\tremaining: 438ms\n",
      "489:\tlearn: 0.1525949\ttest: 0.2686909\ttest1: 0.5175649\tbest: 0.4892848 (274)\ttotal: 19.5s\tremaining: 398ms\n",
      "490:\tlearn: 0.1525737\ttest: 0.2686917\ttest1: 0.5175513\tbest: 0.4892848 (274)\ttotal: 19.5s\tremaining: 358ms\n",
      "491:\tlearn: 0.1515343\ttest: 0.2682541\ttest1: 0.5179266\tbest: 0.4892848 (274)\ttotal: 19.6s\tremaining: 318ms\n",
      "492:\tlearn: 0.1513472\ttest: 0.2682632\ttest1: 0.5177485\tbest: 0.4892848 (274)\ttotal: 19.6s\tremaining: 279ms\n",
      "493:\tlearn: 0.1509399\ttest: 0.2679260\ttest1: 0.5181456\tbest: 0.4892848 (274)\ttotal: 19.7s\tremaining: 239ms\n",
      "494:\tlearn: 0.1507341\ttest: 0.2677334\ttest1: 0.5181763\tbest: 0.4892848 (274)\ttotal: 19.7s\tremaining: 199ms\n",
      "495:\tlearn: 0.1506872\ttest: 0.2677467\ttest1: 0.5183347\tbest: 0.4892848 (274)\ttotal: 19.7s\tremaining: 159ms\n",
      "496:\tlearn: 0.1504314\ttest: 0.2676857\ttest1: 0.5180349\tbest: 0.4892848 (274)\ttotal: 19.8s\tremaining: 119ms\n",
      "497:\tlearn: 0.1503267\ttest: 0.2676283\ttest1: 0.5181045\tbest: 0.4892848 (274)\ttotal: 19.8s\tremaining: 79.6ms\n",
      "498:\tlearn: 0.1499818\ttest: 0.2680143\ttest1: 0.5176580\tbest: 0.4892848 (274)\ttotal: 19.9s\tremaining: 39.8ms\n",
      "499:\tlearn: 0.1498410\ttest: 0.2680015\ttest1: 0.5174432\tbest: 0.4892848 (274)\ttotal: 19.9s\tremaining: 0us\n",
      "\n",
      "bestTest = 0.4892848354\n",
      "bestIteration = 274\n",
      "\n",
      "Shrink model to first 275 iterations.\n"
     ]
    },
    {
     "data": {
      "text/plain": [
       "<catboost.core.CatBoostClassifier at 0x182ffdf3a00>"
      ]
     },
     "execution_count": 35,
     "metadata": {},
     "output_type": "execute_result"
    }
   ],
   "source": [
    "train_pool = create_train_pool()\n",
    "eval_set, cat_boost_model = define_model_parameters()\n",
    "\n",
    "cat_boost_model.fit( \n",
    "    train_pool,\n",
    "    eval_set = eval_set\n",
    "    )"
   ]
  },
  {
   "cell_type": "code",
   "execution_count": 36,
   "metadata": {
    "colab": {
     "base_uri": "https://localhost:8080/"
    },
    "id": "cLBivnrsUisV",
    "outputId": "bb64286e-acac-414c-f20f-7d417ff97362"
   },
   "outputs": [
    {
     "name": "stdout",
     "output_type": "stream",
     "text": [
      "accuracy_score:  0.7540983606557377\n",
      "classification_report: \n",
      "               precision    recall  f1-score   support\n",
      "\n",
      "           A       0.77      0.83      0.80        36\n",
      "           F       0.73      0.64      0.68        25\n",
      "\n",
      "    accuracy                           0.75        61\n",
      "   macro avg       0.75      0.74      0.74        61\n",
      "weighted avg       0.75      0.75      0.75        61\n",
      "\n"
     ]
    },
    {
     "data": {
      "text/plain": [
       "<matplotlib.axes._subplots.AxesSubplot at 0x182ffe0bb50>"
      ]
     },
     "execution_count": 36,
     "metadata": {},
     "output_type": "execute_result"
    },
    {
     "data": {
      "image/png": "[encoded data removed]",
      "text/plain": [
       "<Figure size 432x288 with 2 Axes>"
      ]
     },
     "metadata": {
      "needs_background": "light"
     },
     "output_type": "display_data"
    }
   ],
   "source": [
    "accuracy, cf_matrix, class_report = get_metrics(cat_boost_model, x_test, y_test)\n",
    "print(\"accuracy_score: \", accuracy)\n",
    "print(\"classification_report: \\n\", class_report)\n",
    "sns.heatmap(cf_matrix, annot = True, xticklabels = grades, yticklabels = grades, cmap = 'Blues')"
   ]
  },
  {
   "cell_type": "code",
   "execution_count": null,
   "metadata": {},
   "outputs": [],
   "source": []
  }
 ],
 "metadata": {
  "colab": {
   "collapsed_sections": [
    "eAC-ZRKuE3La",
    "vxDI1pmRE_tX",
    "cHFxoRoBFQVe",
    "qxbKCzve6IN5",
    "mEBcRKiF7b_C",
    "WaWhfXpvFhXu",
    "Pp3mO84h8zSx",
    "UH64IeXWlBDo",
    "r6WkH8VMWP0j",
    "IP9uQoDZX4Ql",
    "Q6FrlZ53p2k8"
   ],
   "provenance": []
  },
  "gpuClass": "standard",
  "kernelspec": {
   "display_name": "Python 3",
   "language": "python",
   "name": "python3"
  },
  "language_info": {
   "codemirror_mode": {
    "name": "ipython",
    "version": 3
   },
   "file_extension": ".py",
   "mimetype": "text/x-python",
   "name": "python",
   "nbconvert_exporter": "python",
   "pygments_lexer": "ipython3",
   "version": "3.8.3"
  }
 },
 "nbformat": 4,
 "nbformat_minor": 1
}
